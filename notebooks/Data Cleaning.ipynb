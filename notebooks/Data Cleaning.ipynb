{
 "cells": [
  {
   "cell_type": "markdown",
   "id": "b3699401",
   "metadata": {},
   "source": [
    "# Data cleaning and feature creation\n",
    "Often writes data to data/processed or data/interim"
   ]
  },
  {
   "cell_type": "code",
   "execution_count": 1,
   "id": "4179a798",
   "metadata": {},
   "outputs": [],
   "source": [
    "import polars as pl\n",
    "import os\n",
    "\n",
    "DATA_PATH = \"../data/raw\""
   ]
  },
  {
   "cell_type": "code",
   "execution_count": 24,
   "id": "6cfaef1b",
   "metadata": {},
   "outputs": [
    {
     "name": "stdout",
     "output_type": "stream",
     "text": [
      "Loading file: ResaleFlatPricesBasedonRegistrationDateFromJan2015toDec2016.csv\n",
      "Loading file: ResaleflatpricesbasedonregistrationdatefromJan2017onwards.csv\n",
      "Loading file: ResaleFlatPricesBasedonRegistrationDateFromMar2012toDec2014.csv\n",
      "Loaded 3 files.\n"
     ]
    }
   ],
   "source": [
    "# Load data\n",
    "file_names = [x for x in os.listdir(DATA_PATH) if \".csv\" in x]  # List all CSV files in the raw data directory\n",
    "\n",
    "df_list = []\n",
    "for file in file_names:\n",
    "    print(\"Loading file:\", file)\n",
    "    df = pl.scan_csv(os.path.join(DATA_PATH, file), infer_schema=False)\n",
    "    df_list.append(df)\n",
    "print(\"Loaded\", len(df_list), \"files.\")"
   ]
  },
  {
   "cell_type": "code",
   "execution_count": 36,
   "id": "0153fdc1",
   "metadata": {},
   "outputs": [],
   "source": [
    "# Combine lazyframes into a single lazyframe\n",
    "df_combined = pl.concat(df_list, how=\"align_full\")\n",
    "df_combined_col = df_combined.collect()"
   ]
  },
  {
   "cell_type": "code",
   "execution_count": 37,
   "id": "5cc27107",
   "metadata": {},
   "outputs": [
    {
     "data": {
      "text/html": [
       "<div><style>\n",
       ".dataframe > thead > tr,\n",
       ".dataframe > tbody > tr {\n",
       "  text-align: right;\n",
       "  white-space: pre-wrap;\n",
       "}\n",
       "</style>\n",
       "<small>shape: (5, 11)</small><table border=\"1\" class=\"dataframe\"><thead><tr><th>month</th><th>town</th><th>flat_type</th><th>block</th><th>street_name</th><th>storey_range</th><th>floor_area_sqm</th><th>flat_model</th><th>lease_commence_date</th><th>remaining_lease</th><th>resale_price</th></tr><tr><td>str</td><td>str</td><td>str</td><td>str</td><td>str</td><td>str</td><td>str</td><td>str</td><td>str</td><td>str</td><td>str</td></tr></thead><tbody><tr><td>&quot;2012-03&quot;</td><td>&quot;ANG MO KIO&quot;</td><td>&quot;2 ROOM&quot;</td><td>&quot;172&quot;</td><td>&quot;ANG MO KIO AVE 4&quot;</td><td>&quot;06 TO 10&quot;</td><td>&quot;45&quot;</td><td>&quot;Improved&quot;</td><td>&quot;1986&quot;</td><td>null</td><td>&quot;250000&quot;</td></tr><tr><td>&quot;2012-03&quot;</td><td>&quot;ANG MO KIO&quot;</td><td>&quot;2 ROOM&quot;</td><td>&quot;510&quot;</td><td>&quot;ANG MO KIO AVE 8&quot;</td><td>&quot;01 TO 05&quot;</td><td>&quot;44&quot;</td><td>&quot;Improved&quot;</td><td>&quot;1980&quot;</td><td>null</td><td>&quot;265000&quot;</td></tr><tr><td>&quot;2012-03&quot;</td><td>&quot;ANG MO KIO&quot;</td><td>&quot;3 ROOM&quot;</td><td>&quot;103&quot;</td><td>&quot;ANG MO KIO AVE 3&quot;</td><td>&quot;06 TO 10&quot;</td><td>&quot;73&quot;</td><td>&quot;New Generation&quot;</td><td>&quot;1978&quot;</td><td>null</td><td>&quot;368000&quot;</td></tr><tr><td>&quot;2012-03&quot;</td><td>&quot;ANG MO KIO&quot;</td><td>&quot;3 ROOM&quot;</td><td>&quot;110&quot;</td><td>&quot;ANG MO KIO AVE 4&quot;</td><td>&quot;01 TO 05&quot;</td><td>&quot;67&quot;</td><td>&quot;New Generation&quot;</td><td>&quot;1978&quot;</td><td>null</td><td>&quot;323000&quot;</td></tr><tr><td>&quot;2012-03&quot;</td><td>&quot;ANG MO KIO&quot;</td><td>&quot;3 ROOM&quot;</td><td>&quot;114&quot;</td><td>&quot;ANG MO KIO AVE 4&quot;</td><td>&quot;01 TO 05&quot;</td><td>&quot;73&quot;</td><td>&quot;New Generation&quot;</td><td>&quot;1978&quot;</td><td>null</td><td>&quot;339000&quot;</td></tr></tbody></table></div>"
      ],
      "text/plain": [
       "shape: (5, 11)\n",
       "┌─────────┬────────────┬───────────┬───────┬───┬────────────┬────────────┬────────────┬────────────┐\n",
       "│ month   ┆ town       ┆ flat_type ┆ block ┆ … ┆ flat_model ┆ lease_comm ┆ remaining_ ┆ resale_pri │\n",
       "│ ---     ┆ ---        ┆ ---       ┆ ---   ┆   ┆ ---        ┆ ence_date  ┆ lease      ┆ ce         │\n",
       "│ str     ┆ str        ┆ str       ┆ str   ┆   ┆ str        ┆ ---        ┆ ---        ┆ ---        │\n",
       "│         ┆            ┆           ┆       ┆   ┆            ┆ str        ┆ str        ┆ str        │\n",
       "╞═════════╪════════════╪═══════════╪═══════╪═══╪════════════╪════════════╪════════════╪════════════╡\n",
       "│ 2012-03 ┆ ANG MO KIO ┆ 2 ROOM    ┆ 172   ┆ … ┆ Improved   ┆ 1986       ┆ null       ┆ 250000     │\n",
       "│ 2012-03 ┆ ANG MO KIO ┆ 2 ROOM    ┆ 510   ┆ … ┆ Improved   ┆ 1980       ┆ null       ┆ 265000     │\n",
       "│ 2012-03 ┆ ANG MO KIO ┆ 3 ROOM    ┆ 103   ┆ … ┆ New        ┆ 1978       ┆ null       ┆ 368000     │\n",
       "│         ┆            ┆           ┆       ┆   ┆ Generation ┆            ┆            ┆            │\n",
       "│ 2012-03 ┆ ANG MO KIO ┆ 3 ROOM    ┆ 110   ┆ … ┆ New        ┆ 1978       ┆ null       ┆ 323000     │\n",
       "│         ┆            ┆           ┆       ┆   ┆ Generation ┆            ┆            ┆            │\n",
       "│ 2012-03 ┆ ANG MO KIO ┆ 3 ROOM    ┆ 114   ┆ … ┆ New        ┆ 1978       ┆ null       ┆ 339000     │\n",
       "│         ┆            ┆           ┆       ┆   ┆ Generation ┆            ┆            ┆            │\n",
       "└─────────┴────────────┴───────────┴───────┴───┴────────────┴────────────┴────────────┴────────────┘"
      ]
     },
     "execution_count": 37,
     "metadata": {},
     "output_type": "execute_result"
    }
   ],
   "source": [
    "# Convert datatype\n",
    "df_combined_col.head()"
   ]
  },
  {
   "cell_type": "code",
   "execution_count": 38,
   "id": "95cbb1e7",
   "metadata": {},
   "outputs": [
    {
     "data": {
      "text/html": [
       "<div><style>\n",
       ".dataframe > thead > tr,\n",
       ".dataframe > tbody > tr {\n",
       "  text-align: right;\n",
       "  white-space: pre-wrap;\n",
       "}\n",
       "</style>\n",
       "<small>shape: (5, 11)</small><table border=\"1\" class=\"dataframe\"><thead><tr><th>month</th><th>town</th><th>flat_type</th><th>block</th><th>street_name</th><th>storey_range</th><th>floor_area_sqm</th><th>flat_model</th><th>lease_commence_date</th><th>remaining_lease</th><th>resale_price</th></tr><tr><td>date</td><td>str</td><td>str</td><td>str</td><td>str</td><td>str</td><td>f64</td><td>str</td><td>i64</td><td>str</td><td>f64</td></tr></thead><tbody><tr><td>2012-03-01</td><td>&quot;ANG MO KIO&quot;</td><td>&quot;2 ROOM&quot;</td><td>&quot;172&quot;</td><td>&quot;ANG MO KIO AVE 4&quot;</td><td>&quot;06 TO 10&quot;</td><td>45.0</td><td>&quot;Improved&quot;</td><td>1986</td><td>null</td><td>250000.0</td></tr><tr><td>2012-03-01</td><td>&quot;ANG MO KIO&quot;</td><td>&quot;2 ROOM&quot;</td><td>&quot;510&quot;</td><td>&quot;ANG MO KIO AVE 8&quot;</td><td>&quot;01 TO 05&quot;</td><td>44.0</td><td>&quot;Improved&quot;</td><td>1980</td><td>null</td><td>265000.0</td></tr><tr><td>2012-03-01</td><td>&quot;ANG MO KIO&quot;</td><td>&quot;3 ROOM&quot;</td><td>&quot;103&quot;</td><td>&quot;ANG MO KIO AVE 3&quot;</td><td>&quot;06 TO 10&quot;</td><td>73.0</td><td>&quot;New Generation&quot;</td><td>1978</td><td>null</td><td>368000.0</td></tr><tr><td>2012-03-01</td><td>&quot;ANG MO KIO&quot;</td><td>&quot;3 ROOM&quot;</td><td>&quot;110&quot;</td><td>&quot;ANG MO KIO AVE 4&quot;</td><td>&quot;01 TO 05&quot;</td><td>67.0</td><td>&quot;New Generation&quot;</td><td>1978</td><td>null</td><td>323000.0</td></tr><tr><td>2012-03-01</td><td>&quot;ANG MO KIO&quot;</td><td>&quot;3 ROOM&quot;</td><td>&quot;114&quot;</td><td>&quot;ANG MO KIO AVE 4&quot;</td><td>&quot;01 TO 05&quot;</td><td>73.0</td><td>&quot;New Generation&quot;</td><td>1978</td><td>null</td><td>339000.0</td></tr></tbody></table></div>"
      ],
      "text/plain": [
       "shape: (5, 11)\n",
       "┌─────────────┬────────┬───────────┬───────┬───┬────────────┬────────────┬────────────┬────────────┐\n",
       "│ month       ┆ town   ┆ flat_type ┆ block ┆ … ┆ flat_model ┆ lease_comm ┆ remaining_ ┆ resale_pri │\n",
       "│ ---         ┆ ---    ┆ ---       ┆ ---   ┆   ┆ ---        ┆ ence_date  ┆ lease      ┆ ce         │\n",
       "│ date        ┆ str    ┆ str       ┆ str   ┆   ┆ str        ┆ ---        ┆ ---        ┆ ---        │\n",
       "│             ┆        ┆           ┆       ┆   ┆            ┆ i64        ┆ str        ┆ f64        │\n",
       "╞═════════════╪════════╪═══════════╪═══════╪═══╪════════════╪════════════╪════════════╪════════════╡\n",
       "│ 2012-03-01  ┆ ANG MO ┆ 2 ROOM    ┆ 172   ┆ … ┆ Improved   ┆ 1986       ┆ null       ┆ 250000.0   │\n",
       "│             ┆ KIO    ┆           ┆       ┆   ┆            ┆            ┆            ┆            │\n",
       "│ 2012-03-01  ┆ ANG MO ┆ 2 ROOM    ┆ 510   ┆ … ┆ Improved   ┆ 1980       ┆ null       ┆ 265000.0   │\n",
       "│             ┆ KIO    ┆           ┆       ┆   ┆            ┆            ┆            ┆            │\n",
       "│ 2012-03-01  ┆ ANG MO ┆ 3 ROOM    ┆ 103   ┆ … ┆ New        ┆ 1978       ┆ null       ┆ 368000.0   │\n",
       "│             ┆ KIO    ┆           ┆       ┆   ┆ Generation ┆            ┆            ┆            │\n",
       "│ 2012-03-01  ┆ ANG MO ┆ 3 ROOM    ┆ 110   ┆ … ┆ New        ┆ 1978       ┆ null       ┆ 323000.0   │\n",
       "│             ┆ KIO    ┆           ┆       ┆   ┆ Generation ┆            ┆            ┆            │\n",
       "│ 2012-03-01  ┆ ANG MO ┆ 3 ROOM    ┆ 114   ┆ … ┆ New        ┆ 1978       ┆ null       ┆ 339000.0   │\n",
       "│             ┆ KIO    ┆           ┆       ┆   ┆ Generation ┆            ┆            ┆            │\n",
       "└─────────────┴────────┴───────────┴───────┴───┴────────────┴────────────┴────────────┴────────────┘"
      ]
     },
     "execution_count": 38,
     "metadata": {},
     "output_type": "execute_result"
    }
   ],
   "source": [
    "# Convert variables to appropriate types\n",
    "df_combined_col = df_combined_col.with_columns(\n",
    "    pl.col(\"resale_price\").cast(pl.Float64),\n",
    "    pl.col(\"lease_commence_date\").cast(pl.Int64),\n",
    "    pl.col(\"floor_area_sqm\").cast(pl.Float64),\n",
    "    pl.col(\"month\").str.to_date(\"%Y-%m\")\n",
    ")\n",
    "df_combined_col.head()"
   ]
  },
  {
   "cell_type": "code",
   "execution_count": 52,
   "id": "306049b6",
   "metadata": {},
   "outputs": [
    {
     "name": "stdout",
     "output_type": "stream",
     "text": [
      "Null counts in each column:\n",
      "shape: (1, 13)\n",
      "┌───────┬──────┬───────────┬───────┬───┬──────────────┬──────────────┬──────────────┬──────────────┐\n",
      "│ month ┆ town ┆ flat_type ┆ block ┆ … ┆ remaining_le ┆ resale_price ┆ remaining_le ┆ days_from_ea │\n",
      "│ ---   ┆ ---  ┆ ---       ┆ ---   ┆   ┆ ase          ┆ ---          ┆ ase_yrs      ┆ rliest_data  │\n",
      "│ u32   ┆ u32  ┆ u32       ┆ u32   ┆   ┆ ---          ┆ u32          ┆ ---          ┆ ---          │\n",
      "│       ┆      ┆           ┆       ┆   ┆ u32          ┆              ┆ u32          ┆ u32          │\n",
      "╞═══════╪══════╪═══════════╪═══════╪═══╪══════════════╪══════════════╪══════════════╪══════════════╡\n",
      "│ 0     ┆ 0    ┆ 0         ┆ 0     ┆ … ┆ 265657       ┆ 0            ┆ 0            ┆ 0            │\n",
      "└───────┴──────┴───────────┴───────┴───┴──────────────┴──────────────┴──────────────┴──────────────┘\n"
     ]
    }
   ],
   "source": [
    "# Check for nulls\n",
    "null_counts = df_combined_col.null_count()\n",
    "print(\"Null counts in each column:\")\n",
    "print(null_counts)"
   ]
  },
  {
   "cell_type": "code",
   "execution_count": 51,
   "id": "84c88b7f",
   "metadata": {},
   "outputs": [],
   "source": [
    "# Calculate months from earliest month in dataset (Mar-2012)\n",
    "df_combined_col = df_combined_col.with_columns(\n",
    "    remaining_lease_yrs = (pl.col(\"month\").dt.year() - pl.col(\"lease_commence_date\")),\n",
    "    days_from_earliest_data = (pl.col('month') - pl.date(2012, 3, 1)).dt.total_days()\n",
    ")"
   ]
  },
  {
   "cell_type": "code",
   "execution_count": 53,
   "id": "c93faaa9",
   "metadata": {},
   "outputs": [],
   "source": [
    "# Remaining lease can be dropped and recalculated on the assumption that each lease lasts for 99 years.\n",
    "df_combined_col = df_combined_col.drop(\"remaining_lease\")"
   ]
  },
  {
   "cell_type": "code",
   "execution_count": 62,
   "id": "9f02963f",
   "metadata": {},
   "outputs": [
    {
     "data": {
      "text/html": [
       "<div><style>\n",
       ".dataframe > thead > tr,\n",
       ".dataframe > tbody > tr {\n",
       "  text-align: right;\n",
       "  white-space: pre-wrap;\n",
       "}\n",
       "</style>\n",
       "<small>shape: (26, 1)</small><table border=\"1\" class=\"dataframe\"><thead><tr><th>town</th></tr><tr><td>str</td></tr></thead><tbody><tr><td>&quot;HOUGANG&quot;</td></tr><tr><td>&quot;JURONG WEST&quot;</td></tr><tr><td>&quot;JURONG EAST&quot;</td></tr><tr><td>&quot;TOA PAYOH&quot;</td></tr><tr><td>&quot;SEMBAWANG&quot;</td></tr><tr><td>&quot;BEDOK&quot;</td></tr><tr><td>&quot;BUKIT BATOK&quot;</td></tr><tr><td>&quot;PUNGGOL&quot;</td></tr><tr><td>&quot;BUKIT TIMAH&quot;</td></tr><tr><td>&quot;KALLANG/WHAMPOA&quot;</td></tr><tr><td>&quot;QUEENSTOWN&quot;</td></tr><tr><td>&quot;WOODLANDS&quot;</td></tr><tr><td>&quot;YISHUN&quot;</td></tr><tr><td>&quot;PASIR RIS&quot;</td></tr><tr><td>&quot;BISHAN&quot;</td></tr><tr><td>&quot;CLEMENTI&quot;</td></tr><tr><td>&quot;CENTRAL AREA&quot;</td></tr><tr><td>&quot;MARINE PARADE&quot;</td></tr><tr><td>&quot;CHOA CHU KANG&quot;</td></tr><tr><td>&quot;TAMPINES&quot;</td></tr><tr><td>&quot;GEYLANG&quot;</td></tr><tr><td>&quot;BUKIT MERAH&quot;</td></tr><tr><td>&quot;BUKIT PANJANG&quot;</td></tr><tr><td>&quot;ANG MO KIO&quot;</td></tr><tr><td>&quot;SERANGOON&quot;</td></tr><tr><td>&quot;SENGKANG&quot;</td></tr></tbody></table></div>"
      ],
      "text/plain": [
       "shape: (26, 1)\n",
       "┌─────────────────┐\n",
       "│ town            │\n",
       "│ ---             │\n",
       "│ str             │\n",
       "╞═════════════════╡\n",
       "│ HOUGANG         │\n",
       "│ JURONG WEST     │\n",
       "│ JURONG EAST     │\n",
       "│ TOA PAYOH       │\n",
       "│ SEMBAWANG       │\n",
       "│ BEDOK           │\n",
       "│ BUKIT BATOK     │\n",
       "│ PUNGGOL         │\n",
       "│ BUKIT TIMAH     │\n",
       "│ KALLANG/WHAMPOA │\n",
       "│ QUEENSTOWN      │\n",
       "│ WOODLANDS       │\n",
       "│ YISHUN          │\n",
       "│ PASIR RIS       │\n",
       "│ BISHAN          │\n",
       "│ CLEMENTI        │\n",
       "│ CENTRAL AREA    │\n",
       "│ MARINE PARADE   │\n",
       "│ CHOA CHU KANG   │\n",
       "│ TAMPINES        │\n",
       "│ GEYLANG         │\n",
       "│ BUKIT MERAH     │\n",
       "│ BUKIT PANJANG   │\n",
       "│ ANG MO KIO      │\n",
       "│ SERANGOON       │\n",
       "│ SENGKANG        │\n",
       "└─────────────────┘"
      ]
     },
     "execution_count": 62,
     "metadata": {},
     "output_type": "execute_result"
    }
   ],
   "source": [
    "# Checking unique values of towns\n",
    "pl.Config.set_tbl_rows(100)\n",
    "df_combined_col.select(pl.col(\"town\").unique())"
   ]
  },
  {
   "cell_type": "code",
   "execution_count": 65,
   "id": "31eba144",
   "metadata": {},
   "outputs": [
    {
     "data": {
      "text/html": [
       "<div><style>\n",
       ".dataframe > thead > tr,\n",
       ".dataframe > tbody > tr {\n",
       "  text-align: right;\n",
       "  white-space: pre-wrap;\n",
       "}\n",
       "</style>\n",
       "<small>shape: (21, 1)</small><table border=\"1\" class=\"dataframe\"><thead><tr><th>flat_model</th></tr><tr><td>str</td></tr></thead><tbody><tr><td>&quot;Type S1&quot;</td></tr><tr><td>&quot;Model A&quot;</td></tr><tr><td>&quot;Multi Generation&quot;</td></tr><tr><td>&quot;Model A2&quot;</td></tr><tr><td>&quot;Premium Apartment Loft&quot;</td></tr><tr><td>&quot;Simplified&quot;</td></tr><tr><td>&quot;Premium Maisonette&quot;</td></tr><tr><td>&quot;Standard&quot;</td></tr><tr><td>&quot;2-room&quot;</td></tr><tr><td>&quot;Premium Apartment&quot;</td></tr><tr><td>&quot;Terrace&quot;</td></tr><tr><td>&quot;3Gen&quot;</td></tr><tr><td>&quot;DBSS&quot;</td></tr><tr><td>&quot;Apartment&quot;</td></tr><tr><td>&quot;Adjoined flat&quot;</td></tr><tr><td>&quot;New Generation&quot;</td></tr><tr><td>&quot;Type S2&quot;</td></tr><tr><td>&quot;Improved&quot;</td></tr><tr><td>&quot;Maisonette&quot;</td></tr><tr><td>&quot;Model A-Maisonette&quot;</td></tr><tr><td>&quot;Improved-Maisonette&quot;</td></tr></tbody></table></div>"
      ],
      "text/plain": [
       "shape: (21, 1)\n",
       "┌────────────────────────┐\n",
       "│ flat_model             │\n",
       "│ ---                    │\n",
       "│ str                    │\n",
       "╞════════════════════════╡\n",
       "│ Type S1                │\n",
       "│ Model A                │\n",
       "│ Multi Generation       │\n",
       "│ Model A2               │\n",
       "│ Premium Apartment Loft │\n",
       "│ Simplified             │\n",
       "│ Premium Maisonette     │\n",
       "│ Standard               │\n",
       "│ 2-room                 │\n",
       "│ Premium Apartment      │\n",
       "│ Terrace                │\n",
       "│ 3Gen                   │\n",
       "│ DBSS                   │\n",
       "│ Apartment              │\n",
       "│ Adjoined flat          │\n",
       "│ New Generation         │\n",
       "│ Type S2                │\n",
       "│ Improved               │\n",
       "│ Maisonette             │\n",
       "│ Model A-Maisonette     │\n",
       "│ Improved-Maisonette    │\n",
       "└────────────────────────┘"
      ]
     },
     "execution_count": 65,
     "metadata": {},
     "output_type": "execute_result"
    }
   ],
   "source": [
    "# Check flat type\n",
    "df_combined_col.select(pl.col(\"flat_type\").unique())\n",
    "df_combined_col.select(pl.col(\"block\").unique())\n",
    "df_combined_col.select(pl.col(\"flat_model\").unique())"
   ]
  },
  {
   "cell_type": "code",
   "execution_count": null,
   "id": "81c5c731",
   "metadata": {},
   "outputs": [],
   "source": [
    "# Check flat model futher"
   ]
  },
  {
   "cell_type": "code",
   "execution_count": null,
   "id": "13e21559",
   "metadata": {},
   "outputs": [],
   "source": [
    "# Check flat type\n",
    "df_combined_col.select(pl.col(\"flat_type\").unique())"
   ]
  },
  {
   "cell_type": "code",
   "execution_count": 61,
   "id": "9045d6fc",
   "metadata": {},
   "outputs": [
    {
     "data": {
      "text/html": [
       "<div><style>\n",
       ".dataframe > thead > tr,\n",
       ".dataframe > tbody > tr {\n",
       "  text-align: right;\n",
       "  white-space: pre-wrap;\n",
       "}\n",
       "</style>\n",
       "<small>shape: (25, 1)</small><table border=\"1\" class=\"dataframe\"><thead><tr><th>storey_range</th></tr><tr><td>str</td></tr></thead><tbody><tr><td>&quot;36 TO 40&quot;</td></tr><tr><td>&quot;16 TO 20&quot;</td></tr><tr><td>&quot;49 TO 51&quot;</td></tr><tr><td>&quot;31 TO 35&quot;</td></tr><tr><td>&quot;01 TO 03&quot;</td></tr><tr><td>&quot;19 TO 21&quot;</td></tr><tr><td>&quot;31 TO 33&quot;</td></tr><tr><td>&quot;21 TO 25&quot;</td></tr><tr><td>&quot;10 TO 12&quot;</td></tr><tr><td>&quot;01 TO 05&quot;</td></tr><tr><td>&quot;04 TO 06&quot;</td></tr><tr><td>&quot;13 TO 15&quot;</td></tr><tr><td>&quot;46 TO 48&quot;</td></tr><tr><td>&quot;34 TO 36&quot;</td></tr><tr><td>&quot;40 TO 42&quot;</td></tr><tr><td>&quot;28 TO 30&quot;</td></tr><tr><td>&quot;25 TO 27&quot;</td></tr><tr><td>&quot;06 TO 10&quot;</td></tr><tr><td>&quot;26 TO 30&quot;</td></tr><tr><td>&quot;16 TO 18&quot;</td></tr><tr><td>&quot;37 TO 39&quot;</td></tr><tr><td>&quot;11 TO 15&quot;</td></tr><tr><td>&quot;07 TO 09&quot;</td></tr><tr><td>&quot;43 TO 45&quot;</td></tr><tr><td>&quot;22 TO 24&quot;</td></tr></tbody></table></div>"
      ],
      "text/plain": [
       "shape: (25, 1)\n",
       "┌──────────────┐\n",
       "│ storey_range │\n",
       "│ ---          │\n",
       "│ str          │\n",
       "╞══════════════╡\n",
       "│ 36 TO 40     │\n",
       "│ 16 TO 20     │\n",
       "│ 49 TO 51     │\n",
       "│ 31 TO 35     │\n",
       "│ 01 TO 03     │\n",
       "│ 19 TO 21     │\n",
       "│ 31 TO 33     │\n",
       "│ 21 TO 25     │\n",
       "│ 10 TO 12     │\n",
       "│ 01 TO 05     │\n",
       "│ 04 TO 06     │\n",
       "│ 13 TO 15     │\n",
       "│ 46 TO 48     │\n",
       "│ 34 TO 36     │\n",
       "│ 40 TO 42     │\n",
       "│ 28 TO 30     │\n",
       "│ 25 TO 27     │\n",
       "│ 06 TO 10     │\n",
       "│ 26 TO 30     │\n",
       "│ 16 TO 18     │\n",
       "│ 37 TO 39     │\n",
       "│ 11 TO 15     │\n",
       "│ 07 TO 09     │\n",
       "│ 43 TO 45     │\n",
       "│ 22 TO 24     │\n",
       "└──────────────┘"
      ]
     },
     "execution_count": 61,
     "metadata": {},
     "output_type": "execute_result"
    }
   ],
   "source": [
    "# Checking unique values of storey blocks\n",
    "pl.Config.set_tbl_rows(100)\n",
    "df_combined_col.select(pl.col(\"storey_range\").unique())"
   ]
  },
  {
   "cell_type": "code",
   "execution_count": null,
   "id": "6610d65b",
   "metadata": {},
   "outputs": [],
   "source": [
    "# Create min max value for stories, then group every 15 storeys since a part of the data groups every 5 floors instead of 3 floors\n",
    "\n"
   ]
  },
  {
   "cell_type": "code",
   "execution_count": null,
   "id": "f092473f",
   "metadata": {},
   "outputs": [],
   "source": [
    "# Split into train (2017-2022), test(2023) and deploy sets (2024)\n",
    "train = df_combined_col.filter(df_combined_col['date'].dt.year().is_between(2017, 2022)).write_parquet(\"../data/processed/train.parquet\")\n",
    "test = df_combined_col.filter(df_combined_col['date'].dt.year() == 2023).write_parquet(\"../data/processed/test.parquet\")\n",
    "deploy = df_combined_col.filter(df_combined_col['date'].dt.year() == 2024).write_parquet(\"../data/processed/deploy.parquet\")"
   ]
  }
 ],
 "metadata": {
  "kernelspec": {
   "display_name": "bike-snowflake",
   "language": "python",
   "name": "python3"
  },
  "language_info": {
   "codemirror_mode": {
    "name": "ipython",
    "version": 3
   },
   "file_extension": ".py",
   "mimetype": "text/x-python",
   "name": "python",
   "nbconvert_exporter": "python",
   "pygments_lexer": "ipython3",
   "version": "3.12.11"
  }
 },
 "nbformat": 4,
 "nbformat_minor": 5
}
