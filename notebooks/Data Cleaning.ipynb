{
 "cells": [
  {
   "cell_type": "markdown",
   "id": "b3699401",
   "metadata": {},
   "source": [
    "# Data cleaning and feature creation\n",
    "Often writes data to data/processed or data/interim"
   ]
  },
  {
   "cell_type": "code",
   "execution_count": 1,
   "id": "4179a798",
   "metadata": {},
   "outputs": [],
   "source": [
    "import polars as pl\n",
    "import os\n",
    "\n",
    "DATA_PATH = \"../data/raw\""
   ]
  },
  {
   "cell_type": "code",
   "execution_count": 2,
   "id": "6cfaef1b",
   "metadata": {},
   "outputs": [],
   "source": [
    "# Load data\n",
    "file_names = [x for x in os.listdir(DATA_PATH) if \".csv\" in x]  # List all CSV files in the raw data directory\n",
    "\n",
    "df_list = []\n",
    "for file in file_names:\n",
    "    df = pl.scan_csv(os.path.join(DATA_PATH, file))\n",
    "    df_list.append(df)\n",
    "    \n",
    "# Combine lazyframes into a single lazyframe\n",
    "df_combined = pl.concat(df_list, how=\"vertical\")\n",
    "df_combined_col = df_combined.collect()\n"
   ]
  },
  {
   "cell_type": "code",
   "execution_count": null,
   "id": "0153fdc1",
   "metadata": {},
   "outputs": [],
   "source": [
    "# TBC: Clean Station names + Scope to only day time readings (there is some issue with converting to datetime)"
   ]
  },
  {
   "cell_type": "code",
   "execution_count": 3,
   "id": "b5e7eb22",
   "metadata": {},
   "outputs": [],
   "source": [
    "# To proceed with only station IDs having at least 2500 dates\n",
    "selected_stations_list = (df_combined_col.group_by(\"station_id\")\n",
    " .agg(pl.col(\"date\").n_unique().alias(\"date_unique_count\"))\n",
    " .sort(\"date_unique_count\", descending=True)\n",
    " .filter(pl.col(\"date_unique_count\") >= 2500)\n",
    " .select(pl.col(\"station_id\"))\n",
    ").to_series().to_list()"
   ]
  },
  {
   "cell_type": "code",
   "execution_count": 4,
   "id": "9045d6fc",
   "metadata": {},
   "outputs": [
    {
     "data": {
      "text/html": [
       "<div><style>\n",
       ".dataframe > thead > tr,\n",
       ".dataframe > tbody > tr {\n",
       "  text-align: right;\n",
       "  white-space: pre-wrap;\n",
       "}\n",
       "</style>\n",
       "<small>shape: (5, 4)</small><table border=\"1\" class=\"dataframe\"><thead><tr><th>station_id</th><th>date</th><th>min_rainfall</th><th>max_rainfall</th></tr><tr><td>str</td><td>str</td><td>f64</td><td>f64</td></tr></thead><tbody><tr><td>&quot;S08&quot;</td><td>&quot;2017-01-01&quot;</td><td>0.0</td><td>0.4</td></tr><tr><td>&quot;S08&quot;</td><td>&quot;2017-01-02&quot;</td><td>0.0</td><td>0.6</td></tr><tr><td>&quot;S08&quot;</td><td>&quot;2017-01-03&quot;</td><td>0.0</td><td>0.2</td></tr><tr><td>&quot;S08&quot;</td><td>&quot;2017-01-04&quot;</td><td>0.0</td><td>0.4</td></tr><tr><td>&quot;S08&quot;</td><td>&quot;2017-01-05&quot;</td><td>0.0</td><td>0.4</td></tr></tbody></table></div>"
      ],
      "text/plain": [
       "shape: (5, 4)\n",
       "┌────────────┬────────────┬──────────────┬──────────────┐\n",
       "│ station_id ┆ date       ┆ min_rainfall ┆ max_rainfall │\n",
       "│ ---        ┆ ---        ┆ ---          ┆ ---          │\n",
       "│ str        ┆ str        ┆ f64          ┆ f64          │\n",
       "╞════════════╪════════════╪══════════════╪══════════════╡\n",
       "│ S08        ┆ 2017-01-01 ┆ 0.0          ┆ 0.4          │\n",
       "│ S08        ┆ 2017-01-02 ┆ 0.0          ┆ 0.6          │\n",
       "│ S08        ┆ 2017-01-03 ┆ 0.0          ┆ 0.2          │\n",
       "│ S08        ┆ 2017-01-04 ┆ 0.0          ┆ 0.4          │\n",
       "│ S08        ┆ 2017-01-05 ┆ 0.0          ┆ 0.4          │\n",
       "└────────────┴────────────┴──────────────┴──────────────┘"
      ]
     },
     "execution_count": 4,
     "metadata": {},
     "output_type": "execute_result"
    }
   ],
   "source": [
    "# Aggregate rainfall min max per day\n",
    "df_agg = (df_combined_col.filter(pl.col(\"station_id\").is_in(selected_stations_list))\n",
    "          .group_by([\"station_id\", \"date\"])\n",
    "          .agg(\n",
    "    pl.min(\"reading_value\").alias(\"min_rainfall\"),\n",
    "    pl.max(\"reading_value\").alias(\"max_rainfall\")\n",
    "         ).sort(\"station_id\", \"date\"))\n",
    "df_agg.head()"
   ]
  },
  {
   "cell_type": "code",
   "execution_count": 5,
   "id": "8a446370",
   "metadata": {},
   "outputs": [
    {
     "name": "stdout",
     "output_type": "stream",
     "text": [
      "shape: (30, 4)\n",
      "┌────────────┬────────────┬────────────┬────────────┐\n",
      "│ station_id ┆ min_date   ┆ max_date   ┆ date_count │\n",
      "│ ---        ┆ ---        ┆ ---        ┆ ---        │\n",
      "│ str        ┆ str        ┆ str        ┆ u32        │\n",
      "╞════════════╪════════════╪════════════╪════════════╡\n",
      "│ S08        ┆ 2017-01-01 ┆ 2024-12-31 ┆ 2803       │\n",
      "│ S104       ┆ 2017-01-01 ┆ 2024-12-31 ┆ 2728       │\n",
      "│ S107       ┆ 2017-01-01 ┆ 2024-12-31 ┆ 2842       │\n",
      "│ S109       ┆ 2017-01-01 ┆ 2024-12-31 ┆ 2701       │\n",
      "│ S112       ┆ 2017-01-01 ┆ 2024-12-31 ┆ 2796       │\n",
      "│ S113       ┆ 2017-01-01 ┆ 2024-12-31 ┆ 2840       │\n",
      "│ S115       ┆ 2017-01-01 ┆ 2024-12-31 ┆ 2791       │\n",
      "│ S116       ┆ 2017-01-01 ┆ 2024-12-31 ┆ 2787       │\n",
      "│ S119       ┆ 2017-01-01 ┆ 2024-12-31 ┆ 2854       │\n",
      "│ S121       ┆ 2017-01-01 ┆ 2024-12-31 ┆ 2793       │\n",
      "│ S123       ┆ 2017-01-01 ┆ 2024-12-31 ┆ 2767       │\n",
      "│ S24        ┆ 2017-01-01 ┆ 2024-12-31 ┆ 2835       │\n",
      "│ S33        ┆ 2017-01-01 ┆ 2024-12-31 ┆ 2794       │\n",
      "│ S35        ┆ 2017-01-01 ┆ 2024-12-31 ┆ 2836       │\n",
      "│ S40        ┆ 2017-01-01 ┆ 2024-12-31 ┆ 2833       │\n",
      "│ S43        ┆ 2017-01-01 ┆ 2024-12-31 ┆ 2852       │\n",
      "│ S50        ┆ 2017-01-01 ┆ 2024-12-31 ┆ 2823       │\n",
      "│ S66        ┆ 2017-01-01 ┆ 2024-12-31 ┆ 2823       │\n",
      "│ S69        ┆ 2017-01-01 ┆ 2024-12-31 ┆ 2723       │\n",
      "│ S71        ┆ 2017-01-01 ┆ 2024-12-31 ┆ 2694       │\n",
      "│ S77        ┆ 2017-01-01 ┆ 2024-12-31 ┆ 2856       │\n",
      "│ S78        ┆ 2017-01-01 ┆ 2024-12-31 ┆ 2857       │\n",
      "│ S79        ┆ 2017-01-01 ┆ 2024-12-31 ┆ 2846       │\n",
      "│ S81        ┆ 2017-01-01 ┆ 2024-12-31 ┆ 2857       │\n",
      "│ S84        ┆ 2017-01-01 ┆ 2024-12-31 ┆ 2752       │\n",
      "│ S88        ┆ 2017-01-01 ┆ 2024-12-31 ┆ 2846       │\n",
      "│ S89        ┆ 2017-01-01 ┆ 2024-12-31 ┆ 2857       │\n",
      "│ S90        ┆ 2017-01-01 ┆ 2024-12-31 ┆ 2837       │\n",
      "│ S900       ┆ 2017-01-01 ┆ 2024-12-31 ┆ 2856       │\n",
      "│ S94        ┆ 2017-01-01 ┆ 2024-12-31 ┆ 2829       │\n",
      "└────────────┴────────────┴────────────┴────────────┘\n"
     ]
    }
   ],
   "source": [
    "# Further filtering to having first and last date as 2017-01-01 and 2024-12-31 respectively\n",
    "df_min_max_date = (df_agg.group_by(\"station_id\")\n",
    "                    .agg(\n",
    "                        pl.min(\"date\").alias(\"min_date\"),\n",
    "                        pl.max(\"date\").alias(\"max_date\"),\n",
    "                        pl.count(\"date\").alias(\"date_count\"))\n",
    ")\n",
    "\n",
    "df_min_max_date = df_min_max_date.filter(\n",
    "    (pl.col(\"min_date\") == \"2017-01-01\") & \n",
    "    (pl.col(\"max_date\") == \"2024-12-31\")\n",
    ")\n",
    "\n",
    "with pl.Config(tbl_rows=50):\n",
    "    print(df_min_max_date) # 30 left, some dates are missing! "
   ]
  },
  {
   "cell_type": "code",
   "execution_count": 6,
   "id": "3f0e860a",
   "metadata": {},
   "outputs": [],
   "source": [
    "# More filtering to have min and max dates as 2017-01-01 and 2024-12-31 respectively\n",
    "df_agg = df_agg.filter(\n",
    "    pl.col(\"station_id\").is_in(\n",
    "        df_min_max_date.select(pl.col(\"station_id\")).to_series().to_list()\n",
    "        )\n",
    ")"
   ]
  },
  {
   "cell_type": "code",
   "execution_count": 7,
   "id": "6dc576ad",
   "metadata": {},
   "outputs": [],
   "source": [
    "# Need to fill in the missing dates for each station\n",
    "df_agg = df_agg.with_columns(pl.col(\"date\").cast(pl.Date, strict=False)).set_sorted(\"date\")\n",
    "df_agg_filled = df_agg.upsample(\n",
    "    time_column=\"date\", every=\"1d\", group_by=\"station_id\", maintain_order=True\n",
    ").select(pl.all().forward_fill())\n"
   ]
  },
  {
   "cell_type": "code",
   "execution_count": 8,
   "id": "6dc21dda",
   "metadata": {},
   "outputs": [],
   "source": [
    "# Tag whether max of the station is more than 0.01\n",
    "df_agg_filled = df_agg_filled.with_columns(\n",
    "    pl.when(pl.col(\"max_rainfall\") > 0.01)\n",
    "    .then(1)\n",
    "    .otherwise(0)\n",
    "    .alias(\"y\")\n",
    ")"
   ]
  },
  {
   "cell_type": "code",
   "execution_count": 9,
   "id": "40941590",
   "metadata": {},
   "outputs": [],
   "source": [
    "# joining in the station names\n",
    "df_stations = (df_combined_col.select(\"station_id\", \"station_name\", \n",
    "                                      \"location_longitude\", \"location_latitude\").unique(subset=[\"station_id\", \"station_name\"]).sort(\"station_id\")\n",
    "               .filter(~pl.col(\"station_name\").str.contains(\"S\\\\d\", literal=False)))\n",
    "\n",
    "df_agg_filled_final = df_agg_filled.join(df_stations, on=\"station_id\", how=\"left\")"
   ]
  },
  {
   "cell_type": "code",
   "execution_count": 10,
   "id": "f18699fe",
   "metadata": {},
   "outputs": [
    {
     "data": {
      "text/html": [
       "<div><style>\n",
       ".dataframe > thead > tr,\n",
       ".dataframe > tbody > tr {\n",
       "  text-align: right;\n",
       "  white-space: pre-wrap;\n",
       "}\n",
       "</style>\n",
       "<small>shape: (5, 8)</small><table border=\"1\" class=\"dataframe\"><thead><tr><th>date</th><th>station_id</th><th>min_rainfall</th><th>max_rainfall</th><th>y</th><th>station_name</th><th>location_longitude</th><th>location_latitude</th></tr><tr><td>date</td><td>str</td><td>f64</td><td>f64</td><td>i32</td><td>str</td><td>f64</td><td>f64</td></tr></thead><tbody><tr><td>2017-01-01</td><td>&quot;S08&quot;</td><td>0.0</td><td>0.4</td><td>1</td><td>&quot;Upper Thomson Road&quot;</td><td>103.8271</td><td>1.3701</td></tr><tr><td>2017-01-02</td><td>&quot;S08&quot;</td><td>0.0</td><td>0.6</td><td>1</td><td>&quot;Upper Thomson Road&quot;</td><td>103.8271</td><td>1.3701</td></tr><tr><td>2017-01-03</td><td>&quot;S08&quot;</td><td>0.0</td><td>0.2</td><td>1</td><td>&quot;Upper Thomson Road&quot;</td><td>103.8271</td><td>1.3701</td></tr><tr><td>2017-01-04</td><td>&quot;S08&quot;</td><td>0.0</td><td>0.4</td><td>1</td><td>&quot;Upper Thomson Road&quot;</td><td>103.8271</td><td>1.3701</td></tr><tr><td>2017-01-05</td><td>&quot;S08&quot;</td><td>0.0</td><td>0.4</td><td>1</td><td>&quot;Upper Thomson Road&quot;</td><td>103.8271</td><td>1.3701</td></tr></tbody></table></div>"
      ],
      "text/plain": [
       "shape: (5, 8)\n",
       "┌────────────┬────────────┬─────────────┬─────────────┬─────┬────────────┬────────────┬────────────┐\n",
       "│ date       ┆ station_id ┆ min_rainfal ┆ max_rainfal ┆ y   ┆ station_na ┆ location_l ┆ location_l │\n",
       "│ ---        ┆ ---        ┆ l           ┆ l           ┆ --- ┆ me         ┆ ongitude   ┆ atitude    │\n",
       "│ date       ┆ str        ┆ ---         ┆ ---         ┆ i32 ┆ ---        ┆ ---        ┆ ---        │\n",
       "│            ┆            ┆ f64         ┆ f64         ┆     ┆ str        ┆ f64        ┆ f64        │\n",
       "╞════════════╪════════════╪═════════════╪═════════════╪═════╪════════════╪════════════╪════════════╡\n",
       "│ 2017-01-01 ┆ S08        ┆ 0.0         ┆ 0.4         ┆ 1   ┆ Upper      ┆ 103.8271   ┆ 1.3701     │\n",
       "│            ┆            ┆             ┆             ┆     ┆ Thomson    ┆            ┆            │\n",
       "│            ┆            ┆             ┆             ┆     ┆ Road       ┆            ┆            │\n",
       "│ 2017-01-02 ┆ S08        ┆ 0.0         ┆ 0.6         ┆ 1   ┆ Upper      ┆ 103.8271   ┆ 1.3701     │\n",
       "│            ┆            ┆             ┆             ┆     ┆ Thomson    ┆            ┆            │\n",
       "│            ┆            ┆             ┆             ┆     ┆ Road       ┆            ┆            │\n",
       "│ 2017-01-03 ┆ S08        ┆ 0.0         ┆ 0.2         ┆ 1   ┆ Upper      ┆ 103.8271   ┆ 1.3701     │\n",
       "│            ┆            ┆             ┆             ┆     ┆ Thomson    ┆            ┆            │\n",
       "│            ┆            ┆             ┆             ┆     ┆ Road       ┆            ┆            │\n",
       "│ 2017-01-04 ┆ S08        ┆ 0.0         ┆ 0.4         ┆ 1   ┆ Upper      ┆ 103.8271   ┆ 1.3701     │\n",
       "│            ┆            ┆             ┆             ┆     ┆ Thomson    ┆            ┆            │\n",
       "│            ┆            ┆             ┆             ┆     ┆ Road       ┆            ┆            │\n",
       "│ 2017-01-05 ┆ S08        ┆ 0.0         ┆ 0.4         ┆ 1   ┆ Upper      ┆ 103.8271   ┆ 1.3701     │\n",
       "│            ┆            ┆             ┆             ┆     ┆ Thomson    ┆            ┆            │\n",
       "│            ┆            ┆             ┆             ┆     ┆ Road       ┆            ┆            │\n",
       "└────────────┴────────────┴─────────────┴─────────────┴─────┴────────────┴────────────┴────────────┘"
      ]
     },
     "execution_count": 10,
     "metadata": {},
     "output_type": "execute_result"
    }
   ],
   "source": [
    "df_agg_filled_final.head()"
   ]
  },
  {
   "cell_type": "code",
   "execution_count": 12,
   "id": "6b648cb8",
   "metadata": {},
   "outputs": [
    {
     "data": {
      "text/html": [
       "<div><style>\n",
       ".dataframe > thead > tr,\n",
       ".dataframe > tbody > tr {\n",
       "  text-align: right;\n",
       "  white-space: pre-wrap;\n",
       "}\n",
       "</style>\n",
       "<small>shape: (9, 9)</small><table border=\"1\" class=\"dataframe\"><thead><tr><th>statistic</th><th>date</th><th>station_id</th><th>min_rainfall</th><th>max_rainfall</th><th>y</th><th>station_name</th><th>location_longitude</th><th>location_latitude</th></tr><tr><td>str</td><td>str</td><td>str</td><td>f64</td><td>f64</td><td>f64</td><td>str</td><td>f64</td><td>f64</td></tr></thead><tbody><tr><td>&quot;count&quot;</td><td>&quot;87660&quot;</td><td>&quot;87660&quot;</td><td>87660.0</td><td>87660.0</td><td>87660.0</td><td>&quot;87660&quot;</td><td>87660.0</td><td>87660.0</td></tr><tr><td>&quot;null_count&quot;</td><td>&quot;0&quot;</td><td>&quot;0&quot;</td><td>0.0</td><td>0.0</td><td>0.0</td><td>&quot;0&quot;</td><td>0.0</td><td>0.0</td></tr><tr><td>&quot;mean&quot;</td><td>&quot;2020-12-31 12:00:00&quot;</td><td>null</td><td>0.000005</td><td>1.298923</td><td>0.531736</td><td>null</td><td>103.82084</td><td>1.347174</td></tr><tr><td>&quot;std&quot;</td><td>null</td><td>null</td><td>0.000955</td><td>2.245187</td><td>0.498995</td><td>null</td><td>0.088741</td><td>0.046951</td></tr><tr><td>&quot;min&quot;</td><td>&quot;2017-01-01&quot;</td><td>&quot;S08&quot;</td><td>0.0</td><td>0.0</td><td>0.0</td><td>&quot;Alexandra Road&quot;</td><td>103.61843</td><td>1.281</td></tr><tr><td>&quot;25%&quot;</td><td>&quot;2019-01-01&quot;</td><td>null</td><td>0.0</td><td>0.0</td><td>0.0</td><td>null</td><td>103.7556</td><td>1.30703</td></tr><tr><td>&quot;50%&quot;</td><td>&quot;2021-01-01&quot;</td><td>null</td><td>0.0</td><td>0.2</td><td>1.0</td><td>null</td><td>103.8271</td><td>1.3399</td></tr><tr><td>&quot;75%&quot;</td><td>&quot;2023-01-01&quot;</td><td>null</td><td>0.0</td><td>1.6</td><td>1.0</td><td>null</td><td>103.8878</td><td>1.37288</td></tr><tr><td>&quot;max&quot;</td><td>&quot;2024-12-31&quot;</td><td>&quot;S94&quot;</td><td>0.2</td><td>37.2</td><td>1.0</td><td>&quot;Woodlands Avenue 9&quot;</td><td>103.9826</td><td>1.44387</td></tr></tbody></table></div>"
      ],
      "text/plain": [
       "shape: (9, 9)\n",
       "┌───────────┬───────────┬───────────┬───────────┬───┬──────────┬───────────┬───────────┬───────────┐\n",
       "│ statistic ┆ date      ┆ station_i ┆ min_rainf ┆ … ┆ y        ┆ station_n ┆ location_ ┆ location_ │\n",
       "│ ---       ┆ ---       ┆ d         ┆ all       ┆   ┆ ---      ┆ ame       ┆ longitude ┆ latitude  │\n",
       "│ str       ┆ str       ┆ ---       ┆ ---       ┆   ┆ f64      ┆ ---       ┆ ---       ┆ ---       │\n",
       "│           ┆           ┆ str       ┆ f64       ┆   ┆          ┆ str       ┆ f64       ┆ f64       │\n",
       "╞═══════════╪═══════════╪═══════════╪═══════════╪═══╪══════════╪═══════════╪═══════════╪═══════════╡\n",
       "│ count     ┆ 87660     ┆ 87660     ┆ 87660.0   ┆ … ┆ 87660.0  ┆ 87660     ┆ 87660.0   ┆ 87660.0   │\n",
       "│ null_coun ┆ 0         ┆ 0         ┆ 0.0       ┆ … ┆ 0.0      ┆ 0         ┆ 0.0       ┆ 0.0       │\n",
       "│ t         ┆           ┆           ┆           ┆   ┆          ┆           ┆           ┆           │\n",
       "│ mean      ┆ 2020-12-3 ┆ null      ┆ 0.000005  ┆ … ┆ 0.531736 ┆ null      ┆ 103.82084 ┆ 1.347174  │\n",
       "│           ┆ 1         ┆           ┆           ┆   ┆          ┆           ┆           ┆           │\n",
       "│           ┆ 12:00:00  ┆           ┆           ┆   ┆          ┆           ┆           ┆           │\n",
       "│ std       ┆ null      ┆ null      ┆ 0.000955  ┆ … ┆ 0.498995 ┆ null      ┆ 0.088741  ┆ 0.046951  │\n",
       "│ min       ┆ 2017-01-0 ┆ S08       ┆ 0.0       ┆ … ┆ 0.0      ┆ Alexandra ┆ 103.61843 ┆ 1.281     │\n",
       "│           ┆ 1         ┆           ┆           ┆   ┆          ┆ Road      ┆           ┆           │\n",
       "│ 25%       ┆ 2019-01-0 ┆ null      ┆ 0.0       ┆ … ┆ 0.0      ┆ null      ┆ 103.7556  ┆ 1.30703   │\n",
       "│           ┆ 1         ┆           ┆           ┆   ┆          ┆           ┆           ┆           │\n",
       "│ 50%       ┆ 2021-01-0 ┆ null      ┆ 0.0       ┆ … ┆ 1.0      ┆ null      ┆ 103.8271  ┆ 1.3399    │\n",
       "│           ┆ 1         ┆           ┆           ┆   ┆          ┆           ┆           ┆           │\n",
       "│ 75%       ┆ 2023-01-0 ┆ null      ┆ 0.0       ┆ … ┆ 1.0      ┆ null      ┆ 103.8878  ┆ 1.37288   │\n",
       "│           ┆ 1         ┆           ┆           ┆   ┆          ┆           ┆           ┆           │\n",
       "│ max       ┆ 2024-12-3 ┆ S94       ┆ 0.2       ┆ … ┆ 1.0      ┆ Woodlands ┆ 103.9826  ┆ 1.44387   │\n",
       "│           ┆ 1         ┆           ┆           ┆   ┆          ┆ Avenue 9  ┆           ┆           │\n",
       "└───────────┴───────────┴───────────┴───────────┴───┴──────────┴───────────┴───────────┴───────────┘"
      ]
     },
     "execution_count": 12,
     "metadata": {},
     "output_type": "execute_result"
    }
   ],
   "source": [
    "df_agg_filled_final.describe()"
   ]
  },
  {
   "cell_type": "code",
   "execution_count": null,
   "id": "f092473f",
   "metadata": {},
   "outputs": [],
   "source": [
    "# Split into train (2017-2022), test(2023) and deploy sets (2024)\n",
    "df_agg_filled_final['year'] = df_agg_filled_final['date'].dt.year\n",
    "df_agg_filled_train = df_agg_filled_final[df_agg_filled_final['year'].between(2017, 2022)]\n",
    "df_agg_filled_test = df_agg_filled_final[df_agg_filled_final['year'] == 2023]\n",
    "df_agg_filled_deploy = df_agg_filled_final[df_agg_filled_final['year'] == 2024]"
   ]
  },
  {
   "cell_type": "code",
   "execution_count": null,
   "id": "1207bcf6",
   "metadata": {},
   "outputs": [],
   "source": [
    "# Output to parquet\n",
    "# df_agg_filled_final.write_parquet(\"../data/processed/df_agg_filled_final.parquet\")"
   ]
  },
  {
   "cell_type": "code",
   "execution_count": null,
   "id": "d959001e",
   "metadata": {},
   "outputs": [],
   "source": []
  }
 ],
 "metadata": {
  "kernelspec": {
   "display_name": "bike-snowflake",
   "language": "python",
   "name": "python3"
  },
  "language_info": {
   "codemirror_mode": {
    "name": "ipython",
    "version": 3
   },
   "file_extension": ".py",
   "mimetype": "text/x-python",
   "name": "python",
   "nbconvert_exporter": "python",
   "pygments_lexer": "ipython3",
   "version": "3.12.11"
  }
 },
 "nbformat": 4,
 "nbformat_minor": 5
}
