{
 "cells": [
  {
   "cell_type": "markdown",
   "id": "b3699401",
   "metadata": {},
   "source": [
    "# Data cleaning and feature creation\n",
    "Often writes data to data/processed or data/interim"
   ]
  },
  {
   "cell_type": "code",
   "execution_count": 1,
   "id": "4179a798",
   "metadata": {},
   "outputs": [],
   "source": [
    "import polars as pl\n",
    "import os\n",
    "\n",
    "DATA_PATH = \"../data/raw\""
   ]
  },
  {
   "cell_type": "code",
   "execution_count": 2,
   "id": "6cfaef1b",
   "metadata": {},
   "outputs": [],
   "source": [
    "# Load data\n",
    "file_names = [x for x in os.listdir(DATA_PATH) if \".csv\" in x]  # List all CSV files in the raw data directory\n",
    "\n",
    "df_list = []\n",
    "for file in file_names:\n",
    "    df = pl.scan_csv(os.path.join(DATA_PATH, file))\n",
    "    df_list.append(df)\n",
    "    \n",
    "# Combine lazyframes into a single lazyframe\n",
    "df_combined = pl.concat(df_list, how=\"vertical\")\n",
    "df_combined_col = df_combined.collect()\n"
   ]
  },
  {
   "cell_type": "code",
   "execution_count": 3,
   "id": "0153fdc1",
   "metadata": {},
   "outputs": [],
   "source": [
    "# TBC: Clean Station names"
   ]
  },
  {
   "cell_type": "code",
   "execution_count": 4,
   "id": "b5e7eb22",
   "metadata": {},
   "outputs": [
    {
     "ename": "",
     "evalue": "",
     "output_type": "error",
     "traceback": [
      "\u001b[1;31mCannot execute code, session has been disposed. Please try restarting the Kernel."
     ]
    },
    {
     "ename": "",
     "evalue": "",
     "output_type": "error",
     "traceback": [
      "\u001b[1;31mCannot execute code, session has been disposed. Please try restarting the Kernel. \n",
      "\u001b[1;31mView Jupyter <a href='command:jupyter.viewOutput'>log</a> for further details."
     ]
    }
   ],
   "source": [
    "# To proceed with only station IDs having at least 2000 dates\n",
    "selected_stations_list = (df_combined_col.group_by(\"station_id\")\n",
    " .agg(pl.col(\"date\").n_unique().alias(\"date_unique_count\"))\n",
    " .sort(\"date_unique_count\", descending=True)\n",
    " .filter(pl.col(\"date_unique_count\") >= 2500)\n",
    " .select(pl.col(\"station_id\"))\n",
    ").to_series().to_list()"
   ]
  },
  {
   "cell_type": "code",
   "execution_count": null,
   "id": "9045d6fc",
   "metadata": {},
   "outputs": [],
   "source": [
    "# Aggregate rainfall min max per day\n",
    "df_agg = (df_combined_col.filter(pl.col(\"station_id\").is_in(selected_stations_list))\n",
    "          .group_by([\"station_id\", \"date\"])\n",
    "          .agg(\n",
    "    pl.min(\"reading_value\").alias(\"min_rainfall\"),\n",
    "    pl.max(\"reading_value\").alias(\"max_rainfall\")\n",
    "         ).sort(\"station_id\", \"date\"))\n",
    "df_agg.head()"
   ]
  },
  {
   "cell_type": "code",
   "execution_count": null,
   "id": "8a446370",
   "metadata": {},
   "outputs": [],
   "source": [
    "# Tag whether "
   ]
  }
 ],
 "metadata": {
  "kernelspec": {
   "display_name": "bike-snowflake",
   "language": "python",
   "name": "python3"
  },
  "language_info": {
   "codemirror_mode": {
    "name": "ipython",
    "version": 3
   },
   "file_extension": ".py",
   "mimetype": "text/x-python",
   "name": "python",
   "nbconvert_exporter": "python",
   "pygments_lexer": "ipython3",
   "version": "3.12.11"
  }
 },
 "nbformat": 4,
 "nbformat_minor": 5
}
