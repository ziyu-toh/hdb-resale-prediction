{
 "cells": [
  {
   "cell_type": "markdown",
   "id": "b3699401",
   "metadata": {},
   "source": [
    "# Data cleaning and feature creation\n",
    "Often writes data to data/processed or data/interim"
   ]
  },
  {
   "cell_type": "code",
   "execution_count": 1,
   "id": "4179a798",
   "metadata": {},
   "outputs": [],
   "source": [
    "import polars as pl\n",
    "import os\n",
    "\n",
    "DATA_PATH = \"../data/raw\""
   ]
  },
  {
   "cell_type": "code",
   "execution_count": 2,
   "id": "6cfaef1b",
   "metadata": {},
   "outputs": [
    {
     "name": "stdout",
     "output_type": "stream",
     "text": [
      "Loading file: ResaleFlatPricesBasedonRegistrationDateFromJan2015toDec2016.csv\n",
      "Loading file: ResaleflatpricesbasedonregistrationdatefromJan2017onwards.csv\n",
      "Loading file: ResaleFlatPricesBasedonRegistrationDateFromMar2012toDec2014.csv\n",
      "Loaded 3 files.\n"
     ]
    }
   ],
   "source": [
    "# Load data\n",
    "file_names = [x for x in os.listdir(DATA_PATH) if \".csv\" in x]  # List all CSV files in the raw data directory\n",
    "\n",
    "df_list = []\n",
    "for file in file_names:\n",
    "    print(\"Loading file:\", file)\n",
    "    df = pl.scan_csv(os.path.join(DATA_PATH, file), infer_schema=False)\n",
    "    df_list.append(df)\n",
    "print(\"Loaded\", len(df_list), \"files.\")"
   ]
  },
  {
   "cell_type": "code",
   "execution_count": 3,
   "id": "0153fdc1",
   "metadata": {},
   "outputs": [],
   "source": [
    "# Combine lazyframes into a single lazyframe\n",
    "df_combined = pl.concat(df_list, how=\"align_full\")\n",
    "df_combined_col = df_combined.collect()"
   ]
  },
  {
   "cell_type": "code",
   "execution_count": 4,
   "id": "5cc27107",
   "metadata": {},
   "outputs": [
    {
     "data": {
      "text/html": [
       "<div><style>\n",
       ".dataframe > thead > tr,\n",
       ".dataframe > tbody > tr {\n",
       "  text-align: right;\n",
       "  white-space: pre-wrap;\n",
       "}\n",
       "</style>\n",
       "<small>shape: (5, 11)</small><table border=\"1\" class=\"dataframe\"><thead><tr><th>month</th><th>town</th><th>flat_type</th><th>block</th><th>street_name</th><th>storey_range</th><th>floor_area_sqm</th><th>flat_model</th><th>lease_commence_date</th><th>remaining_lease</th><th>resale_price</th></tr><tr><td>str</td><td>str</td><td>str</td><td>str</td><td>str</td><td>str</td><td>str</td><td>str</td><td>str</td><td>str</td><td>str</td></tr></thead><tbody><tr><td>&quot;2012-03&quot;</td><td>&quot;ANG MO KIO&quot;</td><td>&quot;2 ROOM&quot;</td><td>&quot;172&quot;</td><td>&quot;ANG MO KIO AVE 4&quot;</td><td>&quot;06 TO 10&quot;</td><td>&quot;45&quot;</td><td>&quot;Improved&quot;</td><td>&quot;1986&quot;</td><td>null</td><td>&quot;250000&quot;</td></tr><tr><td>&quot;2012-03&quot;</td><td>&quot;ANG MO KIO&quot;</td><td>&quot;2 ROOM&quot;</td><td>&quot;510&quot;</td><td>&quot;ANG MO KIO AVE 8&quot;</td><td>&quot;01 TO 05&quot;</td><td>&quot;44&quot;</td><td>&quot;Improved&quot;</td><td>&quot;1980&quot;</td><td>null</td><td>&quot;265000&quot;</td></tr><tr><td>&quot;2012-03&quot;</td><td>&quot;ANG MO KIO&quot;</td><td>&quot;3 ROOM&quot;</td><td>&quot;103&quot;</td><td>&quot;ANG MO KIO AVE 3&quot;</td><td>&quot;06 TO 10&quot;</td><td>&quot;73&quot;</td><td>&quot;New Generation&quot;</td><td>&quot;1978&quot;</td><td>null</td><td>&quot;368000&quot;</td></tr><tr><td>&quot;2012-03&quot;</td><td>&quot;ANG MO KIO&quot;</td><td>&quot;3 ROOM&quot;</td><td>&quot;110&quot;</td><td>&quot;ANG MO KIO AVE 4&quot;</td><td>&quot;01 TO 05&quot;</td><td>&quot;67&quot;</td><td>&quot;New Generation&quot;</td><td>&quot;1978&quot;</td><td>null</td><td>&quot;323000&quot;</td></tr><tr><td>&quot;2012-03&quot;</td><td>&quot;ANG MO KIO&quot;</td><td>&quot;3 ROOM&quot;</td><td>&quot;114&quot;</td><td>&quot;ANG MO KIO AVE 4&quot;</td><td>&quot;01 TO 05&quot;</td><td>&quot;73&quot;</td><td>&quot;New Generation&quot;</td><td>&quot;1978&quot;</td><td>null</td><td>&quot;339000&quot;</td></tr></tbody></table></div>"
      ],
      "text/plain": [
       "shape: (5, 11)\n",
       "┌─────────┬────────────┬───────────┬───────┬───┬────────────┬────────────┬────────────┬────────────┐\n",
       "│ month   ┆ town       ┆ flat_type ┆ block ┆ … ┆ flat_model ┆ lease_comm ┆ remaining_ ┆ resale_pri │\n",
       "│ ---     ┆ ---        ┆ ---       ┆ ---   ┆   ┆ ---        ┆ ence_date  ┆ lease      ┆ ce         │\n",
       "│ str     ┆ str        ┆ str       ┆ str   ┆   ┆ str        ┆ ---        ┆ ---        ┆ ---        │\n",
       "│         ┆            ┆           ┆       ┆   ┆            ┆ str        ┆ str        ┆ str        │\n",
       "╞═════════╪════════════╪═══════════╪═══════╪═══╪════════════╪════════════╪════════════╪════════════╡\n",
       "│ 2012-03 ┆ ANG MO KIO ┆ 2 ROOM    ┆ 172   ┆ … ┆ Improved   ┆ 1986       ┆ null       ┆ 250000     │\n",
       "│ 2012-03 ┆ ANG MO KIO ┆ 2 ROOM    ┆ 510   ┆ … ┆ Improved   ┆ 1980       ┆ null       ┆ 265000     │\n",
       "│ 2012-03 ┆ ANG MO KIO ┆ 3 ROOM    ┆ 103   ┆ … ┆ New        ┆ 1978       ┆ null       ┆ 368000     │\n",
       "│         ┆            ┆           ┆       ┆   ┆ Generation ┆            ┆            ┆            │\n",
       "│ 2012-03 ┆ ANG MO KIO ┆ 3 ROOM    ┆ 110   ┆ … ┆ New        ┆ 1978       ┆ null       ┆ 323000     │\n",
       "│         ┆            ┆           ┆       ┆   ┆ Generation ┆            ┆            ┆            │\n",
       "│ 2012-03 ┆ ANG MO KIO ┆ 3 ROOM    ┆ 114   ┆ … ┆ New        ┆ 1978       ┆ null       ┆ 339000     │\n",
       "│         ┆            ┆           ┆       ┆   ┆ Generation ┆            ┆            ┆            │\n",
       "└─────────┴────────────┴───────────┴───────┴───┴────────────┴────────────┴────────────┴────────────┘"
      ]
     },
     "execution_count": 4,
     "metadata": {},
     "output_type": "execute_result"
    }
   ],
   "source": [
    "# Convert datatype\n",
    "df_combined_col.head()"
   ]
  },
  {
   "cell_type": "code",
   "execution_count": 5,
   "id": "95cbb1e7",
   "metadata": {},
   "outputs": [
    {
     "data": {
      "text/html": [
       "<div><style>\n",
       ".dataframe > thead > tr,\n",
       ".dataframe > tbody > tr {\n",
       "  text-align: right;\n",
       "  white-space: pre-wrap;\n",
       "}\n",
       "</style>\n",
       "<small>shape: (5, 11)</small><table border=\"1\" class=\"dataframe\"><thead><tr><th>month</th><th>town</th><th>flat_type</th><th>block</th><th>street_name</th><th>storey_range</th><th>floor_area_sqm</th><th>flat_model</th><th>lease_commence_date</th><th>remaining_lease</th><th>resale_price</th></tr><tr><td>date</td><td>str</td><td>str</td><td>str</td><td>str</td><td>str</td><td>f64</td><td>str</td><td>i64</td><td>str</td><td>f64</td></tr></thead><tbody><tr><td>2012-03-01</td><td>&quot;ANG MO KIO&quot;</td><td>&quot;2 ROOM&quot;</td><td>&quot;172&quot;</td><td>&quot;ANG MO KIO AVE 4&quot;</td><td>&quot;06 TO 10&quot;</td><td>45.0</td><td>&quot;Improved&quot;</td><td>1986</td><td>null</td><td>250000.0</td></tr><tr><td>2012-03-01</td><td>&quot;ANG MO KIO&quot;</td><td>&quot;2 ROOM&quot;</td><td>&quot;510&quot;</td><td>&quot;ANG MO KIO AVE 8&quot;</td><td>&quot;01 TO 05&quot;</td><td>44.0</td><td>&quot;Improved&quot;</td><td>1980</td><td>null</td><td>265000.0</td></tr><tr><td>2012-03-01</td><td>&quot;ANG MO KIO&quot;</td><td>&quot;3 ROOM&quot;</td><td>&quot;103&quot;</td><td>&quot;ANG MO KIO AVE 3&quot;</td><td>&quot;06 TO 10&quot;</td><td>73.0</td><td>&quot;New Generation&quot;</td><td>1978</td><td>null</td><td>368000.0</td></tr><tr><td>2012-03-01</td><td>&quot;ANG MO KIO&quot;</td><td>&quot;3 ROOM&quot;</td><td>&quot;110&quot;</td><td>&quot;ANG MO KIO AVE 4&quot;</td><td>&quot;01 TO 05&quot;</td><td>67.0</td><td>&quot;New Generation&quot;</td><td>1978</td><td>null</td><td>323000.0</td></tr><tr><td>2012-03-01</td><td>&quot;ANG MO KIO&quot;</td><td>&quot;3 ROOM&quot;</td><td>&quot;114&quot;</td><td>&quot;ANG MO KIO AVE 4&quot;</td><td>&quot;01 TO 05&quot;</td><td>73.0</td><td>&quot;New Generation&quot;</td><td>1978</td><td>null</td><td>339000.0</td></tr></tbody></table></div>"
      ],
      "text/plain": [
       "shape: (5, 11)\n",
       "┌─────────────┬────────┬───────────┬───────┬───┬────────────┬────────────┬────────────┬────────────┐\n",
       "│ month       ┆ town   ┆ flat_type ┆ block ┆ … ┆ flat_model ┆ lease_comm ┆ remaining_ ┆ resale_pri │\n",
       "│ ---         ┆ ---    ┆ ---       ┆ ---   ┆   ┆ ---        ┆ ence_date  ┆ lease      ┆ ce         │\n",
       "│ date        ┆ str    ┆ str       ┆ str   ┆   ┆ str        ┆ ---        ┆ ---        ┆ ---        │\n",
       "│             ┆        ┆           ┆       ┆   ┆            ┆ i64        ┆ str        ┆ f64        │\n",
       "╞═════════════╪════════╪═══════════╪═══════╪═══╪════════════╪════════════╪════════════╪════════════╡\n",
       "│ 2012-03-01  ┆ ANG MO ┆ 2 ROOM    ┆ 172   ┆ … ┆ Improved   ┆ 1986       ┆ null       ┆ 250000.0   │\n",
       "│             ┆ KIO    ┆           ┆       ┆   ┆            ┆            ┆            ┆            │\n",
       "│ 2012-03-01  ┆ ANG MO ┆ 2 ROOM    ┆ 510   ┆ … ┆ Improved   ┆ 1980       ┆ null       ┆ 265000.0   │\n",
       "│             ┆ KIO    ┆           ┆       ┆   ┆            ┆            ┆            ┆            │\n",
       "│ 2012-03-01  ┆ ANG MO ┆ 3 ROOM    ┆ 103   ┆ … ┆ New        ┆ 1978       ┆ null       ┆ 368000.0   │\n",
       "│             ┆ KIO    ┆           ┆       ┆   ┆ Generation ┆            ┆            ┆            │\n",
       "│ 2012-03-01  ┆ ANG MO ┆ 3 ROOM    ┆ 110   ┆ … ┆ New        ┆ 1978       ┆ null       ┆ 323000.0   │\n",
       "│             ┆ KIO    ┆           ┆       ┆   ┆ Generation ┆            ┆            ┆            │\n",
       "│ 2012-03-01  ┆ ANG MO ┆ 3 ROOM    ┆ 114   ┆ … ┆ New        ┆ 1978       ┆ null       ┆ 339000.0   │\n",
       "│             ┆ KIO    ┆           ┆       ┆   ┆ Generation ┆            ┆            ┆            │\n",
       "└─────────────┴────────┴───────────┴───────┴───┴────────────┴────────────┴────────────┴────────────┘"
      ]
     },
     "execution_count": 5,
     "metadata": {},
     "output_type": "execute_result"
    }
   ],
   "source": [
    "# Convert variables to appropriate types\n",
    "df_combined_col = df_combined_col.with_columns(\n",
    "    pl.col(\"resale_price\").cast(pl.Float64),\n",
    "    pl.col(\"lease_commence_date\").cast(pl.Int64),\n",
    "    pl.col(\"floor_area_sqm\").cast(pl.Float64),\n",
    "    pl.col(\"month\").str.to_date(\"%Y-%m\")\n",
    ")\n",
    "df_combined_col.head()"
   ]
  },
  {
   "cell_type": "code",
   "execution_count": 6,
   "id": "306049b6",
   "metadata": {},
   "outputs": [
    {
     "name": "stdout",
     "output_type": "stream",
     "text": [
      "Null counts in each column:\n",
      "shape: (1, 11)\n",
      "┌───────┬──────┬───────────┬───────┬───┬────────────┬───────────────┬───────────────┬──────────────┐\n",
      "│ month ┆ town ┆ flat_type ┆ block ┆ … ┆ flat_model ┆ lease_commenc ┆ remaining_lea ┆ resale_price │\n",
      "│ ---   ┆ ---  ┆ ---       ┆ ---   ┆   ┆ ---        ┆ e_date        ┆ se            ┆ ---          │\n",
      "│ u32   ┆ u32  ┆ u32       ┆ u32   ┆   ┆ u32        ┆ ---           ┆ ---           ┆ u32          │\n",
      "│       ┆      ┆           ┆       ┆   ┆            ┆ u32           ┆ u32           ┆              │\n",
      "╞═══════╪══════╪═══════════╪═══════╪═══╪════════════╪═══════════════╪═══════════════╪══════════════╡\n",
      "│ 0     ┆ 0    ┆ 0         ┆ 0     ┆ … ┆ 0          ┆ 0             ┆ 265657        ┆ 0            │\n",
      "└───────┴──────┴───────────┴───────┴───┴────────────┴───────────────┴───────────────┴──────────────┘\n"
     ]
    }
   ],
   "source": [
    "# Check for nulls\n",
    "null_counts = df_combined_col.null_count()\n",
    "print(\"Null counts in each column:\")\n",
    "print(null_counts)"
   ]
  },
  {
   "cell_type": "code",
   "execution_count": 7,
   "id": "84c88b7f",
   "metadata": {},
   "outputs": [],
   "source": [
    "# Calculate months from earliest month in dataset (Mar-2012)\n",
    "df_combined_col = df_combined_col.with_columns(\n",
    "    flat_age_years = (pl.col(\"month\").dt.year() - pl.col(\"lease_commence_date\")),\n",
    "    days_from_earliest_data = (pl.col('month') - pl.date(2012, 3, 1)).dt.total_days()\n",
    ").drop(\"remaining_lease\") # can be dropped"
   ]
  },
  {
   "cell_type": "code",
   "execution_count": 8,
   "id": "9f02963f",
   "metadata": {},
   "outputs": [
    {
     "data": {
      "text/html": [
       "<div><style>\n",
       ".dataframe > thead > tr,\n",
       ".dataframe > tbody > tr {\n",
       "  text-align: right;\n",
       "  white-space: pre-wrap;\n",
       "}\n",
       "</style>\n",
       "<small>shape: (26, 1)</small><table border=\"1\" class=\"dataframe\"><thead><tr><th>town</th></tr><tr><td>str</td></tr></thead><tbody><tr><td>&quot;KALLANG/WHAMPOA&quot;</td></tr><tr><td>&quot;WOODLANDS&quot;</td></tr><tr><td>&quot;JURONG EAST&quot;</td></tr><tr><td>&quot;SERANGOON&quot;</td></tr><tr><td>&quot;PASIR RIS&quot;</td></tr><tr><td>&quot;PUNGGOL&quot;</td></tr><tr><td>&quot;ANG MO KIO&quot;</td></tr><tr><td>&quot;BUKIT BATOK&quot;</td></tr><tr><td>&quot;TAMPINES&quot;</td></tr><tr><td>&quot;QUEENSTOWN&quot;</td></tr><tr><td>&quot;TOA PAYOH&quot;</td></tr><tr><td>&quot;CENTRAL AREA&quot;</td></tr><tr><td>&quot;JURONG WEST&quot;</td></tr><tr><td>&quot;GEYLANG&quot;</td></tr><tr><td>&quot;SENGKANG&quot;</td></tr><tr><td>&quot;CLEMENTI&quot;</td></tr><tr><td>&quot;CHOA CHU KANG&quot;</td></tr><tr><td>&quot;BUKIT PANJANG&quot;</td></tr><tr><td>&quot;BISHAN&quot;</td></tr><tr><td>&quot;SEMBAWANG&quot;</td></tr><tr><td>&quot;BUKIT MERAH&quot;</td></tr><tr><td>&quot;BEDOK&quot;</td></tr><tr><td>&quot;YISHUN&quot;</td></tr><tr><td>&quot;MARINE PARADE&quot;</td></tr><tr><td>&quot;BUKIT TIMAH&quot;</td></tr><tr><td>&quot;HOUGANG&quot;</td></tr></tbody></table></div>"
      ],
      "text/plain": [
       "shape: (26, 1)\n",
       "┌─────────────────┐\n",
       "│ town            │\n",
       "│ ---             │\n",
       "│ str             │\n",
       "╞═════════════════╡\n",
       "│ KALLANG/WHAMPOA │\n",
       "│ WOODLANDS       │\n",
       "│ JURONG EAST     │\n",
       "│ SERANGOON       │\n",
       "│ PASIR RIS       │\n",
       "│ PUNGGOL         │\n",
       "│ ANG MO KIO      │\n",
       "│ BUKIT BATOK     │\n",
       "│ TAMPINES        │\n",
       "│ QUEENSTOWN      │\n",
       "│ TOA PAYOH       │\n",
       "│ CENTRAL AREA    │\n",
       "│ JURONG WEST     │\n",
       "│ GEYLANG         │\n",
       "│ SENGKANG        │\n",
       "│ CLEMENTI        │\n",
       "│ CHOA CHU KANG   │\n",
       "│ BUKIT PANJANG   │\n",
       "│ BISHAN          │\n",
       "│ SEMBAWANG       │\n",
       "│ BUKIT MERAH     │\n",
       "│ BEDOK           │\n",
       "│ YISHUN          │\n",
       "│ MARINE PARADE   │\n",
       "│ BUKIT TIMAH     │\n",
       "│ HOUGANG         │\n",
       "└─────────────────┘"
      ]
     },
     "execution_count": 8,
     "metadata": {},
     "output_type": "execute_result"
    }
   ],
   "source": [
    "# Checking unique values of towns\n",
    "pl.Config.set_tbl_rows(100)\n",
    "df_combined_col.select(pl.col(\"town\").unique())"
   ]
  },
  {
   "cell_type": "code",
   "execution_count": 9,
   "id": "31eba144",
   "metadata": {},
   "outputs": [
    {
     "data": {
      "text/html": [
       "<div><style>\n",
       ".dataframe > thead > tr,\n",
       ".dataframe > tbody > tr {\n",
       "  text-align: right;\n",
       "  white-space: pre-wrap;\n",
       "}\n",
       "</style>\n",
       "<small>shape: (7, 1)</small><table border=\"1\" class=\"dataframe\"><thead><tr><th>flat_type</th></tr><tr><td>str</td></tr></thead><tbody><tr><td>&quot;1 ROOM&quot;</td></tr><tr><td>&quot;2 ROOM&quot;</td></tr><tr><td>&quot;MULTI-GENERATION&quot;</td></tr><tr><td>&quot;EXECUTIVE&quot;</td></tr><tr><td>&quot;5 ROOM&quot;</td></tr><tr><td>&quot;4 ROOM&quot;</td></tr><tr><td>&quot;3 ROOM&quot;</td></tr></tbody></table></div>"
      ],
      "text/plain": [
       "shape: (7, 1)\n",
       "┌──────────────────┐\n",
       "│ flat_type        │\n",
       "│ ---              │\n",
       "│ str              │\n",
       "╞══════════════════╡\n",
       "│ 1 ROOM           │\n",
       "│ 2 ROOM           │\n",
       "│ MULTI-GENERATION │\n",
       "│ EXECUTIVE        │\n",
       "│ 5 ROOM           │\n",
       "│ 4 ROOM           │\n",
       "│ 3 ROOM           │\n",
       "└──────────────────┘"
      ]
     },
     "execution_count": 9,
     "metadata": {},
     "output_type": "execute_result"
    }
   ],
   "source": [
    "# Check flat type\n",
    "df_combined_col.select(pl.col(\"flat_type\").unique())\n",
    "#df_combined_col.select(pl.col(\"block\").unique())"
   ]
  },
  {
   "cell_type": "code",
   "execution_count": 10,
   "id": "81c5c731",
   "metadata": {},
   "outputs": [
    {
     "data": {
      "text/html": [
       "<div><style>\n",
       ".dataframe > thead > tr,\n",
       ".dataframe > tbody > tr {\n",
       "  text-align: right;\n",
       "  white-space: pre-wrap;\n",
       "}\n",
       "</style>\n",
       "<small>shape: (21, 4)</small><table border=\"1\" class=\"dataframe\"><thead><tr><th>flat_model</th><th>min_lease_commence_date</th><th>max_lease_commence_date</th><th>counts</th></tr><tr><td>str</td><td>i64</td><td>i64</td><td>u32</td></tr></thead><tbody><tr><td>&quot;Terrace&quot;</td><td>1968</td><td>1972</td><td>169</td></tr><tr><td>&quot;Improved-Maisonette&quot;</td><td>1983</td><td>1983</td><td>40</td></tr><tr><td>&quot;Standard&quot;</td><td>1967</td><td>1984</td><td>9035</td></tr><tr><td>&quot;Model A-Maisonette&quot;</td><td>1983</td><td>1985</td><td>519</td></tr><tr><td>&quot;Multi Generation&quot;</td><td>1987</td><td>1988</td><td>110</td></tr><tr><td>&quot;Adjoined flat&quot;</td><td>1967</td><td>1989</td><td>497</td></tr><tr><td>&quot;Premium Maisonette&quot;</td><td>1997</td><td>1998</td><td>23</td></tr><tr><td>&quot;New Generation&quot;</td><td>1976</td><td>1999</td><td>42128</td></tr><tr><td>&quot;Maisonette&quot;</td><td>1984</td><td>2000</td><td>8399</td></tr><tr><td>&quot;Simplified&quot;</td><td>1984</td><td>2000</td><td>13147</td></tr><tr><td>&quot;Apartment&quot;</td><td>1984</td><td>2003</td><td>11324</td></tr><tr><td>&quot;Model A2&quot;</td><td>1997</td><td>2004</td><td>3789</td></tr><tr><td>&quot;Type S2&quot;</td><td>2011</td><td>2011</td><td>235</td></tr><tr><td>&quot;Type S1&quot;</td><td>2011</td><td>2011</td><td>486</td></tr><tr><td>&quot;DBSS&quot;</td><td>2008</td><td>2015</td><td>3723</td></tr><tr><td>&quot;Premium Apartment Loft&quot;</td><td>2012</td><td>2016</td><td>120</td></tr><tr><td>&quot;3Gen&quot;</td><td>2018</td><td>2020</td><td>64</td></tr><tr><td>&quot;Model A&quot;</td><td>1978</td><td>2021</td><td>101506</td></tr><tr><td>&quot;2-room&quot;</td><td>1971</td><td>2021</td><td>318</td></tr><tr><td>&quot;Improved&quot;</td><td>1966</td><td>2021</td><td>75465</td></tr><tr><td>&quot;Premium Apartment&quot;</td><td>1996</td><td>2022</td><td>31713</td></tr></tbody></table></div>"
      ],
      "text/plain": [
       "shape: (21, 4)\n",
       "┌────────────────────────┬─────────────────────────┬─────────────────────────┬────────┐\n",
       "│ flat_model             ┆ min_lease_commence_date ┆ max_lease_commence_date ┆ counts │\n",
       "│ ---                    ┆ ---                     ┆ ---                     ┆ ---    │\n",
       "│ str                    ┆ i64                     ┆ i64                     ┆ u32    │\n",
       "╞════════════════════════╪═════════════════════════╪═════════════════════════╪════════╡\n",
       "│ Terrace                ┆ 1968                    ┆ 1972                    ┆ 169    │\n",
       "│ Improved-Maisonette    ┆ 1983                    ┆ 1983                    ┆ 40     │\n",
       "│ Standard               ┆ 1967                    ┆ 1984                    ┆ 9035   │\n",
       "│ Model A-Maisonette     ┆ 1983                    ┆ 1985                    ┆ 519    │\n",
       "│ Multi Generation       ┆ 1987                    ┆ 1988                    ┆ 110    │\n",
       "│ Adjoined flat          ┆ 1967                    ┆ 1989                    ┆ 497    │\n",
       "│ Premium Maisonette     ┆ 1997                    ┆ 1998                    ┆ 23     │\n",
       "│ New Generation         ┆ 1976                    ┆ 1999                    ┆ 42128  │\n",
       "│ Maisonette             ┆ 1984                    ┆ 2000                    ┆ 8399   │\n",
       "│ Simplified             ┆ 1984                    ┆ 2000                    ┆ 13147  │\n",
       "│ Apartment              ┆ 1984                    ┆ 2003                    ┆ 11324  │\n",
       "│ Model A2               ┆ 1997                    ┆ 2004                    ┆ 3789   │\n",
       "│ Type S2                ┆ 2011                    ┆ 2011                    ┆ 235    │\n",
       "│ Type S1                ┆ 2011                    ┆ 2011                    ┆ 486    │\n",
       "│ DBSS                   ┆ 2008                    ┆ 2015                    ┆ 3723   │\n",
       "│ Premium Apartment Loft ┆ 2012                    ┆ 2016                    ┆ 120    │\n",
       "│ 3Gen                   ┆ 2018                    ┆ 2020                    ┆ 64     │\n",
       "│ Model A                ┆ 1978                    ┆ 2021                    ┆ 101506 │\n",
       "│ 2-room                 ┆ 1971                    ┆ 2021                    ┆ 318    │\n",
       "│ Improved               ┆ 1966                    ┆ 2021                    ┆ 75465  │\n",
       "│ Premium Apartment      ┆ 1996                    ┆ 2022                    ┆ 31713  │\n",
       "└────────────────────────┴─────────────────────────┴─────────────────────────┴────────┘"
      ]
     },
     "execution_count": 10,
     "metadata": {},
     "output_type": "execute_result"
    }
   ],
   "source": [
    "# Check flat model futher, by year\n",
    "df_combined_col.group_by(\"lease_commence_date\").agg(\n",
    "    pl.col(\"flat_model\").unique().alias(\"unique_flat_models\"),\n",
    "    pl.col(\"flat_type\").unique().alias(\"unique_flat_types\")\n",
    ").sort(\"lease_commence_date\").head(20)\n",
    "\n",
    "df_combined_col.group_by(\"flat_model\").agg(\n",
    "    pl.col(\"lease_commence_date\").min().alias(\"min_lease_commence_date\"),\n",
    "    pl.col(\"lease_commence_date\").max().alias(\"max_lease_commence_date\"),\n",
    "    pl.col(\"lease_commence_date\").count().alias(\"counts\"),\n",
    ").sort(\"max_lease_commence_date\")\n",
    "\n",
    "# df_combined_col.group_by(\"flat_type\").agg(\n",
    "#     pl.col(\"lease_commence_date\").min().alias(\"min_lease_commence_date\"),\n",
    "#     pl.col(\"lease_commence_date\").max().alias(\"max_lease_commence_date\"),\n",
    "#     pl.col(\"lease_commence_date\").count().alias(\"counts\"),\n",
    "# ).sort(\"max_lease_commence_date\")\n",
    "\n",
    "\n",
    "# df_combined_col.with_columns(year=pl.col(\"month\").dt.year()).group_by(\"year\").agg(\n",
    "#     pl.col(\"flat_model\").unique().alias(\"unique_flat_models\")\n",
    "# ).sort(\"year\").head(20)\n",
    "\n"
   ]
  },
  {
   "cell_type": "code",
   "execution_count": 11,
   "id": "8a7ef469",
   "metadata": {},
   "outputs": [
    {
     "data": {
      "text/html": [
       "<div><style>\n",
       ".dataframe > thead > tr,\n",
       ".dataframe > tbody > tr {\n",
       "  text-align: right;\n",
       "  white-space: pre-wrap;\n",
       "}\n",
       "</style>\n",
       "<small>shape: (18, 1)</small><table border=\"1\" class=\"dataframe\"><thead><tr><th>flat_model_revised</th></tr><tr><td>str</td></tr></thead><tbody><tr><td>&quot;2-room&quot;</td></tr><tr><td>&quot;3Gen&quot;</td></tr><tr><td>&quot;Adjoined flat&quot;</td></tr><tr><td>&quot;Apartment&quot;</td></tr><tr><td>&quot;DBSS&quot;</td></tr><tr><td>&quot;Improved&quot;</td></tr><tr><td>&quot;Maisonette&quot;</td></tr><tr><td>&quot;Model A&quot;</td></tr><tr><td>&quot;Model A2&quot;</td></tr><tr><td>&quot;Multi Generation&quot;</td></tr><tr><td>&quot;New Generation&quot;</td></tr><tr><td>&quot;Premium Apartment&quot;</td></tr><tr><td>&quot;Premium Apartment Loft&quot;</td></tr><tr><td>&quot;Simplified&quot;</td></tr><tr><td>&quot;Standard&quot;</td></tr><tr><td>&quot;Terrace&quot;</td></tr><tr><td>&quot;Type S1&quot;</td></tr><tr><td>&quot;Type S2&quot;</td></tr></tbody></table></div>"
      ],
      "text/plain": [
       "shape: (18, 1)\n",
       "┌────────────────────────┐\n",
       "│ flat_model_revised     │\n",
       "│ ---                    │\n",
       "│ str                    │\n",
       "╞════════════════════════╡\n",
       "│ 2-room                 │\n",
       "│ 3Gen                   │\n",
       "│ Adjoined flat          │\n",
       "│ Apartment              │\n",
       "│ DBSS                   │\n",
       "│ Improved               │\n",
       "│ Maisonette             │\n",
       "│ Model A                │\n",
       "│ Model A2               │\n",
       "│ Multi Generation       │\n",
       "│ New Generation         │\n",
       "│ Premium Apartment      │\n",
       "│ Premium Apartment Loft │\n",
       "│ Simplified             │\n",
       "│ Standard               │\n",
       "│ Terrace                │\n",
       "│ Type S1                │\n",
       "│ Type S2                │\n",
       "└────────────────────────┘"
      ]
     },
     "execution_count": 11,
     "metadata": {},
     "output_type": "execute_result"
    }
   ],
   "source": [
    "# Cleaning flat model: Combine Maisonettes\n",
    "df_combined_col =df_combined_col.with_columns(flat_model_revised = pl.when(pl.col(\"flat_model\").str.contains(\"Maisonette\"))\n",
    "    .then(pl.lit(\"Maisonette\"))\n",
    "    .otherwise(pl.col(\"flat_model\"))\n",
    ")\n",
    "df_combined_col.select(pl.col(\"flat_model_revised\").unique()).sort(\"flat_model_revised\")"
   ]
  },
  {
   "cell_type": "code",
   "execution_count": 12,
   "id": "9045d6fc",
   "metadata": {},
   "outputs": [
    {
     "data": {
      "text/html": [
       "<div><style>\n",
       ".dataframe > thead > tr,\n",
       ".dataframe > tbody > tr {\n",
       "  text-align: right;\n",
       "  white-space: pre-wrap;\n",
       "}\n",
       "</style>\n",
       "<small>shape: (25, 1)</small><table border=\"1\" class=\"dataframe\"><thead><tr><th>storey_range</th></tr><tr><td>str</td></tr></thead><tbody><tr><td>&quot;21 TO 25&quot;</td></tr><tr><td>&quot;36 TO 40&quot;</td></tr><tr><td>&quot;07 TO 09&quot;</td></tr><tr><td>&quot;01 TO 03&quot;</td></tr><tr><td>&quot;19 TO 21&quot;</td></tr><tr><td>&quot;25 TO 27&quot;</td></tr><tr><td>&quot;04 TO 06&quot;</td></tr><tr><td>&quot;22 TO 24&quot;</td></tr><tr><td>&quot;46 TO 48&quot;</td></tr><tr><td>&quot;16 TO 18&quot;</td></tr><tr><td>&quot;26 TO 30&quot;</td></tr><tr><td>&quot;49 TO 51&quot;</td></tr><tr><td>&quot;31 TO 33&quot;</td></tr><tr><td>&quot;13 TO 15&quot;</td></tr><tr><td>&quot;28 TO 30&quot;</td></tr><tr><td>&quot;06 TO 10&quot;</td></tr><tr><td>&quot;11 TO 15&quot;</td></tr><tr><td>&quot;37 TO 39&quot;</td></tr><tr><td>&quot;10 TO 12&quot;</td></tr><tr><td>&quot;31 TO 35&quot;</td></tr><tr><td>&quot;01 TO 05&quot;</td></tr><tr><td>&quot;34 TO 36&quot;</td></tr><tr><td>&quot;16 TO 20&quot;</td></tr><tr><td>&quot;40 TO 42&quot;</td></tr><tr><td>&quot;43 TO 45&quot;</td></tr></tbody></table></div>"
      ],
      "text/plain": [
       "shape: (25, 1)\n",
       "┌──────────────┐\n",
       "│ storey_range │\n",
       "│ ---          │\n",
       "│ str          │\n",
       "╞══════════════╡\n",
       "│ 21 TO 25     │\n",
       "│ 36 TO 40     │\n",
       "│ 07 TO 09     │\n",
       "│ 01 TO 03     │\n",
       "│ 19 TO 21     │\n",
       "│ 25 TO 27     │\n",
       "│ 04 TO 06     │\n",
       "│ 22 TO 24     │\n",
       "│ 46 TO 48     │\n",
       "│ 16 TO 18     │\n",
       "│ 26 TO 30     │\n",
       "│ 49 TO 51     │\n",
       "│ 31 TO 33     │\n",
       "│ 13 TO 15     │\n",
       "│ 28 TO 30     │\n",
       "│ 06 TO 10     │\n",
       "│ 11 TO 15     │\n",
       "│ 37 TO 39     │\n",
       "│ 10 TO 12     │\n",
       "│ 31 TO 35     │\n",
       "│ 01 TO 05     │\n",
       "│ 34 TO 36     │\n",
       "│ 16 TO 20     │\n",
       "│ 40 TO 42     │\n",
       "│ 43 TO 45     │\n",
       "└──────────────┘"
      ]
     },
     "execution_count": 12,
     "metadata": {},
     "output_type": "execute_result"
    }
   ],
   "source": [
    "# Checking unique values of storey blocks\n",
    "pl.Config.set_tbl_rows(100)\n",
    "df_combined_col.select(pl.col(\"storey_range\").unique())"
   ]
  },
  {
   "cell_type": "code",
   "execution_count": 13,
   "id": "6610d65b",
   "metadata": {},
   "outputs": [
    {
     "data": {
      "text/html": [
       "<div><style>\n",
       ".dataframe > thead > tr,\n",
       ".dataframe > tbody > tr {\n",
       "  text-align: right;\n",
       "  white-space: pre-wrap;\n",
       "}\n",
       "</style>\n",
       "<small>shape: (3, 4)</small><table border=\"1\" class=\"dataframe\"><thead><tr><th>storey_range_grouped</th><th>min_storey</th><th>max_storey</th><th>counts</th></tr><tr><td>str</td><td>i64</td><td>i64</td><td>u32</td></tr></thead><tbody><tr><td>&quot;0-15&quot;</td><td>3</td><td>15</td><td>275412</td></tr><tr><td>&quot;16-30&quot;</td><td>18</td><td>30</td><td>25067</td></tr><tr><td>&quot;31+&quot;</td><td>33</td><td>51</td><td>2331</td></tr></tbody></table></div>"
      ],
      "text/plain": [
       "shape: (3, 4)\n",
       "┌──────────────────────┬────────────┬────────────┬────────┐\n",
       "│ storey_range_grouped ┆ min_storey ┆ max_storey ┆ counts │\n",
       "│ ---                  ┆ ---        ┆ ---        ┆ ---    │\n",
       "│ str                  ┆ i64        ┆ i64        ┆ u32    │\n",
       "╞══════════════════════╪════════════╪════════════╪════════╡\n",
       "│ 0-15                 ┆ 3          ┆ 15         ┆ 275412 │\n",
       "│ 16-30                ┆ 18         ┆ 30         ┆ 25067  │\n",
       "│ 31+                  ┆ 33         ┆ 51         ┆ 2331   │\n",
       "└──────────────────────┴────────────┴────────────┴────────┘"
      ]
     },
     "execution_count": 13,
     "metadata": {},
     "output_type": "execute_result"
    }
   ],
   "source": [
    "# Create min max value for stories, then group every 15 storeys since a part of the data groups every 5 floors instead of 3 floors\n",
    "df_combined_col = df_combined_col.with_columns(\n",
    "    storey_max = pl.col(\"storey_range\").str.slice(-2,2).cast(pl.Int64)\n",
    ")\n",
    "\n",
    "\n",
    "df_combined_col = df_combined_col.with_columns(\n",
    "    storey_range_grouped = (pl.when(pl.col(\"storey_max\")<= 15).then(pl.lit(\"0-15\"))\n",
    "                            .when(pl.col(\"storey_max\").is_between(16, 30)).then(pl.lit(\"16-30\"))\n",
    "                            .otherwise(pl.lit(\"31+\")))\n",
    ")\n",
    "df_combined_col.group_by(\"storey_range_grouped\").agg(\n",
    "    pl.col(\"storey_max\").min().alias(\"min_storey\"),\n",
    "    pl.col(\"storey_max\").max().alias(\"max_storey\"),\n",
    "    pl.col(\"storey_max\").count().alias(\"counts\")\n",
    ").sort(\"storey_range_grouped\")"
   ]
  },
  {
   "cell_type": "code",
   "execution_count": 14,
   "id": "5f4e6daa",
   "metadata": {},
   "outputs": [],
   "source": [
    "# Other factors to KIV: Distance from MRT/amenities, lease years left, supply and demand of surrounding areas"
   ]
  },
  {
   "cell_type": "code",
   "execution_count": 16,
   "id": "dd4ec5c8",
   "metadata": {},
   "outputs": [
    {
     "data": {
      "text/plain": [
       "['month',\n",
       " 'town',\n",
       " 'flat_type',\n",
       " 'block',\n",
       " 'street_name',\n",
       " 'storey_range',\n",
       " 'floor_area_sqm',\n",
       " 'flat_model',\n",
       " 'lease_commence_date',\n",
       " 'resale_price',\n",
       " 'flat_age_years',\n",
       " 'days_from_earliest_data',\n",
       " 'flat_model_revised',\n",
       " 'storey_max',\n",
       " 'storey_range_grouped']"
      ]
     },
     "execution_count": 16,
     "metadata": {},
     "output_type": "execute_result"
    }
   ],
   "source": [
    "df_combined_col.columns"
   ]
  },
  {
   "cell_type": "code",
   "execution_count": 17,
   "id": "7ada7a7d",
   "metadata": {},
   "outputs": [
    {
     "name": "stdout",
     "output_type": "stream",
     "text": [
      "Null counts in each column:\n",
      "shape: (1, 8)\n",
      "┌───────┬──────┬───────────┬──────────────┬──────────────┬─────────────┬─────────────┬─────────────┐\n",
      "│ month ┆ town ┆ flat_type ┆ flat_model_r ┆ flat_age_yea ┆ floor_area_ ┆ days_from_e ┆ resale_pric │\n",
      "│ ---   ┆ ---  ┆ ---       ┆ evised       ┆ rs           ┆ sqm         ┆ arliest_dat ┆ e           │\n",
      "│ u32   ┆ u32  ┆ u32       ┆ ---          ┆ ---          ┆ ---         ┆ a           ┆ ---         │\n",
      "│       ┆      ┆           ┆ u32          ┆ u32          ┆ u32         ┆ ---         ┆ u32         │\n",
      "│       ┆      ┆           ┆              ┆              ┆             ┆ u32         ┆             │\n",
      "╞═══════╪══════╪═══════════╪══════════════╪══════════════╪═════════════╪═════════════╪═════════════╡\n",
      "│ 0     ┆ 0    ┆ 0         ┆ 0            ┆ 0            ┆ 0           ┆ 0           ┆ 0           │\n",
      "└───────┴──────┴───────────┴──────────────┴──────────────┴─────────────┴─────────────┴─────────────┘\n"
     ]
    }
   ],
   "source": [
    "# Keep relevant columns\n",
    "df_output = df_combined_col.select(\n",
    "        'month',\n",
    "        'town',\n",
    "        'flat_type',\n",
    "        'flat_model_revised',\n",
    "        'flat_age_years',\n",
    "        'floor_area_sqm',\n",
    "        'days_from_earliest_data',\n",
    "        'resale_price',\n",
    ")\n",
    "\n",
    "# Check for nulls\n",
    "null_counts = df_output.null_count()\n",
    "print(\"Null counts in each column:\")\n",
    "print(null_counts)"
   ]
  },
  {
   "cell_type": "code",
   "execution_count": null,
   "id": "f092473f",
   "metadata": {},
   "outputs": [],
   "source": [
    "# Split into train (2012-2023), test(2024) and deploy sets (2025)\n",
    "train = df_output.filter(df_output['month'].dt.year().is_between(2012, 2023)).drop(\"month\").write_parquet(\"../data/processed/train.parquet\")\n",
    "test = df_output.filter(df_output['month'].dt.year() == 2024).drop(\"month\").write_parquet(\"../data/processed/test.parquet\")\n",
    "deploy = df_output.filter(df_output['month'].dt.year() == 2025).drop(\"month\").write_parquet(\"../data/processed/deploy.parquet\")"
   ]
  }
 ],
 "metadata": {
  "kernelspec": {
   "display_name": "bike-snowflake",
   "language": "python",
   "name": "python3"
  },
  "language_info": {
   "codemirror_mode": {
    "name": "ipython",
    "version": 3
   },
   "file_extension": ".py",
   "mimetype": "text/x-python",
   "name": "python",
   "nbconvert_exporter": "python",
   "pygments_lexer": "ipython3",
   "version": "3.12.11"
  }
 },
 "nbformat": 4,
 "nbformat_minor": 5
}
