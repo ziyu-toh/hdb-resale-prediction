{
 "cells": [
  {
   "cell_type": "code",
   "execution_count": 37,
   "id": "23593c2b",
   "metadata": {},
   "outputs": [],
   "source": [
    "import polars as pl\n",
    "import torch\n",
    "import numpy as np\n",
    "import os\n",
    "\n",
    "DATA_PATH = \"../data/processed\"\n",
    "MODEL_PATH = \"../models\"\n"
   ]
  },
  {
   "cell_type": "code",
   "execution_count": null,
   "id": "092cc085",
   "metadata": {},
   "outputs": [],
   "source": [
    "# load data\n",
    "train = pl.read_parquet(os.path.join(DATA_PATH, \"train.parquet\"))\n",
    "test = pl.read_parquet(os.path.join(DATA_PATH, \"test.parquet\"))"
   ]
  },
  {
   "cell_type": "code",
   "execution_count": 26,
   "id": "599cf84c",
   "metadata": {},
   "outputs": [
    {
     "data": {
      "text/plain": [
       "(65730, 12)"
      ]
     },
     "execution_count": 26,
     "metadata": {},
     "output_type": "execute_result"
    }
   ],
   "source": [
    "train.shape"
   ]
  },
  {
   "cell_type": "code",
   "execution_count": 28,
   "id": "4c36de4c",
   "metadata": {},
   "outputs": [
    {
     "data": {
      "text/plain": [
       "['date',\n",
       " 'mr_lag_1',\n",
       " 'mr_lag_2',\n",
       " 'mr_lag_3',\n",
       " 'mr_lag_4',\n",
       " 'mr_lag_5',\n",
       " 'mr_lag_6',\n",
       " 'mr_lag_7',\n",
       " 'location_longitude',\n",
       " 'location_latitude',\n",
       " 'station_name',\n",
       " 'y']"
      ]
     },
     "execution_count": 28,
     "metadata": {},
     "output_type": "execute_result"
    }
   ],
   "source": [
    "train.columns"
   ]
  },
  {
   "cell_type": "code",
   "execution_count": 29,
   "id": "966480b3",
   "metadata": {},
   "outputs": [
    {
     "data": {
      "text/plain": [
       "(65520, 12)"
      ]
     },
     "execution_count": 29,
     "metadata": {},
     "output_type": "execute_result"
    }
   ],
   "source": [
    "# Keep only rows with full values\n",
    "train = train.filter(pl.col(\"mr_lag_7\").is_not_null())\n",
    "test = test.filter(pl.col(\"mr_lag_7\").is_not_null())\n",
    "train.shape"
   ]
  },
  {
   "cell_type": "code",
   "execution_count": 30,
   "id": "8d7a215c",
   "metadata": {},
   "outputs": [],
   "source": [
    "# train pytorch LSTM model predicting whether it will rain the next day or not on time series data.\n",
    "# use the value of rainfall in the last 7 days along with location as input features, and whether \n",
    "# it rained the next day as the target variable.\n",
    "class RainfallLSTM(torch.nn.Module):\n",
    "    def __init__(self, input_size, hidden_size, output_size):\n",
    "        super(RainfallLSTM, self).__init__()\n",
    "        self.lstm = torch.nn.LSTM(input_size, hidden_size, batch_first=True)\n",
    "        self.fc = torch.nn.Linear(hidden_size, output_size)\n",
    "\n",
    "    def forward(self, x):\n",
    "        out, _ = self.lstm(x)\n",
    "        out = self.fc(out[:, -1, :])\n",
    "        return torch.sigmoid(out)\n"
   ]
  },
  {
   "cell_type": "code",
   "execution_count": 31,
   "id": "8dc8fb95",
   "metadata": {},
   "outputs": [],
   "source": [
    "# prepare data for training\n",
    "drop_cols = [\"date\", \"station_name\", \"y\"]\n",
    "X_train = train.drop(drop_cols).to_numpy()\n",
    "X_test = test.drop(drop_cols).to_numpy()\n",
    "\n",
    "y_train = train[\"y\"].to_numpy().reshape(-1, 1)\n",
    "y_test = test[\"y\"].to_numpy().reshape(-1, 1)"
   ]
  },
  {
   "cell_type": "code",
   "execution_count": 32,
   "id": "a65c4608",
   "metadata": {},
   "outputs": [],
   "source": [
    "# initiate model, loss function and optimizer\n",
    "model = RainfallLSTM(input_size=X_train.shape[1], hidden_size=64, output_size=1)\n",
    "criterion = torch.nn.BCELoss()\n",
    "optimizer = torch.optim.Adam(model.parameters(), lr=0.001)"
   ]
  },
  {
   "cell_type": "code",
   "execution_count": null,
   "id": "75fa0d98",
   "metadata": {},
   "outputs": [
    {
     "name": "stdout",
     "output_type": "stream",
     "text": [
      "Epoch [1/20], Loss: 0.6735\n",
      "Epoch [2/20], Loss: 0.6733\n",
      "Epoch [3/20], Loss: 0.6727\n",
      "Epoch [4/20], Loss: 0.6714\n",
      "Epoch [5/20], Loss: 0.6677\n",
      "Epoch [6/20], Loss: 0.6690\n",
      "Epoch [7/20], Loss: 0.6677\n",
      "Epoch [8/20], Loss: 0.6669\n",
      "Epoch [9/20], Loss: 0.6666\n",
      "Epoch [10/20], Loss: 0.6672\n",
      "Epoch [11/20], Loss: 0.6669\n",
      "Epoch [12/20], Loss: 0.6661\n",
      "Epoch [13/20], Loss: 0.6648\n",
      "Epoch [14/20], Loss: 0.6647\n",
      "Epoch [15/20], Loss: 0.6641\n",
      "Epoch [16/20], Loss: 0.6633\n",
      "Epoch [17/20], Loss: 0.6628\n",
      "Epoch [18/20], Loss: 0.6623\n",
      "Epoch [19/20], Loss: 0.6623\n",
      "Epoch [20/20], Loss: 0.6601\n"
     ]
    }
   ],
   "source": [
    "# train model\n",
    "num_epochs = 20\n",
    "batch_size = 32\n",
    "\n",
    "for epoch in range(num_epochs):\n",
    "    model.train()\n",
    "    for i in range(0, len(X_train), batch_size):\n",
    "        X_batch = torch.tensor(X_train[i:i + batch_size], dtype=torch.float32).unsqueeze(1)\n",
    "        y_batch = torch.tensor(y_train[i:i + batch_size], dtype=torch.float32)\n",
    "\n",
    "        optimizer.zero_grad()\n",
    "        outputs = model(X_batch)\n",
    "        loss = criterion(outputs, y_batch)\n",
    "        loss.backward()\n",
    "        optimizer.step()\n",
    "\n",
    "    if (epoch + 1) % 5 == 0:\n",
    "        print(f'Epoch [{epoch + 1}/{num_epochs}], Loss: {loss.item():.4f}')\n",
    "        "
   ]
  },
  {
   "cell_type": "code",
   "execution_count": 36,
   "id": "de044d95",
   "metadata": {},
   "outputs": [
    {
     "name": "stdout",
     "output_type": "stream",
     "text": [
      "Test Accuracy: 0.6294\n"
     ]
    }
   ],
   "source": [
    "# Calculate accuracy on test set\n",
    "model.eval()\n",
    "with torch.no_grad():\n",
    "    X_test_tensor = torch.tensor(X_test, dtype=torch.float32).unsqueeze(1)\n",
    "    y_test_tensor = torch.tensor(y_test, dtype=torch.float32)\n",
    "    outputs = model(X_test_tensor)\n",
    "    predicted = (outputs > 0.5).float()\n",
    "    accuracy = (predicted == y_test_tensor).float().mean()\n",
    "    print(f'Test Accuracy: {accuracy.item():.4f}')"
   ]
  },
  {
   "cell_type": "code",
   "execution_count": 39,
   "id": "eae8173a",
   "metadata": {},
   "outputs": [
    {
     "name": "stdout",
     "output_type": "stream",
     "text": [
      "Model saved to ../models/rainfall_lstm_baseline.pth\n"
     ]
    }
   ],
   "source": [
    "# Output model\n",
    "torch.save(model.state_dict(), os.path.join(MODEL_PATH, \"rainfall_lstm_baseline.pth\"))\n",
    "print(\"Model saved to\", os.path.join(MODEL_PATH, \"rainfall_lstm_baseline.pth\"))"
   ]
  },
  {
   "cell_type": "code",
   "execution_count": null,
   "id": "3afc1f09",
   "metadata": {},
   "outputs": [],
   "source": []
  }
 ],
 "metadata": {
  "kernelspec": {
   "display_name": "bike-snowflake",
   "language": "python",
   "name": "python3"
  },
  "language_info": {
   "codemirror_mode": {
    "name": "ipython",
    "version": 3
   },
   "file_extension": ".py",
   "mimetype": "text/x-python",
   "name": "python",
   "nbconvert_exporter": "python",
   "pygments_lexer": "ipython3",
   "version": "3.12.11"
  }
 },
 "nbformat": 4,
 "nbformat_minor": 5
}
