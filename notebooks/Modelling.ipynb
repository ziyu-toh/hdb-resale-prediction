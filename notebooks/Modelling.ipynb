{
 "cells": [
  {
   "cell_type": "code",
   "execution_count": null,
   "id": "23593c2b",
   "metadata": {},
   "outputs": [],
   "source": [
    "import pandas as pd\n",
    "import numpy as np\n",
    "import mlflow\n",
    "from sklearn.pipeline import Pipeline\n",
    "from sklearn.compose import ColumnTransformer\n",
    "from sklearn.preprocessing import OneHotEncoder, StandardScaler\n",
    "from sklearn.ensemble import RandomForestRegressor\n",
    "from sklearn.linear_model import LinearRegression, ElasticNet\n",
    "from sklearn.model_selection import cross_val_score, KFold, TimeSeriesSplit\n",
    "from sklearn.metrics import mean_absolute_error, mean_squared_error, r2_score\n",
    "from sklearn.impute import SimpleImputer\n",
    "import matplotlib.pyplot as plt\n",
    "import seaborn as sns   \n",
    "import warnings\n",
    "import pickle\n",
    "\n",
    "warnings.filterwarnings('ignore')"
   ]
  },
  {
   "cell_type": "code",
   "execution_count": 2,
   "id": "f64a3472",
   "metadata": {},
   "outputs": [],
   "source": [
    "# Load data\n",
    "train_df = pd.read_parquet('../data/processed/train.parquet')\n",
    "test_df = pd.read_parquet('../data/processed/test.parquet')\n"
   ]
  },
  {
   "cell_type": "code",
   "execution_count": 3,
   "id": "de0932e4",
   "metadata": {},
   "outputs": [],
   "source": [
    "# create sklearn pipeline with pre-processing of numerical and categorical features\n",
    "def pipeline(train_df):\n",
    "    \"\"\"Create a machine learning pipeline with preprocessing and model\"\"\"\n",
    "    numeric_features = train_df.drop(\"resale_price\", axis=1).select_dtypes(include=['int64', 'float64']).columns.tolist()\n",
    "    categorical_features = train_df.select_dtypes(include=['object']).columns.tolist()\n",
    "    print(f\"Numeric features: {numeric_features}\")\n",
    "    print(f\"Categorical features: {categorical_features}\")\n",
    "\n",
    "    numeric_transformer = Pipeline(steps=[\n",
    "        ('scaler', StandardScaler())\n",
    "    ])\n",
    "\n",
    "    categorical_transformer = Pipeline(steps=[\n",
    "        ('onehot', OneHotEncoder(handle_unknown='ignore'))\n",
    "    ])\n",
    "\n",
    "    preprocessor = ColumnTransformer(\n",
    "        transformers=[\n",
    "            ('num', numeric_transformer, numeric_features),\n",
    "            ('cat', categorical_transformer, categorical_features)\n",
    "        ]\n",
    "    )\n",
    "\n",
    "    pipeline = Pipeline(steps=[\n",
    "        ('preprocessor', preprocessor),\n",
    "        ('model', LinearRegression())\n",
    "    ])\n",
    "    return pipeline"
   ]
  },
  {
   "cell_type": "code",
   "execution_count": 4,
   "id": "269a30a5",
   "metadata": {},
   "outputs": [],
   "source": [
    "# train model\n",
    "def train_model(pipeline, train_df):\n",
    "    \"\"\"Train the model using cross-validation\"\"\"\n",
    "    print(\"Training model\")\n",
    "    X = train_df.drop(columns=['resale_price'])\n",
    "    y = train_df['resale_price']\n",
    "    \n",
    "    kf = TimeSeriesSplit(n_splits=5)\n",
    "    scores = cross_val_score(pipeline, X, y, cv=kf, scoring='neg_root_mean_squared_error',\n",
    "                             verbose=1)\n",
    "    \n",
    "    print(f\"Cross-validated RMSE: {-scores.mean():.2f} ± {scores.std():.2f}\")\n",
    "    \n",
    "    pipeline.fit(X, y)\n",
    "    \n",
    "    return pipeline"
   ]
  },
  {
   "cell_type": "code",
   "execution_count": null,
   "id": "efa545d3",
   "metadata": {},
   "outputs": [
    {
     "name": "stderr",
     "output_type": "stream",
     "text": [
      "2025/08/25 17:22:12 INFO mlflow.tracking.fluent: Experiment with name 'Bike Resale Price Prediction' does not exist. Creating a new experiment.\n",
      "2025/08/25 17:22:13 INFO mlflow.tracking.fluent: Autologging successfully enabled for sklearn.\n"
     ]
    }
   ],
   "source": [
    "# define mlflow experiment and trigger autologging\n",
    "mlflow.set_experiment(\"Bike Resale Price Prediction\")\n",
    "mlflow.set_tracking_uri(\"http://127.0.0.1:8080/\")\n",
    "\n"
   ]
  },
  {
   "cell_type": "code",
   "execution_count": 8,
   "id": "d34a71c1",
   "metadata": {},
   "outputs": [
    {
     "name": "stdout",
     "output_type": "stream",
     "text": [
      "Numeric features: ['flat_age_years', 'floor_area_sqm', 'days_from_earliest_data']\n",
      "Categorical features: ['town', 'flat_type', 'flat_model_revised']\n",
      "Training model\n"
     ]
    },
    {
     "name": "stderr",
     "output_type": "stream",
     "text": [
      "[Parallel(n_jobs=1)]: Done   5 out of   5 | elapsed:   16.1s finished\n"
     ]
    },
    {
     "name": "stdout",
     "output_type": "stream",
     "text": [
      "Cross-validated RMSE: 86993.16 ± 24371.27\n"
     ]
    },
    {
     "name": "stderr",
     "output_type": "stream",
     "text": [
      "2025/08/25 17:25:00 INFO mlflow.tracking.fluent: Autologging successfully enabled for sklearn.\n"
     ]
    },
    {
     "name": "stdout",
     "output_type": "stream",
     "text": [
      "🏃 View run handsome-yak-749 at: http://127.0.0.1:8080/#/experiments/738064824697976650/runs/d15a20a4efcc4a22aa5b44f03bd19f99\n",
      "🧪 View experiment at: http://127.0.0.1:8080/#/experiments/738064824697976650\n"
     ]
    }
   ],
   "source": [
    "# Training model with the pipeline\n",
    "with mlflow.start_run() as run:\n",
    "    trained_pipeline = train_model(pipeline=pipeline(train_df), train_df=train_df)\n",
    "    mlflow.autolog()\n"
   ]
  },
  {
   "cell_type": "code",
   "execution_count": null,
   "id": "99c36d48",
   "metadata": {},
   "outputs": [],
   "source": [
    "# By right still need to implement final test on test set, but skipping for now"
   ]
  },
  {
   "cell_type": "code",
   "execution_count": null,
   "id": "131738f9",
   "metadata": {},
   "outputs": [],
   "source": [
    "# Access mlflow dashboard at http://127.0.0.1:8080 after running mlflow server --host 127.0.0.1 --port 8080 in the terminal"
   ]
  },
  {
   "cell_type": "code",
   "execution_count": null,
   "id": "7015fa80",
   "metadata": {},
   "outputs": [
    {
     "name": "stderr",
     "output_type": "stream",
     "text": [
      "Successfully registered model 'HDBResalePricePrediction'.\n",
      "2025/08/25 17:31:17 WARNING mlflow.tracking._model_registry.fluent: Run with id d15a20a4efcc4a22aa5b44f03bd19f99 has no artifacts at artifact path 'model', registering model based on models:/m-14650b173852448b9bf9f35229dd184a instead\n",
      "2025/08/25 17:31:17 INFO mlflow.store.model_registry.abstract_store: Waiting up to 300 seconds for model version to finish creation. Model name: HDBResalePricePrediction, version 1\n",
      "Created version '1' of model 'HDBResalePricePrediction'.\n"
     ]
    },
    {
     "data": {
      "text/plain": [
       "<ModelVersion: aliases=[], creation_timestamp=1756114277226, current_stage='None', deployment_job_state=<ModelVersionDeploymentJobState: current_task_name='', job_id='', job_state='DEPLOYMENT_JOB_CONNECTION_STATE_UNSPECIFIED', run_id='', run_state='DEPLOYMENT_JOB_RUN_STATE_UNSPECIFIED'>, description='', last_updated_timestamp=1756114277226, metrics=None, model_id=None, name='HDBResalePricePrediction', params=None, run_id='d15a20a4efcc4a22aa5b44f03bd19f99', run_link='', source='models:/m-14650b173852448b9bf9f35229dd184a', status='READY', status_message=None, tags={}, user_id='', version='1'>"
      ]
     },
     "execution_count": 9,
     "metadata": {},
     "output_type": "execute_result"
    }
   ],
   "source": [
    "# Registering best model to MLflow Model Registry\n",
    "mlflow.register_model(\n",
    "    model_uri=\"runs:/d15a20a4efcc4a22aa5b44f03bd19f99/model\", # run_id is from the experiment, not the model\n",
    "    name=\"HDBResalePricePrediction\"\n",
    ")"
   ]
  },
  {
   "cell_type": "code",
   "execution_count": null,
   "id": "a6f9a5ff",
   "metadata": {},
   "outputs": [
    {
     "name": "stdout",
     "output_type": "stream",
     "text": [
      "Predictions:  [224093.93676205 234874.77441391 385558.81030504 362062.89839062\n",
      " 412411.28106437]\n"
     ]
    }
   ],
   "source": [
    "# Reloading best model, saving to models directory for deployment\n",
    "model_uri = f\"runs:/d15a20a4efcc4a22aa5b44f03bd19f99/model\"\n",
    "loaded_model = mlflow.sklearn.load_model(model_uri)\n",
    "print(\"Predictions: \", loaded_model.predict(test_df.drop(columns=['resale_price']).iloc[:5]))\n",
    "\n",
    "with open('../models/champion_model.pkl', 'wb') as f:\n",
    "    pickle.dump(loaded_model, f)"
   ]
  }
 ],
 "metadata": {
  "kernelspec": {
   "display_name": "bike-snowflake",
   "language": "python",
   "name": "python3"
  },
  "language_info": {
   "codemirror_mode": {
    "name": "ipython",
    "version": 3
   },
   "file_extension": ".py",
   "mimetype": "text/x-python",
   "name": "python",
   "nbconvert_exporter": "python",
   "pygments_lexer": "ipython3",
   "version": "3.12.11"
  }
 },
 "nbformat": 4,
 "nbformat_minor": 5
}
