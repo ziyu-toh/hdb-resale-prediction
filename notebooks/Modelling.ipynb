{
 "cells": [
  {
   "cell_type": "code",
   "execution_count": 1,
   "id": "23593c2b",
   "metadata": {},
   "outputs": [],
   "source": [
    "import pandas as pd\n",
    "import numpy as np\n",
    "import mlflow\n",
    "from sklearn.pipeline import Pipeline\n",
    "from sklearn.compose import ColumnTransformer\n",
    "from sklearn.preprocessing import OneHotEncoder, StandardScaler\n",
    "from sklearn.ensemble import RandomForestRegressor\n",
    "from sklearn.linear_model import LinearRegression, ElasticNet\n",
    "from sklearn.model_selection import cross_val_score, KFold, TimeSeriesSplit\n",
    "from sklearn.metrics import mean_absolute_error, mean_squared_error, r2_score\n",
    "from sklearn.impute import SimpleImputer\n",
    "import matplotlib.pyplot as plt\n",
    "import seaborn as sns   \n",
    "import warnings\n",
    "import pickle\n",
    "\n",
    "warnings.filterwarnings('ignore')"
   ]
  },
  {
   "cell_type": "code",
   "execution_count": 2,
   "id": "f64a3472",
   "metadata": {},
   "outputs": [
    {
     "data": {
      "application/vnd.microsoft.datawrangler.viewer.v0+json": {
       "columns": [
        {
         "name": "index",
         "rawType": "int64",
         "type": "integer"
        },
        {
         "name": "town",
         "rawType": "object",
         "type": "string"
        },
        {
         "name": "flat_type",
         "rawType": "object",
         "type": "string"
        },
        {
         "name": "flat_model_revised",
         "rawType": "object",
         "type": "string"
        },
        {
         "name": "flat_age_years",
         "rawType": "int64",
         "type": "integer"
        },
        {
         "name": "floor_area_sqm",
         "rawType": "float64",
         "type": "float"
        },
        {
         "name": "days_from_earliest_data",
         "rawType": "int64",
         "type": "integer"
        },
        {
         "name": "storey_range_grouped",
         "rawType": "object",
         "type": "string"
        },
        {
         "name": "resale_price",
         "rawType": "float64",
         "type": "float"
        }
       ],
       "ref": "6a65b995-e544-4935-b6c7-051a70d10534",
       "rows": [
        [
         "0",
         "ANG MO KIO",
         "2 ROOM",
         "Improved",
         "46",
         "44.0",
         "4323",
         "0-15",
         "288000.0"
        ],
        [
         "1",
         "ANG MO KIO",
         "2 ROOM",
         "Improved",
         "44",
         "44.0",
         "4323",
         "0-15",
         "322500.0"
        ],
        [
         "2",
         "ANG MO KIO",
         "3 ROOM",
         "New Generation",
         "46",
         "74.0",
         "4323",
         "0-15",
         "415000.0"
        ],
        [
         "3",
         "ANG MO KIO",
         "3 ROOM",
         "New Generation",
         "46",
         "67.0",
         "4323",
         "0-15",
         "370000.0"
        ],
        [
         "4",
         "ANG MO KIO",
         "3 ROOM",
         "New Generation",
         "46",
         "82.0",
         "4323",
         "0-15",
         "450000.0"
        ]
       ],
       "shape": {
        "columns": 8,
        "rows": 5
       }
      },
      "text/html": [
       "<div>\n",
       "<style scoped>\n",
       "    .dataframe tbody tr th:only-of-type {\n",
       "        vertical-align: middle;\n",
       "    }\n",
       "\n",
       "    .dataframe tbody tr th {\n",
       "        vertical-align: top;\n",
       "    }\n",
       "\n",
       "    .dataframe thead th {\n",
       "        text-align: right;\n",
       "    }\n",
       "</style>\n",
       "<table border=\"1\" class=\"dataframe\">\n",
       "  <thead>\n",
       "    <tr style=\"text-align: right;\">\n",
       "      <th></th>\n",
       "      <th>town</th>\n",
       "      <th>flat_type</th>\n",
       "      <th>flat_model_revised</th>\n",
       "      <th>flat_age_years</th>\n",
       "      <th>floor_area_sqm</th>\n",
       "      <th>days_from_earliest_data</th>\n",
       "      <th>storey_range_grouped</th>\n",
       "      <th>resale_price</th>\n",
       "    </tr>\n",
       "  </thead>\n",
       "  <tbody>\n",
       "    <tr>\n",
       "      <th>0</th>\n",
       "      <td>ANG MO KIO</td>\n",
       "      <td>2 ROOM</td>\n",
       "      <td>Improved</td>\n",
       "      <td>46</td>\n",
       "      <td>44.0</td>\n",
       "      <td>4323</td>\n",
       "      <td>0-15</td>\n",
       "      <td>288000.0</td>\n",
       "    </tr>\n",
       "    <tr>\n",
       "      <th>1</th>\n",
       "      <td>ANG MO KIO</td>\n",
       "      <td>2 ROOM</td>\n",
       "      <td>Improved</td>\n",
       "      <td>44</td>\n",
       "      <td>44.0</td>\n",
       "      <td>4323</td>\n",
       "      <td>0-15</td>\n",
       "      <td>322500.0</td>\n",
       "    </tr>\n",
       "    <tr>\n",
       "      <th>2</th>\n",
       "      <td>ANG MO KIO</td>\n",
       "      <td>3 ROOM</td>\n",
       "      <td>New Generation</td>\n",
       "      <td>46</td>\n",
       "      <td>74.0</td>\n",
       "      <td>4323</td>\n",
       "      <td>0-15</td>\n",
       "      <td>415000.0</td>\n",
       "    </tr>\n",
       "    <tr>\n",
       "      <th>3</th>\n",
       "      <td>ANG MO KIO</td>\n",
       "      <td>3 ROOM</td>\n",
       "      <td>New Generation</td>\n",
       "      <td>46</td>\n",
       "      <td>67.0</td>\n",
       "      <td>4323</td>\n",
       "      <td>0-15</td>\n",
       "      <td>370000.0</td>\n",
       "    </tr>\n",
       "    <tr>\n",
       "      <th>4</th>\n",
       "      <td>ANG MO KIO</td>\n",
       "      <td>3 ROOM</td>\n",
       "      <td>New Generation</td>\n",
       "      <td>46</td>\n",
       "      <td>82.0</td>\n",
       "      <td>4323</td>\n",
       "      <td>0-15</td>\n",
       "      <td>450000.0</td>\n",
       "    </tr>\n",
       "  </tbody>\n",
       "</table>\n",
       "</div>"
      ],
      "text/plain": [
       "         town flat_type flat_model_revised  flat_age_years  floor_area_sqm  \\\n",
       "0  ANG MO KIO    2 ROOM           Improved              46            44.0   \n",
       "1  ANG MO KIO    2 ROOM           Improved              44            44.0   \n",
       "2  ANG MO KIO    3 ROOM     New Generation              46            74.0   \n",
       "3  ANG MO KIO    3 ROOM     New Generation              46            67.0   \n",
       "4  ANG MO KIO    3 ROOM     New Generation              46            82.0   \n",
       "\n",
       "   days_from_earliest_data storey_range_grouped  resale_price  \n",
       "0                     4323                 0-15      288000.0  \n",
       "1                     4323                 0-15      322500.0  \n",
       "2                     4323                 0-15      415000.0  \n",
       "3                     4323                 0-15      370000.0  \n",
       "4                     4323                 0-15      450000.0  "
      ]
     },
     "execution_count": 2,
     "metadata": {},
     "output_type": "execute_result"
    }
   ],
   "source": [
    "# Load data\n",
    "train_df = pd.read_parquet('../data/processed/train.parquet')\n",
    "test_df = pd.read_parquet('../data/processed/test.parquet')\n",
    "test_df.head()"
   ]
  },
  {
   "cell_type": "code",
   "execution_count": null,
   "id": "fe872668",
   "metadata": {},
   "outputs": [
    {
     "ename": "ValueError",
     "evalue": "If using all scalar values, you must pass an index",
     "output_type": "error",
     "traceback": [
      "\u001b[31m---------------------------------------------------------------------------\u001b[39m",
      "\u001b[31mValueError\u001b[39m                                Traceback (most recent call last)",
      "\u001b[36mCell\u001b[39m\u001b[36m \u001b[39m\u001b[32mIn[7]\u001b[39m\u001b[32m, line 1\u001b[39m\n\u001b[32m----> \u001b[39m\u001b[32m1\u001b[39m \u001b[43mpd\u001b[49m\u001b[43m.\u001b[49m\u001b[43mDataFrame\u001b[49m\u001b[43m.\u001b[49m\u001b[43mfrom_dict\u001b[49m\u001b[43m(\u001b[49m\u001b[43m{\u001b[49m\u001b[33;43m\"\u001b[39;49m\u001b[33;43mtown\u001b[39;49m\u001b[33;43m\"\u001b[39;49m\u001b[43m:\u001b[49m\u001b[33;43m\"\u001b[39;49m\u001b[33;43mANG MO KIO\u001b[39;49m\u001b[33;43m\"\u001b[39;49m\u001b[43m,\u001b[49m\n\u001b[32m      2\u001b[39m \u001b[43m                                \u001b[49m\u001b[33;43m\"\u001b[39;49m\u001b[33;43mflat_type\u001b[39;49m\u001b[33;43m\"\u001b[39;49m\u001b[43m:\u001b[49m\u001b[33;43m\"\u001b[39;49m\u001b[33;43m2 ROOM\u001b[39;49m\u001b[33;43m\"\u001b[39;49m\u001b[43m,\u001b[49m\n\u001b[32m      3\u001b[39m \u001b[43m                                \u001b[49m\u001b[33;43m\"\u001b[39;49m\u001b[33;43mflat_model_revised\u001b[39;49m\u001b[33;43m\"\u001b[39;49m\u001b[43m:\u001b[49m\u001b[33;43m\"\u001b[39;49m\u001b[33;43mImproved\u001b[39;49m\u001b[33;43m\"\u001b[39;49m\u001b[43m,\u001b[49m\n\u001b[32m      4\u001b[39m \u001b[43m                                \u001b[49m\u001b[33;43m\"\u001b[39;49m\u001b[33;43mflat_age_years\u001b[39;49m\u001b[33;43m\"\u001b[39;49m\u001b[43m:\u001b[49m\u001b[32;43m46\u001b[39;49m\u001b[43m,\u001b[49m\n\u001b[32m      5\u001b[39m \u001b[43m                                \u001b[49m\u001b[33;43m\"\u001b[39;49m\u001b[33;43mfloor_area_sqm\u001b[39;49m\u001b[33;43m\"\u001b[39;49m\u001b[43m:\u001b[49m\u001b[32;43m44.0\u001b[39;49m\u001b[43m,\u001b[49m\n\u001b[32m      6\u001b[39m \u001b[43m                                \u001b[49m\u001b[33;43m\"\u001b[39;49m\u001b[33;43mdays_from_earliest_data\u001b[39;49m\u001b[33;43m\"\u001b[39;49m\u001b[43m:\u001b[49m\u001b[32;43m4323\u001b[39;49m\u001b[43m,\u001b[49m\n\u001b[32m      7\u001b[39m \u001b[43m                                \u001b[49m\u001b[33;43m\"\u001b[39;49m\u001b[33;43mstorey_range_grouped\u001b[39;49m\u001b[33;43m\"\u001b[39;49m\u001b[43m:\u001b[49m\u001b[33;43m\"\u001b[39;49m\u001b[33;43m0-15\u001b[39;49m\u001b[33;43m\"\u001b[39;49m\u001b[43m}\u001b[49m\u001b[43m)\u001b[49m\n",
      "\u001b[36mFile \u001b[39m\u001b[32m~/anaconda3/envs/hdb-resale-prediction/lib/python3.12/site-packages/pandas/core/frame.py:1922\u001b[39m, in \u001b[36mDataFrame.from_dict\u001b[39m\u001b[34m(cls, data, orient, dtype, columns)\u001b[39m\n\u001b[32m   1916\u001b[39m     \u001b[38;5;28;01mraise\u001b[39;00m \u001b[38;5;167;01mValueError\u001b[39;00m(\n\u001b[32m   1917\u001b[39m         \u001b[33mf\u001b[39m\u001b[33m\"\u001b[39m\u001b[33mExpected \u001b[39m\u001b[33m'\u001b[39m\u001b[33mindex\u001b[39m\u001b[33m'\u001b[39m\u001b[33m, \u001b[39m\u001b[33m'\u001b[39m\u001b[33mcolumns\u001b[39m\u001b[33m'\u001b[39m\u001b[33m or \u001b[39m\u001b[33m'\u001b[39m\u001b[33mtight\u001b[39m\u001b[33m'\u001b[39m\u001b[33m for orient parameter. \u001b[39m\u001b[33m\"\u001b[39m\n\u001b[32m   1918\u001b[39m         \u001b[33mf\u001b[39m\u001b[33m\"\u001b[39m\u001b[33mGot \u001b[39m\u001b[33m'\u001b[39m\u001b[38;5;132;01m{\u001b[39;00morient\u001b[38;5;132;01m}\u001b[39;00m\u001b[33m'\u001b[39m\u001b[33m instead\u001b[39m\u001b[33m\"\u001b[39m\n\u001b[32m   1919\u001b[39m     )\n\u001b[32m   1921\u001b[39m \u001b[38;5;28;01mif\u001b[39;00m orient != \u001b[33m\"\u001b[39m\u001b[33mtight\u001b[39m\u001b[33m\"\u001b[39m:\n\u001b[32m-> \u001b[39m\u001b[32m1922\u001b[39m     \u001b[38;5;28;01mreturn\u001b[39;00m \u001b[38;5;28;43mcls\u001b[39;49m\u001b[43m(\u001b[49m\u001b[43mdata\u001b[49m\u001b[43m,\u001b[49m\u001b[43m \u001b[49m\u001b[43mindex\u001b[49m\u001b[43m=\u001b[49m\u001b[43mindex\u001b[49m\u001b[43m,\u001b[49m\u001b[43m \u001b[49m\u001b[43mcolumns\u001b[49m\u001b[43m=\u001b[49m\u001b[43mcolumns\u001b[49m\u001b[43m,\u001b[49m\u001b[43m \u001b[49m\u001b[43mdtype\u001b[49m\u001b[43m=\u001b[49m\u001b[43mdtype\u001b[49m\u001b[43m)\u001b[49m\n\u001b[32m   1923\u001b[39m \u001b[38;5;28;01melse\u001b[39;00m:\n\u001b[32m   1924\u001b[39m     realdata = data[\u001b[33m\"\u001b[39m\u001b[33mdata\u001b[39m\u001b[33m\"\u001b[39m]\n",
      "\u001b[36mFile \u001b[39m\u001b[32m~/anaconda3/envs/hdb-resale-prediction/lib/python3.12/site-packages/pandas/core/frame.py:778\u001b[39m, in \u001b[36mDataFrame.__init__\u001b[39m\u001b[34m(self, data, index, columns, dtype, copy)\u001b[39m\n\u001b[32m    772\u001b[39m     mgr = \u001b[38;5;28mself\u001b[39m._init_mgr(\n\u001b[32m    773\u001b[39m         data, axes={\u001b[33m\"\u001b[39m\u001b[33mindex\u001b[39m\u001b[33m\"\u001b[39m: index, \u001b[33m\"\u001b[39m\u001b[33mcolumns\u001b[39m\u001b[33m\"\u001b[39m: columns}, dtype=dtype, copy=copy\n\u001b[32m    774\u001b[39m     )\n\u001b[32m    776\u001b[39m \u001b[38;5;28;01melif\u001b[39;00m \u001b[38;5;28misinstance\u001b[39m(data, \u001b[38;5;28mdict\u001b[39m):\n\u001b[32m    777\u001b[39m     \u001b[38;5;66;03m# GH#38939 de facto copy defaults to False only in non-dict cases\u001b[39;00m\n\u001b[32m--> \u001b[39m\u001b[32m778\u001b[39m     mgr = \u001b[43mdict_to_mgr\u001b[49m\u001b[43m(\u001b[49m\u001b[43mdata\u001b[49m\u001b[43m,\u001b[49m\u001b[43m \u001b[49m\u001b[43mindex\u001b[49m\u001b[43m,\u001b[49m\u001b[43m \u001b[49m\u001b[43mcolumns\u001b[49m\u001b[43m,\u001b[49m\u001b[43m \u001b[49m\u001b[43mdtype\u001b[49m\u001b[43m=\u001b[49m\u001b[43mdtype\u001b[49m\u001b[43m,\u001b[49m\u001b[43m \u001b[49m\u001b[43mcopy\u001b[49m\u001b[43m=\u001b[49m\u001b[43mcopy\u001b[49m\u001b[43m,\u001b[49m\u001b[43m \u001b[49m\u001b[43mtyp\u001b[49m\u001b[43m=\u001b[49m\u001b[43mmanager\u001b[49m\u001b[43m)\u001b[49m\n\u001b[32m    779\u001b[39m \u001b[38;5;28;01melif\u001b[39;00m \u001b[38;5;28misinstance\u001b[39m(data, ma.MaskedArray):\n\u001b[32m    780\u001b[39m     \u001b[38;5;28;01mfrom\u001b[39;00m\u001b[38;5;250m \u001b[39m\u001b[34;01mnumpy\u001b[39;00m\u001b[34;01m.\u001b[39;00m\u001b[34;01mma\u001b[39;00m\u001b[38;5;250m \u001b[39m\u001b[38;5;28;01mimport\u001b[39;00m mrecords\n",
      "\u001b[36mFile \u001b[39m\u001b[32m~/anaconda3/envs/hdb-resale-prediction/lib/python3.12/site-packages/pandas/core/internals/construction.py:503\u001b[39m, in \u001b[36mdict_to_mgr\u001b[39m\u001b[34m(data, index, columns, dtype, typ, copy)\u001b[39m\n\u001b[32m    499\u001b[39m     \u001b[38;5;28;01melse\u001b[39;00m:\n\u001b[32m    500\u001b[39m         \u001b[38;5;66;03m# dtype check to exclude e.g. range objects, scalars\u001b[39;00m\n\u001b[32m    501\u001b[39m         arrays = [x.copy() \u001b[38;5;28;01mif\u001b[39;00m \u001b[38;5;28mhasattr\u001b[39m(x, \u001b[33m\"\u001b[39m\u001b[33mdtype\u001b[39m\u001b[33m\"\u001b[39m) \u001b[38;5;28;01melse\u001b[39;00m x \u001b[38;5;28;01mfor\u001b[39;00m x \u001b[38;5;129;01min\u001b[39;00m arrays]\n\u001b[32m--> \u001b[39m\u001b[32m503\u001b[39m \u001b[38;5;28;01mreturn\u001b[39;00m \u001b[43marrays_to_mgr\u001b[49m\u001b[43m(\u001b[49m\u001b[43marrays\u001b[49m\u001b[43m,\u001b[49m\u001b[43m \u001b[49m\u001b[43mcolumns\u001b[49m\u001b[43m,\u001b[49m\u001b[43m \u001b[49m\u001b[43mindex\u001b[49m\u001b[43m,\u001b[49m\u001b[43m \u001b[49m\u001b[43mdtype\u001b[49m\u001b[43m=\u001b[49m\u001b[43mdtype\u001b[49m\u001b[43m,\u001b[49m\u001b[43m \u001b[49m\u001b[43mtyp\u001b[49m\u001b[43m=\u001b[49m\u001b[43mtyp\u001b[49m\u001b[43m,\u001b[49m\u001b[43m \u001b[49m\u001b[43mconsolidate\u001b[49m\u001b[43m=\u001b[49m\u001b[43mcopy\u001b[49m\u001b[43m)\u001b[49m\n",
      "\u001b[36mFile \u001b[39m\u001b[32m~/anaconda3/envs/hdb-resale-prediction/lib/python3.12/site-packages/pandas/core/internals/construction.py:114\u001b[39m, in \u001b[36marrays_to_mgr\u001b[39m\u001b[34m(arrays, columns, index, dtype, verify_integrity, typ, consolidate)\u001b[39m\n\u001b[32m    111\u001b[39m \u001b[38;5;28;01mif\u001b[39;00m verify_integrity:\n\u001b[32m    112\u001b[39m     \u001b[38;5;66;03m# figure out the index, if necessary\u001b[39;00m\n\u001b[32m    113\u001b[39m     \u001b[38;5;28;01mif\u001b[39;00m index \u001b[38;5;129;01mis\u001b[39;00m \u001b[38;5;28;01mNone\u001b[39;00m:\n\u001b[32m--> \u001b[39m\u001b[32m114\u001b[39m         index = \u001b[43m_extract_index\u001b[49m\u001b[43m(\u001b[49m\u001b[43marrays\u001b[49m\u001b[43m)\u001b[49m\n\u001b[32m    115\u001b[39m     \u001b[38;5;28;01melse\u001b[39;00m:\n\u001b[32m    116\u001b[39m         index = ensure_index(index)\n",
      "\u001b[36mFile \u001b[39m\u001b[32m~/anaconda3/envs/hdb-resale-prediction/lib/python3.12/site-packages/pandas/core/internals/construction.py:667\u001b[39m, in \u001b[36m_extract_index\u001b[39m\u001b[34m(data)\u001b[39m\n\u001b[32m    664\u001b[39m         \u001b[38;5;28;01mraise\u001b[39;00m \u001b[38;5;167;01mValueError\u001b[39;00m(\u001b[33m\"\u001b[39m\u001b[33mPer-column arrays must each be 1-dimensional\u001b[39m\u001b[33m\"\u001b[39m)\n\u001b[32m    666\u001b[39m \u001b[38;5;28;01mif\u001b[39;00m \u001b[38;5;129;01mnot\u001b[39;00m indexes \u001b[38;5;129;01mand\u001b[39;00m \u001b[38;5;129;01mnot\u001b[39;00m raw_lengths:\n\u001b[32m--> \u001b[39m\u001b[32m667\u001b[39m     \u001b[38;5;28;01mraise\u001b[39;00m \u001b[38;5;167;01mValueError\u001b[39;00m(\u001b[33m\"\u001b[39m\u001b[33mIf using all scalar values, you must pass an index\u001b[39m\u001b[33m\"\u001b[39m)\n\u001b[32m    669\u001b[39m \u001b[38;5;28;01mif\u001b[39;00m have_series:\n\u001b[32m    670\u001b[39m     index = union_indexes(indexes)\n",
      "\u001b[31mValueError\u001b[39m: If using all scalar values, you must pass an index"
     ]
    }
   ],
   "source": [
    "pd.DataFrame.from_dict({\"town\":[\"ANG MO KIO\"],\n",
    "                                \"flat_type\":[\"2 ROOM\"],\n",
    "                                \"flat_model_revised\":[\"Improved\"],\n",
    "                                \"flat_age_years\":[46],\n",
    "                                \"floor_area_sqm\":[44.0],\n",
    "                                \"days_from_earliest_data\":[4323],\n",
    "                                \"storey_range_grouped\":[\"0-15\"]})"
   ]
  },
  {
   "cell_type": "code",
   "execution_count": 3,
   "id": "de0932e4",
   "metadata": {},
   "outputs": [],
   "source": [
    "# create sklearn pipeline with pre-processing of numerical and categorical features\n",
    "def pipeline(train_df):\n",
    "    \"\"\"Create a machine learning pipeline with preprocessing and model\"\"\"\n",
    "    numeric_features = train_df.drop(\"resale_price\", axis=1).select_dtypes(include=['int64', 'float64']).columns.tolist()\n",
    "    categorical_features = train_df.select_dtypes(include=['object']).columns.tolist()\n",
    "    print(f\"Numeric features: {numeric_features}\")\n",
    "    print(f\"Categorical features: {categorical_features}\")\n",
    "\n",
    "    numeric_transformer = Pipeline(steps=[\n",
    "        ('scaler', StandardScaler())\n",
    "    ])\n",
    "\n",
    "    categorical_transformer = Pipeline(steps=[\n",
    "        ('onehot', OneHotEncoder(handle_unknown='ignore'))\n",
    "    ])\n",
    "\n",
    "    preprocessor = ColumnTransformer(\n",
    "        transformers=[\n",
    "            ('num', numeric_transformer, numeric_features),\n",
    "            ('cat', categorical_transformer, categorical_features)\n",
    "        ]\n",
    "    )\n",
    "\n",
    "    pipeline = Pipeline(steps=[\n",
    "        ('preprocessor', preprocessor),\n",
    "        ('model', LinearRegression())\n",
    "    ])\n",
    "    return pipeline"
   ]
  },
  {
   "cell_type": "code",
   "execution_count": 4,
   "id": "269a30a5",
   "metadata": {},
   "outputs": [],
   "source": [
    "# train model\n",
    "def train_model(pipeline, train_df):\n",
    "    \"\"\"Train the model using cross-validation\"\"\"\n",
    "    print(\"Training model\")\n",
    "    X = train_df.drop(columns=['resale_price'])\n",
    "    y = train_df['resale_price']\n",
    "    \n",
    "    kf = TimeSeriesSplit(n_splits=5)\n",
    "    scores = cross_val_score(pipeline, X, y, cv=kf, scoring='neg_root_mean_squared_error',\n",
    "                             verbose=1)\n",
    "    \n",
    "    print(f\"Cross-validated RMSE: {-scores.mean():.2f} ± {scores.std():.2f}\")\n",
    "    \n",
    "    pipeline.fit(X, y)\n",
    "    \n",
    "    return pipeline"
   ]
  },
  {
   "cell_type": "code",
   "execution_count": null,
   "id": "efa545d3",
   "metadata": {},
   "outputs": [
    {
     "name": "stderr",
     "output_type": "stream",
     "text": [
      "2025/08/25 17:22:12 INFO mlflow.tracking.fluent: Experiment with name 'Bike Resale Price Prediction' does not exist. Creating a new experiment.\n",
      "2025/08/25 17:22:13 INFO mlflow.tracking.fluent: Autologging successfully enabled for sklearn.\n"
     ]
    }
   ],
   "source": [
    "# define mlflow experiment and trigger autologging\n",
    "mlflow.set_experiment(\"Bike Resale Price Prediction\")\n",
    "mlflow.set_tracking_uri(\"http://127.0.0.1:8080/\")\n",
    "\n"
   ]
  },
  {
   "cell_type": "code",
   "execution_count": 8,
   "id": "d34a71c1",
   "metadata": {},
   "outputs": [
    {
     "name": "stdout",
     "output_type": "stream",
     "text": [
      "Numeric features: ['flat_age_years', 'floor_area_sqm', 'days_from_earliest_data']\n",
      "Categorical features: ['town', 'flat_type', 'flat_model_revised']\n",
      "Training model\n"
     ]
    },
    {
     "name": "stderr",
     "output_type": "stream",
     "text": [
      "[Parallel(n_jobs=1)]: Done   5 out of   5 | elapsed:   16.1s finished\n"
     ]
    },
    {
     "name": "stdout",
     "output_type": "stream",
     "text": [
      "Cross-validated RMSE: 86993.16 ± 24371.27\n"
     ]
    },
    {
     "name": "stderr",
     "output_type": "stream",
     "text": [
      "2025/08/25 17:25:00 INFO mlflow.tracking.fluent: Autologging successfully enabled for sklearn.\n"
     ]
    },
    {
     "name": "stdout",
     "output_type": "stream",
     "text": [
      "🏃 View run handsome-yak-749 at: http://127.0.0.1:8080/#/experiments/738064824697976650/runs/d15a20a4efcc4a22aa5b44f03bd19f99\n",
      "🧪 View experiment at: http://127.0.0.1:8080/#/experiments/738064824697976650\n"
     ]
    }
   ],
   "source": [
    "# Training model with the pipeline\n",
    "with mlflow.start_run() as run:\n",
    "    trained_pipeline = train_model(pipeline=pipeline(train_df), train_df=train_df)\n",
    "    mlflow.autolog()\n"
   ]
  },
  {
   "cell_type": "code",
   "execution_count": null,
   "id": "99c36d48",
   "metadata": {},
   "outputs": [],
   "source": [
    "# By right still need to implement final test on test set, but skipping for now"
   ]
  },
  {
   "cell_type": "code",
   "execution_count": null,
   "id": "131738f9",
   "metadata": {},
   "outputs": [],
   "source": [
    "# Access mlflow dashboard at http://127.0.0.1:8080 after running mlflow server --host 127.0.0.1 --port 8080 in the terminal"
   ]
  },
  {
   "cell_type": "code",
   "execution_count": null,
   "id": "7015fa80",
   "metadata": {},
   "outputs": [
    {
     "name": "stderr",
     "output_type": "stream",
     "text": [
      "Successfully registered model 'HDBResalePricePrediction'.\n",
      "2025/08/25 17:31:17 WARNING mlflow.tracking._model_registry.fluent: Run with id d15a20a4efcc4a22aa5b44f03bd19f99 has no artifacts at artifact path 'model', registering model based on models:/m-14650b173852448b9bf9f35229dd184a instead\n",
      "2025/08/25 17:31:17 INFO mlflow.store.model_registry.abstract_store: Waiting up to 300 seconds for model version to finish creation. Model name: HDBResalePricePrediction, version 1\n",
      "Created version '1' of model 'HDBResalePricePrediction'.\n"
     ]
    },
    {
     "data": {
      "text/plain": [
       "<ModelVersion: aliases=[], creation_timestamp=1756114277226, current_stage='None', deployment_job_state=<ModelVersionDeploymentJobState: current_task_name='', job_id='', job_state='DEPLOYMENT_JOB_CONNECTION_STATE_UNSPECIFIED', run_id='', run_state='DEPLOYMENT_JOB_RUN_STATE_UNSPECIFIED'>, description='', last_updated_timestamp=1756114277226, metrics=None, model_id=None, name='HDBResalePricePrediction', params=None, run_id='d15a20a4efcc4a22aa5b44f03bd19f99', run_link='', source='models:/m-14650b173852448b9bf9f35229dd184a', status='READY', status_message=None, tags={}, user_id='', version='1'>"
      ]
     },
     "execution_count": 9,
     "metadata": {},
     "output_type": "execute_result"
    }
   ],
   "source": [
    "# Registering best model to MLflow Model Registry\n",
    "mlflow.register_model(\n",
    "    model_uri=\"runs:/d15a20a4efcc4a22aa5b44f03bd19f99/model\", # run_id is from the experiment, not the model\n",
    "    name=\"HDBResalePricePrediction\"\n",
    ")"
   ]
  },
  {
   "cell_type": "code",
   "execution_count": null,
   "id": "a6f9a5ff",
   "metadata": {},
   "outputs": [
    {
     "name": "stdout",
     "output_type": "stream",
     "text": [
      "Predictions:  [224093.93676205 234874.77441391 385558.81030504 362062.89839062\n",
      " 412411.28106437]\n"
     ]
    }
   ],
   "source": [
    "# Reloading best model, saving to models directory for deployment\n",
    "model_uri = f\"runs:/d15a20a4efcc4a22aa5b44f03bd19f99/model\"\n",
    "loaded_model = mlflow.sklearn.load_model(model_uri)\n",
    "print(\"Predictions: \", loaded_model.predict(test_df.drop(columns=['resale_price']).iloc[:5]))\n",
    "\n",
    "with open('../models/champion_model.pkl', 'wb') as f:\n",
    "    pickle.dump(loaded_model, f)"
   ]
  }
 ],
 "metadata": {
  "kernelspec": {
   "display_name": "hdb-resale-prediction",
   "language": "python",
   "name": "python3"
  },
  "language_info": {
   "codemirror_mode": {
    "name": "ipython",
    "version": 3
   },
   "file_extension": ".py",
   "mimetype": "text/x-python",
   "name": "python",
   "nbconvert_exporter": "python",
   "pygments_lexer": "ipython3",
   "version": "3.12.11"
  }
 },
 "nbformat": 4,
 "nbformat_minor": 5
}
