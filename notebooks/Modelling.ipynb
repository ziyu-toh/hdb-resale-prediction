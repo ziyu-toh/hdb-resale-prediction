{
 "cells": [
  {
   "cell_type": "code",
   "execution_count": 7,
   "id": "23593c2b",
   "metadata": {},
   "outputs": [],
   "source": [
    "import polars as pl\n",
    "import torch\n",
    "import numpy as np\n",
    "import os\n",
    "\n",
    "DATA_PATH = \"../data/processed\"\n"
   ]
  },
  {
   "cell_type": "code",
   "execution_count": 8,
   "id": "092cc085",
   "metadata": {},
   "outputs": [],
   "source": [
    "# load data\n",
    "train = pl.read_parquet(os.path.join(DATA_PATH, \"train.parquet\"))\n",
    "test = pl.read_parquet(os.path.join(DATA_PATH, \"test.parquet\"))"
   ]
  },
  {
   "cell_type": "code",
   "execution_count": null,
   "id": "8d7a215c",
   "metadata": {},
   "outputs": [],
   "source": [
    "# train pytorch rnn model predicting whether it will rain the next day or not on time series data.\n",
    "# use the value of rainfall in the last 7 days along with location as input features, and whether \n",
    "# it rained the next day as the target variable.\n",
    "class RainfallRNN(torch.nn.Module):\n",
    "    def __init__(self, input_size, hidden_size, output_size):\n",
    "        super(RainfallRNN, self).__init__()\n",
    "        self.rnn = torch.nn.RNN(input_size, hidden_size, batch_first=True)\n",
    "        self.fc = torch.nn.Linear(hidden_size, output_size)\n",
    "\n",
    "    def forward(self, x):\n",
    "        out, _ = self.rnn(x)\n",
    "        out = self.fc(out[:, -1, :])\n",
    "        return torch.sigmoid(out)\n"
   ]
  },
  {
   "cell_type": "code",
   "execution_count": 11,
   "id": "8dc8fb95",
   "metadata": {},
   "outputs": [],
   "source": [
    "# prepare data for training\n",
    "drop_cols = [\"date\", \"station_name\", \"y\"]\n",
    "X_train = train.drop(drop_cols).to_numpy()\n",
    "X_test = test.drop(drop_cols).to_numpy()\n",
    "\n",
    "y_train = train[\"y\"].to_numpy().reshape(-1, 1)\n",
    "y_test = test[\"y\"].to_numpy().reshape(-1, 1)"
   ]
  },
  {
   "cell_type": "code",
   "execution_count": null,
   "id": "a65c4608",
   "metadata": {},
   "outputs": [],
   "source": [
    "# initiate model, loss function and optimizer\n",
    "model = RainfallRNN(input_size=X_train.shape[0], hidden_size=64, output_size=1)\n",
    "criterion = torch.nn.BCELoss()\n",
    "optimizer = torch.optim.Adam(model.parameters(), lr=0.001)"
   ]
  },
  {
   "cell_type": "code",
   "execution_count": null,
   "id": "75fa0d98",
   "metadata": {},
   "outputs": [],
   "source": [
    "# train model\n"
   ]
  }
 ],
 "metadata": {
  "kernelspec": {
   "display_name": "bike-snowflake",
   "language": "python",
   "name": "python3"
  },
  "language_info": {
   "codemirror_mode": {
    "name": "ipython",
    "version": 3
   },
   "file_extension": ".py",
   "mimetype": "text/x-python",
   "name": "python",
   "nbconvert_exporter": "python",
   "pygments_lexer": "ipython3",
   "version": "3.12.11"
  }
 },
 "nbformat": 4,
 "nbformat_minor": 5
}
