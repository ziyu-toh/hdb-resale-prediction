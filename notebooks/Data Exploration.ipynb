{
 "cells": [
  {
   "cell_type": "markdown",
   "id": "187314ff",
   "metadata": {},
   "source": [
    "Data obtained from: https://data.gov.sg/datasets?agencies=NEA&page=1&query=rain&resultId=2279"
   ]
  },
  {
   "cell_type": "code",
   "execution_count": null,
   "id": "63128bbc",
   "metadata": {},
   "outputs": [],
   "source": [
    "import polars as pl\n",
    "import os\n",
    "\n",
    "DATA_PATH = \"../data/raw\"\n",
    "\n"
   ]
  },
  {
   "cell_type": "code",
   "execution_count": null,
   "id": "aa978436",
   "metadata": {},
   "outputs": [
    {
     "data": {
      "text/html": [
       "<i>naive plan: (run <b>LazyFrame.explain(optimized=True)</b> to see the optimized plan)</i>\n",
       "    <p></p>\n",
       "    <div>Csv SCAN [../data/raw/Historical Rainfall across Singapore (2017).csv] [id: 4428776368]<p></p>PROJECT */12 COLUMNS</div>"
      ],
      "text/plain": [
       "<LazyFrame at 0x10C940470>"
      ]
     },
     "execution_count": 11,
     "metadata": {},
     "output_type": "execute_result"
    }
   ],
   "source": [
    "# Load data\n",
    "file_names = [x for x in os.listdir(DATA_PATH) if \".csv\" in x]  # List all CSV files in the raw data directory\n",
    "\n",
    "df_list = []\n",
    "for file in file_names:\n",
    "    df = pl.scan_csv(os.path.join(DATA_PATH, file))\n",
    "    df_list.append(df)"
   ]
  },
  {
   "cell_type": "code",
   "execution_count": 16,
   "id": "93d60200",
   "metadata": {},
   "outputs": [
    {
     "data": {
      "text/html": [
       "<div><style>\n",
       ".dataframe > thead > tr,\n",
       ".dataframe > tbody > tr {\n",
       "  text-align: right;\n",
       "  white-space: pre-wrap;\n",
       "}\n",
       "</style>\n",
       "<small>shape: (5, 12)</small><table border=\"1\" class=\"dataframe\"><thead><tr><th>date</th><th>timestamp</th><th>update_timestamp</th><th>station_id</th><th>station_name</th><th>station_device_id</th><th>location_longitude</th><th>location_latitude</th><th>reading_update_timestamp</th><th>reading_value</th><th>reading_type</th><th>reading_unit</th></tr><tr><td>str</td><td>str</td><td>str</td><td>str</td><td>str</td><td>str</td><td>f64</td><td>f64</td><td>str</td><td>f64</td><td>str</td><td>str</td></tr></thead><tbody><tr><td>&quot;2017-01-01&quot;</td><td>&quot;2017-01-01T08:04:59+08:00&quot;</td><td>&quot;2017-01-01T08:13:31+08:00&quot;</td><td>&quot;S77&quot;</td><td>&quot;Alexandra Road&quot;</td><td>&quot;S77&quot;</td><td>103.8125</td><td>1.2937</td><td>&quot;2017-01-01T08:13:31+08:00&quot;</td><td>0.0</td><td>&quot;TB1 Rainfall 5 Minute Total F&quot;</td><td>&quot;mm&quot;</td></tr><tr><td>&quot;2017-01-01&quot;</td><td>&quot;2017-01-01T08:04:59+08:00&quot;</td><td>&quot;2017-01-01T08:13:31+08:00&quot;</td><td>&quot;S109&quot;</td><td>&quot;Ang Mo Kio Avenue 5&quot;</td><td>&quot;S109&quot;</td><td>103.8492</td><td>1.3764</td><td>&quot;2017-01-01T08:13:31+08:00&quot;</td><td>0.0</td><td>&quot;TB1 Rainfall 5 Minute Total F&quot;</td><td>&quot;mm&quot;</td></tr><tr><td>&quot;2017-01-01&quot;</td><td>&quot;2017-01-01T08:04:59+08:00&quot;</td><td>&quot;2017-01-01T08:13:31+08:00&quot;</td><td>&quot;S117&quot;</td><td>&quot;Banyan Road&quot;</td><td>&quot;S117&quot;</td><td>103.679</td><td>1.256</td><td>&quot;2017-01-01T08:13:31+08:00&quot;</td><td>0.0</td><td>&quot;TB1 Rainfall 5 Minute Total F&quot;</td><td>&quot;mm&quot;</td></tr><tr><td>&quot;2017-01-01&quot;</td><td>&quot;2017-01-01T08:04:59+08:00&quot;</td><td>&quot;2017-01-01T08:13:31+08:00&quot;</td><td>&quot;S55&quot;</td><td>&quot;Buangkok Green&quot;</td><td>&quot;S55&quot;</td><td>103.886</td><td>1.3837</td><td>&quot;2017-01-01T08:13:31+08:00&quot;</td><td>0.0</td><td>&quot;TB1 Rainfall 5 Minute Total F&quot;</td><td>&quot;mm&quot;</td></tr><tr><td>&quot;2017-01-01&quot;</td><td>&quot;2017-01-01T08:04:59+08:00&quot;</td><td>&quot;2017-01-01T08:13:31+08:00&quot;</td><td>&quot;S64&quot;</td><td>&quot;Bukit Panjang Road&quot;</td><td>&quot;S64&quot;</td><td>103.7603</td><td>1.3824</td><td>&quot;2017-01-01T08:13:31+08:00&quot;</td><td>0.0</td><td>&quot;TB1 Rainfall 5 Minute Total F&quot;</td><td>&quot;mm&quot;</td></tr></tbody></table></div>"
      ],
      "text/plain": [
       "shape: (5, 12)\n",
       "┌───────────┬───────────┬───────────┬───────────┬───┬───────────┬───────────┬───────────┬──────────┐\n",
       "│ date      ┆ timestamp ┆ update_ti ┆ station_i ┆ … ┆ reading_u ┆ reading_v ┆ reading_t ┆ reading_ │\n",
       "│ ---       ┆ ---       ┆ mestamp   ┆ d         ┆   ┆ pdate_tim ┆ alue      ┆ ype       ┆ unit     │\n",
       "│ str       ┆ str       ┆ ---       ┆ ---       ┆   ┆ estamp    ┆ ---       ┆ ---       ┆ ---      │\n",
       "│           ┆           ┆ str       ┆ str       ┆   ┆ ---       ┆ f64       ┆ str       ┆ str      │\n",
       "│           ┆           ┆           ┆           ┆   ┆ str       ┆           ┆           ┆          │\n",
       "╞═══════════╪═══════════╪═══════════╪═══════════╪═══╪═══════════╪═══════════╪═══════════╪══════════╡\n",
       "│ 2017-01-0 ┆ 2017-01-0 ┆ 2017-01-0 ┆ S77       ┆ … ┆ 2017-01-0 ┆ 0.0       ┆ TB1       ┆ mm       │\n",
       "│ 1         ┆ 1T08:04:5 ┆ 1T08:13:3 ┆           ┆   ┆ 1T08:13:3 ┆           ┆ Rainfall  ┆          │\n",
       "│           ┆ 9+08:00   ┆ 1+08:00   ┆           ┆   ┆ 1+08:00   ┆           ┆ 5 Minute  ┆          │\n",
       "│           ┆           ┆           ┆           ┆   ┆           ┆           ┆ Total F   ┆          │\n",
       "│ 2017-01-0 ┆ 2017-01-0 ┆ 2017-01-0 ┆ S109      ┆ … ┆ 2017-01-0 ┆ 0.0       ┆ TB1       ┆ mm       │\n",
       "│ 1         ┆ 1T08:04:5 ┆ 1T08:13:3 ┆           ┆   ┆ 1T08:13:3 ┆           ┆ Rainfall  ┆          │\n",
       "│           ┆ 9+08:00   ┆ 1+08:00   ┆           ┆   ┆ 1+08:00   ┆           ┆ 5 Minute  ┆          │\n",
       "│           ┆           ┆           ┆           ┆   ┆           ┆           ┆ Total F   ┆          │\n",
       "│ 2017-01-0 ┆ 2017-01-0 ┆ 2017-01-0 ┆ S117      ┆ … ┆ 2017-01-0 ┆ 0.0       ┆ TB1       ┆ mm       │\n",
       "│ 1         ┆ 1T08:04:5 ┆ 1T08:13:3 ┆           ┆   ┆ 1T08:13:3 ┆           ┆ Rainfall  ┆          │\n",
       "│           ┆ 9+08:00   ┆ 1+08:00   ┆           ┆   ┆ 1+08:00   ┆           ┆ 5 Minute  ┆          │\n",
       "│           ┆           ┆           ┆           ┆   ┆           ┆           ┆ Total F   ┆          │\n",
       "│ 2017-01-0 ┆ 2017-01-0 ┆ 2017-01-0 ┆ S55       ┆ … ┆ 2017-01-0 ┆ 0.0       ┆ TB1       ┆ mm       │\n",
       "│ 1         ┆ 1T08:04:5 ┆ 1T08:13:3 ┆           ┆   ┆ 1T08:13:3 ┆           ┆ Rainfall  ┆          │\n",
       "│           ┆ 9+08:00   ┆ 1+08:00   ┆           ┆   ┆ 1+08:00   ┆           ┆ 5 Minute  ┆          │\n",
       "│           ┆           ┆           ┆           ┆   ┆           ┆           ┆ Total F   ┆          │\n",
       "│ 2017-01-0 ┆ 2017-01-0 ┆ 2017-01-0 ┆ S64       ┆ … ┆ 2017-01-0 ┆ 0.0       ┆ TB1       ┆ mm       │\n",
       "│ 1         ┆ 1T08:04:5 ┆ 1T08:13:3 ┆           ┆   ┆ 1T08:13:3 ┆           ┆ Rainfall  ┆          │\n",
       "│           ┆ 9+08:00   ┆ 1+08:00   ┆           ┆   ┆ 1+08:00   ┆           ┆ 5 Minute  ┆          │\n",
       "│           ┆           ┆           ┆           ┆   ┆           ┆           ┆ Total F   ┆          │\n",
       "└───────────┴───────────┴───────────┴───────────┴───┴───────────┴───────────┴───────────┴──────────┘"
      ]
     },
     "execution_count": 16,
     "metadata": {},
     "output_type": "execute_result"
    }
   ],
   "source": [
    "df_1.sql(\"\"\"\n",
    "SELECT *\n",
    "FROM self\n",
    "LIMIT 5\n",
    "\"\"\").collect()"
   ]
  },
  {
   "cell_type": "code",
   "execution_count": null,
   "id": "b56a9020",
   "metadata": {},
   "outputs": [],
   "source": []
  }
 ],
 "metadata": {
  "kernelspec": {
   "display_name": "bike-snowflake",
   "language": "python",
   "name": "python3"
  },
  "language_info": {
   "codemirror_mode": {
    "name": "ipython",
    "version": 3
   },
   "file_extension": ".py",
   "mimetype": "text/x-python",
   "name": "python",
   "nbconvert_exporter": "python",
   "pygments_lexer": "ipython3",
   "version": "3.12.11"
  }
 },
 "nbformat": 4,
 "nbformat_minor": 5
}
