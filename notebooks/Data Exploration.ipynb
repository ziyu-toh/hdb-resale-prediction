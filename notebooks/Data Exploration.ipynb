{
 "cells": [
  {
   "cell_type": "markdown",
   "id": "187314ff",
   "metadata": {},
   "source": [
    "Data obtained from: https://data.gov.sg/datasets?agencies=NEA&page=1&query=rain&resultId=2279\n",
    "Full year data from 2017-2024"
   ]
  },
  {
   "cell_type": "code",
   "execution_count": 13,
   "id": "63128bbc",
   "metadata": {},
   "outputs": [],
   "source": [
    "import polars as pl\n",
    "import os\n",
    "\n",
    "DATA_PATH = \"../data/processed/train.parquet\""
   ]
  },
  {
   "cell_type": "code",
   "execution_count": 18,
   "id": "e9cd1511",
   "metadata": {},
   "outputs": [
    {
     "data": {
      "text/html": [
       "<div><style>\n",
       ".dataframe > thead > tr,\n",
       ".dataframe > tbody > tr {\n",
       "  text-align: right;\n",
       "  white-space: pre-wrap;\n",
       "}\n",
       "</style>\n",
       "<small>shape: (5, 8)</small><table border=\"1\" class=\"dataframe\"><thead><tr><th>town</th><th>flat_type</th><th>flat_model_revised</th><th>flat_age_years</th><th>floor_area_sqm</th><th>days_from_earliest_data</th><th>storey_range_grouped</th><th>resale_price</th></tr><tr><td>str</td><td>str</td><td>str</td><td>i64</td><td>f64</td><td>i64</td><td>str</td><td>f64</td></tr></thead><tbody><tr><td>&quot;Ang Mo Kio&quot;</td><td>&quot;2 Room&quot;</td><td>&quot;Improved&quot;</td><td>26</td><td>45.0</td><td>0</td><td>&quot;1-15&quot;</td><td>250000.0</td></tr><tr><td>&quot;Ang Mo Kio&quot;</td><td>&quot;2 Room&quot;</td><td>&quot;Improved&quot;</td><td>32</td><td>44.0</td><td>0</td><td>&quot;1-15&quot;</td><td>265000.0</td></tr><tr><td>&quot;Ang Mo Kio&quot;</td><td>&quot;3 Room&quot;</td><td>&quot;New Generation&quot;</td><td>34</td><td>73.0</td><td>0</td><td>&quot;1-15&quot;</td><td>368000.0</td></tr><tr><td>&quot;Ang Mo Kio&quot;</td><td>&quot;3 Room&quot;</td><td>&quot;New Generation&quot;</td><td>34</td><td>67.0</td><td>0</td><td>&quot;1-15&quot;</td><td>323000.0</td></tr><tr><td>&quot;Ang Mo Kio&quot;</td><td>&quot;3 Room&quot;</td><td>&quot;New Generation&quot;</td><td>34</td><td>73.0</td><td>0</td><td>&quot;1-15&quot;</td><td>339000.0</td></tr></tbody></table></div>"
      ],
      "text/plain": [
       "shape: (5, 8)\n",
       "┌────────┬───────────┬────────────┬────────────┬────────────┬────────────┬────────────┬────────────┐\n",
       "│ town   ┆ flat_type ┆ flat_model ┆ flat_age_y ┆ floor_area ┆ days_from_ ┆ storey_ran ┆ resale_pri │\n",
       "│ ---    ┆ ---       ┆ _revised   ┆ ears       ┆ _sqm       ┆ earliest_d ┆ ge_grouped ┆ ce         │\n",
       "│ str    ┆ str       ┆ ---        ┆ ---        ┆ ---        ┆ ata        ┆ ---        ┆ ---        │\n",
       "│        ┆           ┆ str        ┆ i64        ┆ f64        ┆ ---        ┆ str        ┆ f64        │\n",
       "│        ┆           ┆            ┆            ┆            ┆ i64        ┆            ┆            │\n",
       "╞════════╪═══════════╪════════════╪════════════╪════════════╪════════════╪════════════╪════════════╡\n",
       "│ Ang Mo ┆ 2 Room    ┆ Improved   ┆ 26         ┆ 45.0       ┆ 0          ┆ 1-15       ┆ 250000.0   │\n",
       "│ Kio    ┆           ┆            ┆            ┆            ┆            ┆            ┆            │\n",
       "│ Ang Mo ┆ 2 Room    ┆ Improved   ┆ 32         ┆ 44.0       ┆ 0          ┆ 1-15       ┆ 265000.0   │\n",
       "│ Kio    ┆           ┆            ┆            ┆            ┆            ┆            ┆            │\n",
       "│ Ang Mo ┆ 3 Room    ┆ New        ┆ 34         ┆ 73.0       ┆ 0          ┆ 1-15       ┆ 368000.0   │\n",
       "│ Kio    ┆           ┆ Generation ┆            ┆            ┆            ┆            ┆            │\n",
       "│ Ang Mo ┆ 3 Room    ┆ New        ┆ 34         ┆ 67.0       ┆ 0          ┆ 1-15       ┆ 323000.0   │\n",
       "│ Kio    ┆           ┆ Generation ┆            ┆            ┆            ┆            ┆            │\n",
       "│ Ang Mo ┆ 3 Room    ┆ New        ┆ 34         ┆ 73.0       ┆ 0          ┆ 1-15       ┆ 339000.0   │\n",
       "│ Kio    ┆           ┆ Generation ┆            ┆            ┆            ┆            ┆            │\n",
       "└────────┴───────────┴────────────┴────────────┴────────────┴────────────┴────────────┴────────────┘"
      ]
     },
     "execution_count": 18,
     "metadata": {},
     "output_type": "execute_result"
    }
   ],
   "source": [
    "# Load data\n",
    "train = pl.read_parquet(DATA_PATH)\n",
    "train.head()"
   ]
  },
  {
   "cell_type": "code",
   "execution_count": 19,
   "id": "0fe6ccc2",
   "metadata": {},
   "outputs": [
    {
     "data": {
      "text/plain": [
       "['town',\n",
       " 'flat_type',\n",
       " 'flat_model_revised',\n",
       " 'flat_age_years',\n",
       " 'floor_area_sqm',\n",
       " 'days_from_earliest_data',\n",
       " 'storey_range_grouped',\n",
       " 'resale_price']"
      ]
     },
     "execution_count": 19,
     "metadata": {},
     "output_type": "execute_result"
    }
   ],
   "source": [
    "train.columns"
   ]
  },
  {
   "cell_type": "code",
   "execution_count": 20,
   "id": "0cd0e006",
   "metadata": {},
   "outputs": [
    {
     "name": "stdout",
     "output_type": "stream",
     "text": [
      "Column: town\n",
      "Unique values: ['Ang Mo Kio', 'Bedok', 'Bishan', 'Bukit Batok', 'Bukit Merah', 'Bukit Panjang', 'Bukit Timah', 'Central Area', 'Choa Chu Kang', 'Clementi', 'Geylang', 'Hougang', 'Jurong East', 'Jurong West', 'Kallang/Whampoa', 'Marine Parade', 'Pasir Ris', 'Punggol', 'Queenstown', 'Sembawang', 'Sengkang', 'Serangoon', 'Tampines', 'Toa Payoh', 'Woodlands', 'Yishun']\n",
      "Missing values: 0\n",
      "----------------------------------------\n",
      "Column: flat_type\n",
      "Unique values: ['1 Room', '2 Room', '3 Room', '4 Room', '5 Room', 'Executive', 'Multi-Generation']\n",
      "Missing values: 0\n",
      "----------------------------------------\n",
      "Column: flat_model_revised\n",
      "Unique values: ['2-Room', '3gen', 'Adjoined Flat', 'Apartment', 'Dbss', 'Improved', 'Maisonette', 'Model A', 'Model A2', 'Multi Generation', 'New Generation', 'Premium Apartment', 'Premium Apartment Loft', 'Simplified', 'Standard', 'Terrace', 'Type S1', 'Type S2']\n",
      "Missing values: 0\n",
      "----------------------------------------\n",
      "Column: storey_range_grouped\n",
      "Unique values: ['1-15', '16-30', '31+']\n",
      "Missing values: 0\n",
      "----------------------------------------\n"
     ]
    }
   ],
   "source": [
    "# Check values in each columns\n",
    "cat_cols = [\"town\", \"flat_type\", \"flat_model_revised\", \"storey_range_grouped\"]\n",
    "for col in cat_cols:\n",
    "    print(f\"Column: {col}\")\n",
    "    print(f\"Unique values: {sorted(train[col].unique().to_list())}\")\n",
    "    print(f\"Missing values: {train[col].is_null().sum()}\")\n",
    "    print(\"-\" * 40)\n"
   ]
  },
  {
   "cell_type": "code",
   "execution_count": null,
   "id": "8a590706",
   "metadata": {},
   "outputs": [],
   "source": []
  }
 ],
 "metadata": {
  "kernelspec": {
   "display_name": "hdb-resale-prediction",
   "language": "python",
   "name": "python3"
  },
  "language_info": {
   "codemirror_mode": {
    "name": "ipython",
    "version": 3
   },
   "file_extension": ".py",
   "mimetype": "text/x-python",
   "name": "python",
   "nbconvert_exporter": "python",
   "pygments_lexer": "ipython3",
   "version": "3.12.11"
  }
 },
 "nbformat": 4,
 "nbformat_minor": 5
}
