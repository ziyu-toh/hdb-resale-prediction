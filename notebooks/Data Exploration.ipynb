{
 "cells": [
  {
   "cell_type": "markdown",
   "id": "187314ff",
   "metadata": {},
   "source": [
    "Data obtained from: https://data.gov.sg/datasets?agencies=NEA&page=1&query=rain&resultId=2279\n",
    "Full year data from 2017-2024"
   ]
  },
  {
   "cell_type": "code",
   "execution_count": 1,
   "id": "63128bbc",
   "metadata": {},
   "outputs": [],
   "source": [
    "import polars as pl\n",
    "import os\n",
    "\n",
    "DATA_PATH = \"../data/raw\""
   ]
  },
  {
   "cell_type": "code",
   "execution_count": 2,
   "id": "aa978436",
   "metadata": {},
   "outputs": [],
   "source": [
    "# Load data\n",
    "file_names = [x for x in os.listdir(DATA_PATH) if \".csv\" in x]  # List all CSV files in the raw data directory\n",
    "\n",
    "df_list = []\n",
    "for file in file_names:\n",
    "    df = pl.scan_csv(os.path.join(DATA_PATH, file))\n",
    "    df_list.append(df)"
   ]
  },
  {
   "cell_type": "code",
   "execution_count": 3,
   "id": "8a245ea2",
   "metadata": {},
   "outputs": [],
   "source": [
    "# Combine lazyframes into a single lazyframe\n",
    "df_combined = pl.concat(df_list, how=\"vertical\")\n",
    "df_combined_col = df_combined.collect()\n"
   ]
  },
  {
   "cell_type": "code",
   "execution_count": 4,
   "id": "712f9165",
   "metadata": {},
   "outputs": [
    {
     "data": {
      "text/html": [
       "<div><style>\n",
       ".dataframe > thead > tr,\n",
       ".dataframe > tbody > tr {\n",
       "  text-align: right;\n",
       "  white-space: pre-wrap;\n",
       "}\n",
       "</style>\n",
       "<small>shape: (5, 12)</small><table border=\"1\" class=\"dataframe\"><thead><tr><th>date</th><th>timestamp</th><th>update_timestamp</th><th>station_id</th><th>station_name</th><th>station_device_id</th><th>location_longitude</th><th>location_latitude</th><th>reading_update_timestamp</th><th>reading_value</th><th>reading_type</th><th>reading_unit</th></tr><tr><td>str</td><td>str</td><td>str</td><td>str</td><td>str</td><td>str</td><td>f64</td><td>f64</td><td>str</td><td>f64</td><td>str</td><td>str</td></tr></thead><tbody><tr><td>&quot;2020-01-01&quot;</td><td>&quot;2020-01-01T00:00:00+08:00&quot;</td><td>&quot;2020-01-05T17:47:38+08:00&quot;</td><td>&quot;S105&quot;</td><td>&quot;Admiralty Road West&quot;</td><td>&quot;S105&quot;</td><td>103.79525</td><td>1.45817</td><td>&quot;2020-01-05T17:47:38+08:00&quot;</td><td>0.0</td><td>&quot;TB1 Rainfall 5 Minute Total F&quot;</td><td>&quot;mm&quot;</td></tr><tr><td>&quot;2020-01-01&quot;</td><td>&quot;2020-01-01T00:00:00+08:00&quot;</td><td>&quot;2020-01-05T17:47:38+08:00&quot;</td><td>&quot;S77&quot;</td><td>&quot;Alexandra Road&quot;</td><td>&quot;S77&quot;</td><td>103.8125</td><td>1.2937</td><td>&quot;2020-01-05T17:47:38+08:00&quot;</td><td>0.0</td><td>&quot;TB1 Rainfall 5 Minute Total F&quot;</td><td>&quot;mm&quot;</td></tr><tr><td>&quot;2020-01-01&quot;</td><td>&quot;2020-01-01T00:00:00+08:00&quot;</td><td>&quot;2020-01-05T17:47:38+08:00&quot;</td><td>&quot;S109&quot;</td><td>&quot;Ang Mo Kio Avenue 5&quot;</td><td>&quot;S109&quot;</td><td>103.8492</td><td>1.3764</td><td>&quot;2020-01-05T17:47:38+08:00&quot;</td><td>0.0</td><td>&quot;TB1 Rainfall 5 Minute Total F&quot;</td><td>&quot;mm&quot;</td></tr><tr><td>&quot;2020-01-01&quot;</td><td>&quot;2020-01-01T00:00:00+08:00&quot;</td><td>&quot;2020-01-05T17:47:38+08:00&quot;</td><td>&quot;S117&quot;</td><td>&quot;Banyan Road&quot;</td><td>&quot;S117&quot;</td><td>103.679</td><td>1.256</td><td>&quot;2020-01-05T17:47:38+08:00&quot;</td><td>0.0</td><td>&quot;TB1 Rainfall 5 Minute Total F&quot;</td><td>&quot;mm&quot;</td></tr><tr><td>&quot;2020-01-01&quot;</td><td>&quot;2020-01-01T00:00:00+08:00&quot;</td><td>&quot;2020-01-05T17:47:38+08:00&quot;</td><td>&quot;S64&quot;</td><td>&quot;Bukit Panjang Road&quot;</td><td>&quot;S64&quot;</td><td>103.7603</td><td>1.3824</td><td>&quot;2020-01-05T17:47:38+08:00&quot;</td><td>0.0</td><td>&quot;TB1 Rainfall 5 Minute Total F&quot;</td><td>&quot;mm&quot;</td></tr></tbody></table></div>"
      ],
      "text/plain": [
       "shape: (5, 12)\n",
       "┌───────────┬───────────┬───────────┬───────────┬───┬───────────┬───────────┬───────────┬──────────┐\n",
       "│ date      ┆ timestamp ┆ update_ti ┆ station_i ┆ … ┆ reading_u ┆ reading_v ┆ reading_t ┆ reading_ │\n",
       "│ ---       ┆ ---       ┆ mestamp   ┆ d         ┆   ┆ pdate_tim ┆ alue      ┆ ype       ┆ unit     │\n",
       "│ str       ┆ str       ┆ ---       ┆ ---       ┆   ┆ estamp    ┆ ---       ┆ ---       ┆ ---      │\n",
       "│           ┆           ┆ str       ┆ str       ┆   ┆ ---       ┆ f64       ┆ str       ┆ str      │\n",
       "│           ┆           ┆           ┆           ┆   ┆ str       ┆           ┆           ┆          │\n",
       "╞═══════════╪═══════════╪═══════════╪═══════════╪═══╪═══════════╪═══════════╪═══════════╪══════════╡\n",
       "│ 2020-01-0 ┆ 2020-01-0 ┆ 2020-01-0 ┆ S105      ┆ … ┆ 2020-01-0 ┆ 0.0       ┆ TB1       ┆ mm       │\n",
       "│ 1         ┆ 1T00:00:0 ┆ 5T17:47:3 ┆           ┆   ┆ 5T17:47:3 ┆           ┆ Rainfall  ┆          │\n",
       "│           ┆ 0+08:00   ┆ 8+08:00   ┆           ┆   ┆ 8+08:00   ┆           ┆ 5 Minute  ┆          │\n",
       "│           ┆           ┆           ┆           ┆   ┆           ┆           ┆ Total F   ┆          │\n",
       "│ 2020-01-0 ┆ 2020-01-0 ┆ 2020-01-0 ┆ S77       ┆ … ┆ 2020-01-0 ┆ 0.0       ┆ TB1       ┆ mm       │\n",
       "│ 1         ┆ 1T00:00:0 ┆ 5T17:47:3 ┆           ┆   ┆ 5T17:47:3 ┆           ┆ Rainfall  ┆          │\n",
       "│           ┆ 0+08:00   ┆ 8+08:00   ┆           ┆   ┆ 8+08:00   ┆           ┆ 5 Minute  ┆          │\n",
       "│           ┆           ┆           ┆           ┆   ┆           ┆           ┆ Total F   ┆          │\n",
       "│ 2020-01-0 ┆ 2020-01-0 ┆ 2020-01-0 ┆ S109      ┆ … ┆ 2020-01-0 ┆ 0.0       ┆ TB1       ┆ mm       │\n",
       "│ 1         ┆ 1T00:00:0 ┆ 5T17:47:3 ┆           ┆   ┆ 5T17:47:3 ┆           ┆ Rainfall  ┆          │\n",
       "│           ┆ 0+08:00   ┆ 8+08:00   ┆           ┆   ┆ 8+08:00   ┆           ┆ 5 Minute  ┆          │\n",
       "│           ┆           ┆           ┆           ┆   ┆           ┆           ┆ Total F   ┆          │\n",
       "│ 2020-01-0 ┆ 2020-01-0 ┆ 2020-01-0 ┆ S117      ┆ … ┆ 2020-01-0 ┆ 0.0       ┆ TB1       ┆ mm       │\n",
       "│ 1         ┆ 1T00:00:0 ┆ 5T17:47:3 ┆           ┆   ┆ 5T17:47:3 ┆           ┆ Rainfall  ┆          │\n",
       "│           ┆ 0+08:00   ┆ 8+08:00   ┆           ┆   ┆ 8+08:00   ┆           ┆ 5 Minute  ┆          │\n",
       "│           ┆           ┆           ┆           ┆   ┆           ┆           ┆ Total F   ┆          │\n",
       "│ 2020-01-0 ┆ 2020-01-0 ┆ 2020-01-0 ┆ S64       ┆ … ┆ 2020-01-0 ┆ 0.0       ┆ TB1       ┆ mm       │\n",
       "│ 1         ┆ 1T00:00:0 ┆ 5T17:47:3 ┆           ┆   ┆ 5T17:47:3 ┆           ┆ Rainfall  ┆          │\n",
       "│           ┆ 0+08:00   ┆ 8+08:00   ┆           ┆   ┆ 8+08:00   ┆           ┆ 5 Minute  ┆          │\n",
       "│           ┆           ┆           ┆           ┆   ┆           ┆           ┆ Total F   ┆          │\n",
       "└───────────┴───────────┴───────────┴───────────┴───┴───────────┴───────────┴───────────┴──────────┘"
      ]
     },
     "execution_count": 4,
     "metadata": {},
     "output_type": "execute_result"
    }
   ],
   "source": [
    "# Profile\n",
    "df_combined_col.head()"
   ]
  },
  {
   "cell_type": "code",
   "execution_count": 5,
   "id": "4943193c",
   "metadata": {},
   "outputs": [
    {
     "data": {
      "text/plain": [
       "['mm']"
      ]
     },
     "execution_count": 5,
     "metadata": {},
     "output_type": "execute_result"
    }
   ],
   "source": [
    "# Check unique reading units - 1 Unique\n",
    "(df_combined_col.select(pl.col(\"reading_unit\"))\n",
    " .unique()\n",
    " .sort(\"reading_unit\")\n",
    " .to_series().to_list()\n",
    " )"
   ]
  },
  {
   "cell_type": "code",
   "execution_count": 6,
   "id": "f1e78400",
   "metadata": {},
   "outputs": [
    {
     "data": {
      "text/plain": [
       "['TB1 Rainfall 5 Minute Total F']"
      ]
     },
     "execution_count": 6,
     "metadata": {},
     "output_type": "execute_result"
    }
   ],
   "source": [
    "# Check unique reading types- 1 Unique\n",
    "(df_combined_col.select(pl.col(\"reading_type\"))\n",
    " .unique()\n",
    " .sort(\"reading_type\")\n",
    " .to_series().to_list()\n",
    " )"
   ]
  },
  {
   "cell_type": "code",
   "execution_count": 7,
   "id": "93d60200",
   "metadata": {},
   "outputs": [
    {
     "data": {
      "text/plain": [
       "['Ang Mo Kio Avenue 10',\n",
       " 'Clementi Park',\n",
       " 'Hougang Avenue 1',\n",
       " 'S222',\n",
       " 'Scotts Road',\n",
       " 'Choa Chu Kang Avenue 4',\n",
       " 'S209',\n",
       " 'Pulau Ubin',\n",
       " 'Woodlands Avenue 9',\n",
       " 'S208',\n",
       " 'Upper Peirce Reservoir Park',\n",
       " 'Buangkok Green',\n",
       " 'Pasir Ris Drive 12',\n",
       " 'S202',\n",
       " 'Yio Chu Kang Road',\n",
       " 'Semakau Landfill',\n",
       " 'Ang Mo Kio Ave 10',\n",
       " 'S226',\n",
       " 'Yishun Ring Road',\n",
       " 'Upper Serangoon Road',\n",
       " 'Marina Gardens Drive',\n",
       " 'Bukit Panjang Road',\n",
       " 'Bishan Street 13',\n",
       " 'Bukit Timah Road',\n",
       " 'Bedok Road',\n",
       " 'Clementi Road',\n",
       " 'S227',\n",
       " 'Poole Road',\n",
       " 'Sime Road',\n",
       " 'Woodlands Road',\n",
       " 'Tuas Road',\n",
       " 'S220',\n",
       " 'Old Toh Tuck Road',\n",
       " 'Henderson Road',\n",
       " 'Jurong West Street 42',\n",
       " 'S230',\n",
       " 'Kim Chuan Road',\n",
       " 'Holland Road',\n",
       " 'Banyan Road',\n",
       " 'S213',\n",
       " 'Woodlands Centre',\n",
       " 'Pasir Ris Street 51',\n",
       " 'Towner Road',\n",
       " 'Sentosa',\n",
       " 'Dairy Farm Road',\n",
       " 'Airport Boulevard',\n",
       " 'Tuas South Avenue 3',\n",
       " 'Alexandra Road',\n",
       " 'West Coast Road',\n",
       " 'East Coast Parkway',\n",
       " 'Lim Chu Kang Road',\n",
       " 'GEYLANG EAST CENTRAL',\n",
       " 'S216',\n",
       " 'Old Choa Chu Kang Road',\n",
       " 'S219',\n",
       " 'Handy Road',\n",
       " 'Tuas West Road',\n",
       " 'Simei Avenue',\n",
       " 'Somerset Road',\n",
       " 'Marine Parade Road',\n",
       " 'Pioneer Sector 2',\n",
       " 'S210',\n",
       " 'Punggol Central',\n",
       " 'S207',\n",
       " 'Changi East Close',\n",
       " 'S224',\n",
       " 'S214',\n",
       " 'S228',\n",
       " 'International Road',\n",
       " 'S203',\n",
       " 'Margaret Drive',\n",
       " 'S229',\n",
       " 'Kranji Way',\n",
       " 'Kranji Road',\n",
       " 'Tanjong Rhu',\n",
       " 'Bukit Batok Street 34',\n",
       " 'S217',\n",
       " 'Yishun Avenue 5',\n",
       " 'Kent Ridge Road',\n",
       " 'Seletar Aerospace View',\n",
       " 'Ang Mo Kio Avenue 5',\n",
       " 'Serangoon North Avenue 4',\n",
       " 'Tanah Merah Coast Road',\n",
       " 'Coronation Walk',\n",
       " 'Woodlands Drive 62',\n",
       " 'Jurong Pier Road',\n",
       " 'West Coast Highway',\n",
       " 'Lornie Road',\n",
       " 'Upper Thomson Road',\n",
       " 'Nicoll Highway',\n",
       " 'Choa Chu Kang Road',\n",
       " 'Geylang East Central',\n",
       " 'S201',\n",
       " 'S204',\n",
       " 'Malan Road',\n",
       " 'S221',\n",
       " 'South Buona Vista Road',\n",
       " 'Nanyang Avenue',\n",
       " 'S06',\n",
       " 'Sembawang Road',\n",
       " 'Upper Changi Road North',\n",
       " 'S223',\n",
       " 'Compassvale Lane',\n",
       " 'Chai Chee Street',\n",
       " 'S211',\n",
       " 'Toa Payoh North',\n",
       " 'Tampines Avenue 9',\n",
       " 'Mandai Lake Road',\n",
       " 'Paya Lebar',\n",
       " 'Pasir Panjang',\n",
       " 'Jurong West Street 73',\n",
       " 'Corporation Road',\n",
       " 'S205',\n",
       " 'Admiralty Road West',\n",
       " 'S218',\n",
       " 'S212',\n",
       " 'Prince Edward Road']"
      ]
     },
     "execution_count": 7,
     "metadata": {},
     "output_type": "execute_result"
    }
   ],
   "source": [
    "# Checking unique stations\n",
    "df_combined_col.select(pl.col(\"station_name\").unique()).to_series().to_list()"
   ]
  },
  {
   "cell_type": "code",
   "execution_count": 8,
   "id": "be8959a0",
   "metadata": {},
   "outputs": [
    {
     "data": {
      "text/html": [
       "<div><style>\n",
       ".dataframe > thead > tr,\n",
       ".dataframe > tbody > tr {\n",
       "  text-align: right;\n",
       "  white-space: pre-wrap;\n",
       "}\n",
       "</style>\n",
       "<small>shape: (57, 5)</small><table border=\"1\" class=\"dataframe\"><thead><tr><th>station_id</th><th>station_name</th><th>location_longitude</th><th>location_latitude</th><th>date</th></tr><tr><td>str</td><td>str</td><td>f64</td><td>f64</td><td>u32</td></tr></thead><tbody><tr><td>&quot;S201&quot;</td><td>&quot;Clementi Park&quot;</td><td>103.76714</td><td>1.32311</td><td>47649</td></tr><tr><td>&quot;S201&quot;</td><td>&quot;S201&quot;</td><td>103.76714</td><td>1.32311</td><td>422634</td></tr><tr><td>&quot;S202&quot;</td><td>&quot;S202&quot;</td><td>103.7578</td><td>1.30968</td><td>276164</td></tr><tr><td>&quot;S203&quot;</td><td>&quot;S203&quot;</td><td>103.7702</td><td>1.29164</td><td>417506</td></tr><tr><td>&quot;S203&quot;</td><td>&quot;Pasir Panjang&quot;</td><td>103.7702</td><td>1.29164</td><td>42562</td></tr><tr><td>&hellip;</td><td>&hellip;</td><td>&hellip;</td><td>&hellip;</td><td>&hellip;</td></tr><tr><td>&quot;S230&quot;</td><td>&quot;S230&quot;</td><td>103.76444</td><td>1.30167</td><td>421526</td></tr><tr><td>&quot;S230&quot;</td><td>&quot;West Coast Road&quot;</td><td>103.76444</td><td>1.30167</td><td>47652</td></tr><tr><td>&quot;S24&quot;</td><td>&quot;Upper Changi Road North&quot;</td><td>103.9826</td><td>1.3678</td><td>798983</td></tr><tr><td>&quot;S24B&quot;</td><td>&quot;Upper Changi Road North&quot;</td><td>103.998</td><td>1.3678</td><td>32648</td></tr><tr><td>&quot;S29&quot;</td><td>&quot;Pasir Ris Drive 12&quot;</td><td>103.935</td><td>1.387</td><td>378666</td></tr></tbody></table></div>"
      ],
      "text/plain": [
       "shape: (57, 5)\n",
       "┌────────────┬─────────────────────────┬────────────────────┬───────────────────┬────────┐\n",
       "│ station_id ┆ station_name            ┆ location_longitude ┆ location_latitude ┆ date   │\n",
       "│ ---        ┆ ---                     ┆ ---                ┆ ---               ┆ ---    │\n",
       "│ str        ┆ str                     ┆ f64                ┆ f64               ┆ u32    │\n",
       "╞════════════╪═════════════════════════╪════════════════════╪═══════════════════╪════════╡\n",
       "│ S201       ┆ Clementi Park           ┆ 103.76714          ┆ 1.32311           ┆ 47649  │\n",
       "│ S201       ┆ S201                    ┆ 103.76714          ┆ 1.32311           ┆ 422634 │\n",
       "│ S202       ┆ S202                    ┆ 103.7578           ┆ 1.30968           ┆ 276164 │\n",
       "│ S203       ┆ S203                    ┆ 103.7702           ┆ 1.29164           ┆ 417506 │\n",
       "│ S203       ┆ Pasir Panjang           ┆ 103.7702           ┆ 1.29164           ┆ 42562  │\n",
       "│ …          ┆ …                       ┆ …                  ┆ …                 ┆ …      │\n",
       "│ S230       ┆ S230                    ┆ 103.76444          ┆ 1.30167           ┆ 421526 │\n",
       "│ S230       ┆ West Coast Road         ┆ 103.76444          ┆ 1.30167           ┆ 47652  │\n",
       "│ S24        ┆ Upper Changi Road North ┆ 103.9826           ┆ 1.3678            ┆ 798983 │\n",
       "│ S24B       ┆ Upper Changi Road North ┆ 103.998            ┆ 1.3678            ┆ 32648  │\n",
       "│ S29        ┆ Pasir Ris Drive 12      ┆ 103.935            ┆ 1.387             ┆ 378666 │\n",
       "└────────────┴─────────────────────────┴────────────────────┴───────────────────┴────────┘"
      ]
     },
     "execution_count": 8,
     "metadata": {},
     "output_type": "execute_result"
    }
   ],
   "source": [
    "# Check out station IDs starting with S\n",
    "(df_combined_col.filter(pl.col(\"station_id\").str.starts_with(\"S2\"))\n",
    " .group_by([\"station_id\", \"station_name\", \"location_longitude\", \"location_latitude\"])\n",
    " .agg(pl.col(\"date\").count())\n",
    " .sort(\"station_id\"))"
   ]
  },
  {
   "cell_type": "code",
   "execution_count": 9,
   "id": "6040a11a",
   "metadata": {},
   "outputs": [
    {
     "data": {
      "text/html": [
       "<div><style>\n",
       ".dataframe > thead > tr,\n",
       ".dataframe > tbody > tr {\n",
       "  text-align: right;\n",
       "  white-space: pre-wrap;\n",
       "}\n",
       "</style>\n",
       "<small>shape: (27, 3)</small><table border=\"1\" class=\"dataframe\"><thead><tr><th>station_name</th><th>station_id</th><th>date</th></tr><tr><td>str</td><td>str</td><td>u32</td></tr></thead><tbody><tr><td>&quot;S201&quot;</td><td>&quot;S201&quot;</td><td>422634</td></tr><tr><td>&quot;S202&quot;</td><td>&quot;S202&quot;</td><td>276164</td></tr><tr><td>&quot;S203&quot;</td><td>&quot;S203&quot;</td><td>417506</td></tr><tr><td>&quot;S204&quot;</td><td>&quot;S204&quot;</td><td>345437</td></tr><tr><td>&quot;S205&quot;</td><td>&quot;S205&quot;</td><td>315754</td></tr><tr><td>&hellip;</td><td>&hellip;</td><td>&hellip;</td></tr><tr><td>&quot;S226&quot;</td><td>&quot;S226&quot;</td><td>419807</td></tr><tr><td>&quot;S227&quot;</td><td>&quot;S227&quot;</td><td>421660</td></tr><tr><td>&quot;S228&quot;</td><td>&quot;S228&quot;</td><td>420329</td></tr><tr><td>&quot;S229&quot;</td><td>&quot;S229&quot;</td><td>422397</td></tr><tr><td>&quot;S230&quot;</td><td>&quot;S230&quot;</td><td>421526</td></tr></tbody></table></div>"
      ],
      "text/plain": [
       "shape: (27, 3)\n",
       "┌──────────────┬────────────┬────────┐\n",
       "│ station_name ┆ station_id ┆ date   │\n",
       "│ ---          ┆ ---        ┆ ---    │\n",
       "│ str          ┆ str        ┆ u32    │\n",
       "╞══════════════╪════════════╪════════╡\n",
       "│ S201         ┆ S201       ┆ 422634 │\n",
       "│ S202         ┆ S202       ┆ 276164 │\n",
       "│ S203         ┆ S203       ┆ 417506 │\n",
       "│ S204         ┆ S204       ┆ 345437 │\n",
       "│ S205         ┆ S205       ┆ 315754 │\n",
       "│ …            ┆ …          ┆ …      │\n",
       "│ S226         ┆ S226       ┆ 419807 │\n",
       "│ S227         ┆ S227       ┆ 421660 │\n",
       "│ S228         ┆ S228       ┆ 420329 │\n",
       "│ S229         ┆ S229       ┆ 422397 │\n",
       "│ S230         ┆ S230       ┆ 421526 │\n",
       "└──────────────┴────────────┴────────┘"
      ]
     },
     "execution_count": 9,
     "metadata": {},
     "output_type": "execute_result"
    }
   ],
   "source": [
    "# Check out station names starting with S\n",
    "(df_combined_col.filter(pl.col(\"station_name\").str.starts_with(\"S2\"))\n",
    " .group_by([\"station_name\",\"station_id\"])\n",
    " .agg(pl.col(\"date\").count())\n",
    " .sort(\"station_name\"))"
   ]
  },
  {
   "cell_type": "code",
   "execution_count": 62,
   "id": "6f34d1f7",
   "metadata": {},
   "outputs": [
    {
     "data": {
      "text/html": [
       "<div><style>\n",
       ".dataframe > thead > tr,\n",
       ".dataframe > tbody > tr {\n",
       "  text-align: right;\n",
       "  white-space: pre-wrap;\n",
       "}\n",
       "</style>\n",
       "<small>shape: (91, 1)</small><table border=\"1\" class=\"dataframe\"><thead><tr><th>station_id</th></tr><tr><td>str</td></tr></thead><tbody><tr><td>&quot;S06&quot;</td></tr><tr><td>&quot;S07&quot;</td></tr><tr><td>&quot;S08&quot;</td></tr><tr><td>&quot;S100&quot;</td></tr><tr><td>&quot;S101&quot;</td></tr><tr><td>&hellip;</td></tr><tr><td>&quot;S91&quot;</td></tr><tr><td>&quot;S92&quot;</td></tr><tr><td>&quot;S94&quot;</td></tr><tr><td>&quot;S96&quot;</td></tr><tr><td>&quot;S97&quot;</td></tr></tbody></table></div>"
      ],
      "text/plain": [
       "shape: (91, 1)\n",
       "┌────────────┐\n",
       "│ station_id │\n",
       "│ ---        │\n",
       "│ str        │\n",
       "╞════════════╡\n",
       "│ S06        │\n",
       "│ S07        │\n",
       "│ S08        │\n",
       "│ S100       │\n",
       "│ S101       │\n",
       "│ …          │\n",
       "│ S91        │\n",
       "│ S92        │\n",
       "│ S94        │\n",
       "│ S96        │\n",
       "│ S97        │\n",
       "└────────────┘"
      ]
     },
     "execution_count": 62,
     "metadata": {},
     "output_type": "execute_result"
    }
   ],
   "source": [
    "# Redundancy in station ID, to check unique\n",
    "(df_combined_col.select(pl.col(\"station_id\"))\n",
    " .unique()\n",
    ".sort(\"station_id\")\n",
    ".to_series().to_list()\n",
    ")"
   ]
  },
  {
   "cell_type": "code",
   "execution_count": 65,
   "id": "b56a9020",
   "metadata": {},
   "outputs": [
    {
     "data": {
      "text/html": [
       "<div><style>\n",
       ".dataframe > thead > tr,\n",
       ".dataframe > tbody > tr {\n",
       "  text-align: right;\n",
       "  white-space: pre-wrap;\n",
       "}\n",
       "</style>\n",
       "<small>shape: (91, 2)</small><table border=\"1\" class=\"dataframe\"><thead><tr><th>station_id</th><th>date</th></tr><tr><td>str</td><td>u32</td></tr></thead><tbody><tr><td>&quot;S06&quot;</td><td>40141</td></tr><tr><td>&quot;S07&quot;</td><td>554703</td></tr><tr><td>&quot;S08&quot;</td><td>787572</td></tr><tr><td>&quot;S100&quot;</td><td>621234</td></tr><tr><td>&quot;S101&quot;</td><td>169959</td></tr><tr><td>&hellip;</td><td>&hellip;</td></tr><tr><td>&quot;S91&quot;</td><td>346468</td></tr><tr><td>&quot;S92&quot;</td><td>395407</td></tr><tr><td>&quot;S94&quot;</td><td>800299</td></tr><tr><td>&quot;S96&quot;</td><td>30633</td></tr><tr><td>&quot;S97&quot;</td><td>6</td></tr></tbody></table></div>"
      ],
      "text/plain": [
       "shape: (91, 2)\n",
       "┌────────────┬────────┐\n",
       "│ station_id ┆ date   │\n",
       "│ ---        ┆ ---    │\n",
       "│ str        ┆ u32    │\n",
       "╞════════════╪════════╡\n",
       "│ S06        ┆ 40141  │\n",
       "│ S07        ┆ 554703 │\n",
       "│ S08        ┆ 787572 │\n",
       "│ S100       ┆ 621234 │\n",
       "│ S101       ┆ 169959 │\n",
       "│ …          ┆ …      │\n",
       "│ S91        ┆ 346468 │\n",
       "│ S92        ┆ 395407 │\n",
       "│ S94        ┆ 800299 │\n",
       "│ S96        ┆ 30633  │\n",
       "│ S97        ┆ 6      │\n",
       "└────────────┴────────┘"
      ]
     },
     "execution_count": 65,
     "metadata": {},
     "output_type": "execute_result"
    }
   ],
   "source": [
    "# Counting dates per station id\n",
    "(df_combined_col.group_by(\"station_id\")\n",
    " .agg(pl.col(\"date\").count())\n",
    " .sort(\"station_id\")\n",
    ")"
   ]
  },
  {
   "cell_type": "code",
   "execution_count": 83,
   "id": "ad69203b",
   "metadata": {},
   "outputs": [
    {
     "data": {
      "text/html": [
       "<div><style>\n",
       ".dataframe > thead > tr,\n",
       ".dataframe > tbody > tr {\n",
       "  text-align: right;\n",
       "  white-space: pre-wrap;\n",
       "}\n",
       "</style>\n",
       "<small>shape: (1, 2)</small><table border=\"1\" class=\"dataframe\"><thead><tr><th>station_id</th><th>date_unique_count</th></tr><tr><td>u32</td><td>u32</td></tr></thead><tbody><tr><td>34</td><td>34</td></tr></tbody></table></div>"
      ],
      "text/plain": [
       "shape: (1, 2)\n",
       "┌────────────┬───────────────────┐\n",
       "│ station_id ┆ date_unique_count │\n",
       "│ ---        ┆ ---               │\n",
       "│ u32        ┆ u32               │\n",
       "╞════════════╪═══════════════════╡\n",
       "│ 34         ┆ 34                │\n",
       "└────────────┴───────────────────┘"
      ]
     },
     "execution_count": 83,
     "metadata": {},
     "output_type": "execute_result"
    }
   ],
   "source": [
    "# Check the number of dates per station: There should be 2920 by right\n",
    "(df_combined_col.group_by(\"station_id\")\n",
    " .agg(pl.col(\"date\").n_unique().alias(\"date_unique_count\"))\n",
    " .sort(\"date_unique_count\", descending=True)\n",
    " .head(20)\n",
    ")\n",
    "\n",
    "(df_combined_col.group_by(\"station_id\")\n",
    " .agg(pl.col(\"date\").n_unique().alias(\"date_unique_count\"))\n",
    " .sort(\"date_unique_count\", descending=True)\n",
    " .filter(pl.col(\"date_unique_count\") >= 2500)\n",
    " .count()\n",
    ") # 34\n"
   ]
  },
  {
   "cell_type": "markdown",
   "id": "8cf0726c",
   "metadata": {},
   "source": [
    "Scoping begins here, along with feature engineering"
   ]
  },
  {
   "cell_type": "code",
   "execution_count": 94,
   "id": "325bca25",
   "metadata": {},
   "outputs": [],
   "source": [
    "# To proceed with only station IDs having at least 2500 dates\n",
    "selected_stations_list = (df_combined_col.group_by(\"station_id\")\n",
    " .agg(pl.col(\"date\").n_unique().alias(\"date_unique_count\"))\n",
    " .sort(\"date_unique_count\", descending=True)\n",
    " .filter(pl.col(\"date_unique_count\") >= 2500)\n",
    " .select(pl.col(\"station_id\"))\n",
    ").to_series().to_list()"
   ]
  },
  {
   "cell_type": "code",
   "execution_count": 101,
   "id": "dce36126",
   "metadata": {},
   "outputs": [
    {
     "data": {
      "text/html": [
       "<div><style>\n",
       ".dataframe > thead > tr,\n",
       ".dataframe > tbody > tr {\n",
       "  text-align: right;\n",
       "  white-space: pre-wrap;\n",
       "}\n",
       "</style>\n",
       "<small>shape: (5, 4)</small><table border=\"1\" class=\"dataframe\"><thead><tr><th>station_id</th><th>date</th><th>min_rainfall</th><th>max_rainfall</th></tr><tr><td>str</td><td>str</td><td>f64</td><td>f64</td></tr></thead><tbody><tr><td>&quot;S08&quot;</td><td>&quot;2017-01-01&quot;</td><td>0.0</td><td>0.4</td></tr><tr><td>&quot;S08&quot;</td><td>&quot;2017-01-02&quot;</td><td>0.0</td><td>0.6</td></tr><tr><td>&quot;S08&quot;</td><td>&quot;2017-01-03&quot;</td><td>0.0</td><td>0.2</td></tr><tr><td>&quot;S08&quot;</td><td>&quot;2017-01-04&quot;</td><td>0.0</td><td>0.4</td></tr><tr><td>&quot;S08&quot;</td><td>&quot;2017-01-05&quot;</td><td>0.0</td><td>0.4</td></tr></tbody></table></div>"
      ],
      "text/plain": [
       "shape: (5, 4)\n",
       "┌────────────┬────────────┬──────────────┬──────────────┐\n",
       "│ station_id ┆ date       ┆ min_rainfall ┆ max_rainfall │\n",
       "│ ---        ┆ ---        ┆ ---          ┆ ---          │\n",
       "│ str        ┆ str        ┆ f64          ┆ f64          │\n",
       "╞════════════╪════════════╪══════════════╪══════════════╡\n",
       "│ S08        ┆ 2017-01-01 ┆ 0.0          ┆ 0.4          │\n",
       "│ S08        ┆ 2017-01-02 ┆ 0.0          ┆ 0.6          │\n",
       "│ S08        ┆ 2017-01-03 ┆ 0.0          ┆ 0.2          │\n",
       "│ S08        ┆ 2017-01-04 ┆ 0.0          ┆ 0.4          │\n",
       "│ S08        ┆ 2017-01-05 ┆ 0.0          ┆ 0.4          │\n",
       "└────────────┴────────────┴──────────────┴──────────────┘"
      ]
     },
     "execution_count": 101,
     "metadata": {},
     "output_type": "execute_result"
    }
   ],
   "source": [
    "# Aggregate rainfall min max per day\n",
    "df_agg = (df_combined_col.filter(pl.col(\"station_id\").is_in(selected_stations_list))\n",
    "          .group_by([\"station_id\", \"date\"])\n",
    "          .agg(\n",
    "    pl.min(\"reading_value\").alias(\"min_rainfall\"),\n",
    "    pl.max(\"reading_value\").alias(\"max_rainfall\")\n",
    "         ).sort(\"station_id\", \"date\"))\n",
    "df_agg.head()"
   ]
  },
  {
   "cell_type": "code",
   "execution_count": 102,
   "id": "6ad09209",
   "metadata": {},
   "outputs": [
    {
     "name": "stdout",
     "output_type": "stream",
     "text": [
      "shape: (34, 3)\n",
      "┌────────────┬────────────┬────────────┐\n",
      "│ station_id ┆ min_date   ┆ max_date   │\n",
      "│ ---        ┆ ---        ┆ ---        │\n",
      "│ str        ┆ str        ┆ str        │\n",
      "╞════════════╪════════════╪════════════╡\n",
      "│ S08        ┆ 2017-01-01 ┆ 2024-12-31 │\n",
      "│ S104       ┆ 2017-01-01 ┆ 2024-12-31 │\n",
      "│ S107       ┆ 2017-01-01 ┆ 2024-12-31 │\n",
      "│ S109       ┆ 2017-01-01 ┆ 2024-12-31 │\n",
      "│ S111       ┆ 2017-08-31 ┆ 2024-12-31 │\n",
      "│ S112       ┆ 2017-01-01 ┆ 2024-12-31 │\n",
      "│ S113       ┆ 2017-01-01 ┆ 2024-12-31 │\n",
      "│ S114       ┆ 2017-01-01 ┆ 2024-11-20 │\n",
      "│ S115       ┆ 2017-01-01 ┆ 2024-12-31 │\n",
      "│ S116       ┆ 2017-01-01 ┆ 2024-12-31 │\n",
      "│ S119       ┆ 2017-01-01 ┆ 2024-12-31 │\n",
      "│ S120       ┆ 2017-01-01 ┆ 2024-05-02 │\n",
      "│ S121       ┆ 2017-01-01 ┆ 2024-12-31 │\n",
      "│ S123       ┆ 2017-01-01 ┆ 2024-12-31 │\n",
      "│ S24        ┆ 2017-01-01 ┆ 2024-12-31 │\n",
      "│ S33        ┆ 2017-01-01 ┆ 2024-12-31 │\n",
      "│ S35        ┆ 2017-01-01 ┆ 2024-12-31 │\n",
      "│ S40        ┆ 2017-01-01 ┆ 2024-12-31 │\n",
      "│ S43        ┆ 2017-01-01 ┆ 2024-12-31 │\n",
      "│ S44        ┆ 2017-01-01 ┆ 2024-11-30 │\n",
      "│ S50        ┆ 2017-01-01 ┆ 2024-12-31 │\n",
      "│ S66        ┆ 2017-01-01 ┆ 2024-12-31 │\n",
      "│ S69        ┆ 2017-01-01 ┆ 2024-12-31 │\n",
      "│ S71        ┆ 2017-01-01 ┆ 2024-12-31 │\n",
      "│ S77        ┆ 2017-01-01 ┆ 2024-12-31 │\n",
      "│ S78        ┆ 2017-01-01 ┆ 2024-12-31 │\n",
      "│ S79        ┆ 2017-01-01 ┆ 2024-12-31 │\n",
      "│ S81        ┆ 2017-01-01 ┆ 2024-12-31 │\n",
      "│ S84        ┆ 2017-01-01 ┆ 2024-12-31 │\n",
      "│ S88        ┆ 2017-01-01 ┆ 2024-12-31 │\n",
      "│ S89        ┆ 2017-01-01 ┆ 2024-12-31 │\n",
      "│ S90        ┆ 2017-01-01 ┆ 2024-12-31 │\n",
      "│ S900       ┆ 2017-01-01 ┆ 2024-12-31 │\n",
      "│ S94        ┆ 2017-01-01 ┆ 2024-12-31 │\n",
      "└────────────┴────────────┴────────────┘\n"
     ]
    }
   ],
   "source": [
    "# Check min and max dates per station\n",
    "with pl.Config(tbl_rows=50):\n",
    "    print((df_agg.group_by(\"station_id\")\n",
    "    .agg(\n",
    "        pl.min(\"date\").alias(\"min_date\"),\n",
    "        pl.max(\"date\").alias(\"max_date\"))))"
   ]
  },
  {
   "cell_type": "code",
   "execution_count": 103,
   "id": "b8e258fa",
   "metadata": {},
   "outputs": [
    {
     "name": "stdout",
     "output_type": "stream",
     "text": [
      "shape: (30, 4)\n",
      "┌────────────┬────────────┬────────────┬────────────┐\n",
      "│ station_id ┆ min_date   ┆ max_date   ┆ date_count │\n",
      "│ ---        ┆ ---        ┆ ---        ┆ ---        │\n",
      "│ str        ┆ str        ┆ str        ┆ u32        │\n",
      "╞════════════╪════════════╪════════════╪════════════╡\n",
      "│ S08        ┆ 2017-01-01 ┆ 2024-12-31 ┆ 2803       │\n",
      "│ S104       ┆ 2017-01-01 ┆ 2024-12-31 ┆ 2728       │\n",
      "│ S107       ┆ 2017-01-01 ┆ 2024-12-31 ┆ 2842       │\n",
      "│ S109       ┆ 2017-01-01 ┆ 2024-12-31 ┆ 2701       │\n",
      "│ S112       ┆ 2017-01-01 ┆ 2024-12-31 ┆ 2796       │\n",
      "│ S113       ┆ 2017-01-01 ┆ 2024-12-31 ┆ 2840       │\n",
      "│ S115       ┆ 2017-01-01 ┆ 2024-12-31 ┆ 2791       │\n",
      "│ S116       ┆ 2017-01-01 ┆ 2024-12-31 ┆ 2787       │\n",
      "│ S119       ┆ 2017-01-01 ┆ 2024-12-31 ┆ 2854       │\n",
      "│ S121       ┆ 2017-01-01 ┆ 2024-12-31 ┆ 2793       │\n",
      "│ S123       ┆ 2017-01-01 ┆ 2024-12-31 ┆ 2767       │\n",
      "│ S24        ┆ 2017-01-01 ┆ 2024-12-31 ┆ 2835       │\n",
      "│ S33        ┆ 2017-01-01 ┆ 2024-12-31 ┆ 2794       │\n",
      "│ S35        ┆ 2017-01-01 ┆ 2024-12-31 ┆ 2836       │\n",
      "│ S40        ┆ 2017-01-01 ┆ 2024-12-31 ┆ 2833       │\n",
      "│ S43        ┆ 2017-01-01 ┆ 2024-12-31 ┆ 2852       │\n",
      "│ S50        ┆ 2017-01-01 ┆ 2024-12-31 ┆ 2823       │\n",
      "│ S66        ┆ 2017-01-01 ┆ 2024-12-31 ┆ 2823       │\n",
      "│ S69        ┆ 2017-01-01 ┆ 2024-12-31 ┆ 2723       │\n",
      "│ S71        ┆ 2017-01-01 ┆ 2024-12-31 ┆ 2694       │\n",
      "│ S77        ┆ 2017-01-01 ┆ 2024-12-31 ┆ 2856       │\n",
      "│ S78        ┆ 2017-01-01 ┆ 2024-12-31 ┆ 2857       │\n",
      "│ S79        ┆ 2017-01-01 ┆ 2024-12-31 ┆ 2846       │\n",
      "│ S81        ┆ 2017-01-01 ┆ 2024-12-31 ┆ 2857       │\n",
      "│ S84        ┆ 2017-01-01 ┆ 2024-12-31 ┆ 2752       │\n",
      "│ S88        ┆ 2017-01-01 ┆ 2024-12-31 ┆ 2846       │\n",
      "│ S89        ┆ 2017-01-01 ┆ 2024-12-31 ┆ 2857       │\n",
      "│ S90        ┆ 2017-01-01 ┆ 2024-12-31 ┆ 2837       │\n",
      "│ S900       ┆ 2017-01-01 ┆ 2024-12-31 ┆ 2856       │\n",
      "│ S94        ┆ 2017-01-01 ┆ 2024-12-31 ┆ 2829       │\n",
      "└────────────┴────────────┴────────────┴────────────┘\n"
     ]
    }
   ],
   "source": [
    "# Further filtering to having first and last date as 2017-01-01 and 2024-12-31 respectively\n",
    "df_min_max_date = (df_agg.group_by(\"station_id\")\n",
    "                    .agg(\n",
    "                        pl.min(\"date\").alias(\"min_date\"),\n",
    "                        pl.max(\"date\").alias(\"max_date\"),\n",
    "                        pl.count(\"date\").alias(\"date_count\"))\n",
    ")\n",
    "\n",
    "df_min_max_date = df_min_max_date.filter(\n",
    "    (pl.col(\"min_date\") == \"2017-01-01\") & \n",
    "    (pl.col(\"max_date\") == \"2024-12-31\")\n",
    ")\n",
    "\n",
    "with pl.Config(tbl_rows=50):\n",
    "    print(df_min_max_date) # 30 left, some dates are missing! "
   ]
  },
  {
   "cell_type": "code",
   "execution_count": 104,
   "id": "a70d0f5d",
   "metadata": {},
   "outputs": [],
   "source": [
    "# More filtering to have min and max dates as 2017-01-01 and 2024-12-31 respectively\n",
    "df_agg = df_agg.filter(\n",
    "    pl.col(\"station_id\").is_in(\n",
    "        df_min_max_date.select(pl.col(\"station_id\")).to_series().to_list()\n",
    "        )\n",
    ")"
   ]
  },
  {
   "cell_type": "code",
   "execution_count": 105,
   "id": "93750d57",
   "metadata": {},
   "outputs": [],
   "source": [
    "# Need to fill in the missing dates for each station\n",
    "df_agg = df_agg.with_columns(pl.col(\"date\").cast(pl.Date, strict=False)).set_sorted(\"date\")\n",
    "df_agg_filled = df_agg.upsample(\n",
    "    time_column=\"date\", every=\"1d\", group_by=\"station_id\", maintain_order=True\n",
    ").select(pl.all().forward_fill())\n",
    "\n"
   ]
  },
  {
   "cell_type": "code",
   "execution_count": 106,
   "id": "92a71af6",
   "metadata": {},
   "outputs": [
    {
     "data": {
      "text/plain": [
       "(87660, 5)"
      ]
     },
     "execution_count": 106,
     "metadata": {},
     "output_type": "execute_result"
    }
   ],
   "source": [
    "# Tag whether max of the station is more than 0.01\n",
    "df_agg_filled = df_agg_filled.with_columns(\n",
    "    pl.when(pl.col(\"max_rainfall\") > 0.01)\n",
    "    .then(1)\n",
    "    .otherwise(0)\n",
    "    .alias(\"y\")\n",
    ")\n",
    "df_agg_filled.shape"
   ]
  },
  {
   "cell_type": "code",
   "execution_count": 107,
   "id": "89fab3c0",
   "metadata": {},
   "outputs": [
    {
     "data": {
      "text/html": [
       "<div><style>\n",
       ".dataframe > thead > tr,\n",
       ".dataframe > tbody > tr {\n",
       "  text-align: right;\n",
       "  white-space: pre-wrap;\n",
       "}\n",
       "</style>\n",
       "<small>shape: (9, 3)</small><table border=\"1\" class=\"dataframe\"><thead><tr><th>statistic</th><th>station_id</th><th>rain_days_pct</th></tr><tr><td>str</td><td>str</td><td>f64</td></tr></thead><tbody><tr><td>&quot;count&quot;</td><td>&quot;30&quot;</td><td>30.0</td></tr><tr><td>&quot;null_count&quot;</td><td>&quot;0&quot;</td><td>0.0</td></tr><tr><td>&quot;mean&quot;</td><td>null</td><td>0.531736</td></tr><tr><td>&quot;std&quot;</td><td>null</td><td>0.028909</td></tr><tr><td>&quot;min&quot;</td><td>&quot;S08&quot;</td><td>0.46167</td></tr><tr><td>&quot;25%&quot;</td><td>null</td><td>0.512663</td></tr><tr><td>&quot;50%&quot;</td><td>null</td><td>0.528063</td></tr><tr><td>&quot;75%&quot;</td><td>null</td><td>0.551677</td></tr><tr><td>&quot;max&quot;</td><td>&quot;S94&quot;</td><td>0.585558</td></tr></tbody></table></div>"
      ],
      "text/plain": [
       "shape: (9, 3)\n",
       "┌────────────┬────────────┬───────────────┐\n",
       "│ statistic  ┆ station_id ┆ rain_days_pct │\n",
       "│ ---        ┆ ---        ┆ ---           │\n",
       "│ str        ┆ str        ┆ f64           │\n",
       "╞════════════╪════════════╪═══════════════╡\n",
       "│ count      ┆ 30         ┆ 30.0          │\n",
       "│ null_count ┆ 0          ┆ 0.0           │\n",
       "│ mean       ┆ null       ┆ 0.531736      │\n",
       "│ std        ┆ null       ┆ 0.028909      │\n",
       "│ min        ┆ S08        ┆ 0.46167       │\n",
       "│ 25%        ┆ null       ┆ 0.512663      │\n",
       "│ 50%        ┆ null       ┆ 0.528063      │\n",
       "│ 75%        ┆ null       ┆ 0.551677      │\n",
       "│ max        ┆ S94        ┆ 0.585558      │\n",
       "└────────────┴────────────┴───────────────┘"
      ]
     },
     "execution_count": 107,
     "metadata": {},
     "output_type": "execute_result"
    }
   ],
   "source": [
    "# Count % of rain days distribution per station\n",
    "df_agg_filled.group_by(\"station_id\").agg(\n",
    "    pl.col(\"y\").mean().alias(\"rain_days_pct\"),\n",
    "    pl.col(\"y\").sum().alias(\"rain_days_count\"),\n",
    "    pl.col(\"y\").count().alias(\"total_days_count\")\n",
    ").sort(\"rain_days_pct\", descending=True).head(20) # looks to be around 50%, pretty good\n",
    "\n",
    "df_agg_filled.group_by(\"station_id\").agg(\n",
    "    pl.col(\"y\").mean().alias(\"rain_days_pct\")\n",
    ").describe()  # Ranges from 46% to 58%. Quite nice"
   ]
  },
  {
   "cell_type": "code",
   "execution_count": 112,
   "id": "d7007fd4",
   "metadata": {},
   "outputs": [
    {
     "data": {
      "text/html": [
       "<div><style>\n",
       ".dataframe > thead > tr,\n",
       ".dataframe > tbody > tr {\n",
       "  text-align: right;\n",
       "  white-space: pre-wrap;\n",
       "}\n",
       "</style>\n",
       "<small>shape: (1, 1)</small><table border=\"1\" class=\"dataframe\"><thead><tr><th>station_name</th></tr><tr><td>u32</td></tr></thead><tbody><tr><td>0</td></tr></tbody></table></div>"
      ],
      "text/plain": [
       "shape: (1, 1)\n",
       "┌──────────────┐\n",
       "│ station_name │\n",
       "│ ---          │\n",
       "│ u32          │\n",
       "╞══════════════╡\n",
       "│ 0            │\n",
       "└──────────────┘"
      ]
     },
     "execution_count": 112,
     "metadata": {},
     "output_type": "execute_result"
    }
   ],
   "source": [
    "# joining in the station names\n",
    "df_stations = (df_combined_col.select(\"station_id\", \"station_name\", \n",
    "                                      \"location_longitude\", \"location_latitude\").unique(subset=[\"station_id\", \"station_name\"]).sort(\"station_id\")\n",
    "               .filter(~pl.col(\"station_name\").str.contains(\"S\\\\d\", literal=False)))\n",
    "\n",
    "df_agg_filled_final = df_agg_filled.join(df_stations, on=\"station_id\", how=\"left\")\n",
    "df_agg_filled_final.select(\"station_name\").null_count()  # Should be 0, no nulls in station names"
   ]
  },
  {
   "cell_type": "code",
   "execution_count": 113,
   "id": "efe58701",
   "metadata": {},
   "outputs": [
    {
     "name": "stdout",
     "output_type": "stream",
     "text": [
      "(87660, 5)\n",
      "(87660, 8)\n"
     ]
    }
   ],
   "source": [
    "print(df_agg_filled.shape)\n",
    "print(df_agg_filled_final.shape)\n"
   ]
  },
  {
   "cell_type": "code",
   "execution_count": 114,
   "id": "03ae8ce7",
   "metadata": {},
   "outputs": [
    {
     "data": {
      "text/plain": [
       "['Alexandra Road',\n",
       " 'Ang Mo Kio Avenue 5',\n",
       " 'Bukit Timah Road',\n",
       " 'Clementi Road',\n",
       " 'East Coast Parkway',\n",
       " 'Jurong Pier Road',\n",
       " 'Kent Ridge Road',\n",
       " 'Kim Chuan Road',\n",
       " 'Kranji Way',\n",
       " 'Lim Chu Kang Road',\n",
       " 'Mandai Lake Road',\n",
       " 'Marine Parade Road',\n",
       " 'Nicoll Highway',\n",
       " 'Old Choa Chu Kang Road',\n",
       " 'Old Toh Tuck Road',\n",
       " 'Pasir Ris Street 51',\n",
       " 'Poole Road',\n",
       " 'Punggol Central',\n",
       " 'Seletar Aerospace View',\n",
       " 'Simei Avenue',\n",
       " 'Somerset Road',\n",
       " 'Toa Payoh North',\n",
       " 'Towner Road',\n",
       " 'Tuas Road',\n",
       " 'Tuas South Avenue 3',\n",
       " 'Upper Changi Road North',\n",
       " 'Upper Peirce Reservoir Park',\n",
       " 'Upper Thomson Road',\n",
       " 'West Coast Highway',\n",
       " 'Woodlands Avenue 9']"
      ]
     },
     "execution_count": 114,
     "metadata": {},
     "output_type": "execute_result"
    }
   ],
   "source": [
    "df_agg_filled_final.select(pl.col(\"station_name\")).unique().sort(\"station_name\").to_series().to_list()  # Check unique station names"
   ]
  },
  {
   "cell_type": "code",
   "execution_count": null,
   "id": "e9cd1511",
   "metadata": {},
   "outputs": [],
   "source": []
  }
 ],
 "metadata": {
  "kernelspec": {
   "display_name": "bike-snowflake",
   "language": "python",
   "name": "python3"
  },
  "language_info": {
   "codemirror_mode": {
    "name": "ipython",
    "version": 3
   },
   "file_extension": ".py",
   "mimetype": "text/x-python",
   "name": "python",
   "nbconvert_exporter": "python",
   "pygments_lexer": "ipython3",
   "version": "3.12.11"
  }
 },
 "nbformat": 4,
 "nbformat_minor": 5
}
